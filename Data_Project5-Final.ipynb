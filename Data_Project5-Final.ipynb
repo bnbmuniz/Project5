{
 "cells": [
  {
   "cell_type": "code",
   "execution_count": 1,
   "id": "a7c96d24",
   "metadata": {},
   "outputs": [],
   "source": [
    "import pandas as pd\n",
    "import numpy as np\n",
    "import statsmodels.api as sm\n",
    "from sklearn.metrics import mean_squared_error\n",
    "import numpy as np\n",
    "from functools import reduce\n",
    "from sklearn.preprocessing import StandardScaler\n",
    "import matplotlib.pyplot as plt\n",
    "from statsmodels.tsa.ar_model import AutoReg\n",
    "from sklearn import linear_model\n",
    "from mpl_toolkits.mplot3d import Axes3D"
   ]
  },
  {
   "cell_type": "code",
   "execution_count": 2,
   "id": "3a49da8f",
   "metadata": {},
   "outputs": [],
   "source": [
    "oda_received=pd.read_excel(\"ODA Received.xls\")\n",
    "#oda_received[\"Country Name\"].unique()"
   ]
  },
  {
   "cell_type": "code",
   "execution_count": 3,
   "id": "38cadae4",
   "metadata": {},
   "outputs": [],
   "source": [
    "list_regions=['Fragile and conflict affected situations', 'Heavily indebted poor countries (HIPC)', 'Least developed countries: UN classification', 'Low income', 'Lower middle income']\n",
    "condition=(oda_received[\"Country Name\"]=='Fragile and conflict affected situations')|(oda_received[\"Country Name\"]=='Heavily indebted poor countries (HIPC)')|(oda_received[\"Country Name\"]=='Least developed countries: UN classification')|(oda_received[\"Country Name\"]=='Low income')|(oda_received[\"Country Name\"]=='Lower middle income')\n",
    "oda_rec=oda_received[condition].copy()\n",
    "oda_rec=oda_rec.drop(\"Country Code\", axis=1)\n",
    "#oda_rec"
   ]
  },
  {
   "cell_type": "code",
   "execution_count": 4,
   "id": "2a3444f9",
   "metadata": {},
   "outputs": [],
   "source": [
    "liability=pd.read_excel(\"Liability.xls\")\n",
    "condition=(liability[\"Country Name\"]=='Fragile and conflict affected situations')|(liability[\"Country Name\"]=='Heavily indebted poor countries (HIPC)')|(liability[\"Country Name\"]=='Least developed countries: UN classification')|(liability[\"Country Name\"]=='Low income')|(liability[\"Country Name\"]=='Lower middle income')\n",
    "liab=liability[condition].copy()\n",
    "liab=liab.drop(\"Country Code\", axis=1)\n",
    "#liab"
   ]
  },
  {
   "cell_type": "code",
   "execution_count": 5,
   "id": "b29616e7",
   "metadata": {},
   "outputs": [],
   "source": [
    "gdp=pd.read_excel(\"GDP Recipient.xls\")\n",
    "condition_2=(gdp[\"Country Name\"]=='Fragile and conflict affected situations')|(gdp[\"Country Name\"]=='Heavily indebted poor countries (HIPC)')|(gdp[\"Country Name\"]=='Least developed countries: UN classification')|(gdp[\"Country Name\"]=='Low income')|(gdp[\"Country Name\"]=='Lower middle income')\n",
    "gdp_capita=gdp[condition_2].copy()\n",
    "gdp_capita=gdp_capita.drop(\"Country Code\", axis=1)\n",
    "#gdp_capita"
   ]
  },
  {
   "cell_type": "code",
   "execution_count": 6,
   "id": "29182433",
   "metadata": {},
   "outputs": [],
   "source": [
    "inv=pd.read_excel(\"FDI.xls\")\n",
    "condition_3=(inv[\"Country Name\"]=='Fragile and conflict affected situations')|(inv[\"Country Name\"]=='Heavily indebted poor countries (HIPC)')|(inv[\"Country Name\"]=='Least developed countries: UN classification')|(inv[\"Country Name\"]=='Low income')|(inv[\"Country Name\"]=='Lower middle income')\n",
    "fdi=inv[condition_3].copy()\n",
    "fdi=fdi.drop(\"Country Code\", axis=1)\n",
    "#fdi"
   ]
  },
  {
   "cell_type": "code",
   "execution_count": 7,
   "id": "2ff854f1",
   "metadata": {},
   "outputs": [],
   "source": [
    "inf=pd.read_excel(\"Inflation.xls\")\n",
    "condition_4=(inf[\"Country Name\"]=='Fragile and conflict affected situations')|(inf[\"Country Name\"]=='Heavily indebted poor countries (HIPC)')|(inf[\"Country Name\"]=='Least developed countries: UN classification')|(inf[\"Country Name\"]=='Low income')|(inf[\"Country Name\"]=='Lower middle income')\n",
    "inflation=inf[condition_4].copy()\n",
    "inflation=inflation.drop(\"Country Code\", axis=1)\n",
    "#inflation"
   ]
  },
  {
   "cell_type": "code",
   "execution_count": 8,
   "id": "c2a86a0b",
   "metadata": {},
   "outputs": [],
   "source": [
    "oppenness=pd.read_excel(\"Trade.xls\")\n",
    "condition_5=(oppenness[\"Country Name\"]=='Fragile and conflict affected situations')|(oppenness[\"Country Name\"]=='Heavily indebted poor countries (HIPC)')|(oppenness[\"Country Name\"]=='Least developed countries: UN classification')|(oppenness[\"Country Name\"]=='Low income')|(oppenness[\"Country Name\"]=='Lower middle income')\n",
    "trade=oppenness[condition_5].copy()\n",
    "trade=trade.drop(\"Country Code\", axis=1)\n",
    "#trade"
   ]
  },
  {
   "cell_type": "code",
   "execution_count": 9,
   "id": "eb93d19a",
   "metadata": {},
   "outputs": [],
   "source": [
    "life=pd.read_excel(\"Life Expectancy.xls\")\n",
    "condition_7=(life[\"Country Name\"]=='Fragile and conflict affected situations')|(life[\"Country Name\"]=='Heavily indebted poor countries (HIPC)')|(life[\"Country Name\"]=='Least developed countries: UN classification')|(life[\"Country Name\"]=='Low income')|(life[\"Country Name\"]=='Lower middle income')\n",
    "life_expectancy=life[condition_7].copy()\n",
    "life_expectancy=life_expectancy.drop(\"Country Code\", axis=1)\n",
    "#life_expectancy"
   ]
  },
  {
   "cell_type": "code",
   "execution_count": 10,
   "id": "4fc3d114",
   "metadata": {},
   "outputs": [],
   "source": [
    "debt=pd.read_excel(\"Debt.xls\")\n",
    "condition_9=(debt[\"Country Name\"]=='Fragile and conflict affected situations')|(debt[\"Country Name\"]=='Heavily indebted poor countries (HIPC)')|(debt[\"Country Name\"]=='Least developed countries: UN classification')|(debt[\"Country Name\"]=='Low income')|(debt[\"Country Name\"]=='Lower middle income')\n",
    "debt_policy=debt[condition_9].copy()\n",
    "debt_policy=debt_policy.drop(\"Country Code\", axis=1)\n",
    "#debt_policy"
   ]
  },
  {
   "cell_type": "code",
   "execution_count": 11,
   "id": "34ddae73",
   "metadata": {},
   "outputs": [],
   "source": [
    "labor=pd.read_excel(\"Labor Force.xls\")\n",
    "condition_10=(labor[\"Country Name\"]=='Fragile and conflict affected situations')|(labor[\"Country Name\"]=='Heavily indebted poor countries (HIPC)')|(labor[\"Country Name\"]=='Least developed countries: UN classification')|(labor[\"Country Name\"]=='Low income')|(labor[\"Country Name\"]=='Lower middle income')\n",
    "labor_force=labor[condition_10].copy()\n",
    "labor_force=labor_force.drop(\"Country Code\", axis=1)\n",
    "#labor_force"
   ]
  },
  {
   "cell_type": "code",
   "execution_count": 12,
   "id": "2f7ad07b",
   "metadata": {},
   "outputs": [
    {
     "name": "stderr",
     "output_type": "stream",
     "text": [
      "/var/folders/j7/4yrzqvzn643dv0t5y434hfhw0000gn/T/ipykernel_31885/1333767658.py:4: SettingWithCopyWarning: \n",
      "A value is trying to be set on a copy of a slice from a DataFrame\n",
      "\n",
      "See the caveats in the documentation: https://pandas.pydata.org/pandas-docs/stable/user_guide/indexing.html#returning-a-view-versus-a-copy\n",
      "  oda_received_2010_2019.rename(columns={\"value\":\"ODA Received\"}, inplace=True)\n"
     ]
    },
    {
     "data": {
      "text/html": [
       "<div>\n",
       "<style scoped>\n",
       "    .dataframe tbody tr th:only-of-type {\n",
       "        vertical-align: middle;\n",
       "    }\n",
       "\n",
       "    .dataframe tbody tr th {\n",
       "        vertical-align: top;\n",
       "    }\n",
       "\n",
       "    .dataframe thead th {\n",
       "        text-align: right;\n",
       "    }\n",
       "</style>\n",
       "<table border=\"1\" class=\"dataframe\">\n",
       "  <thead>\n",
       "    <tr style=\"text-align: right;\">\n",
       "      <th></th>\n",
       "      <th>Country Name</th>\n",
       "      <th>variable</th>\n",
       "      <th>ODA Received</th>\n",
       "    </tr>\n",
       "  </thead>\n",
       "  <tbody>\n",
       "    <tr>\n",
       "      <th>250</th>\n",
       "      <td>Fragile and conflict affected situations</td>\n",
       "      <td>2010</td>\n",
       "      <td>3.839381e+10</td>\n",
       "    </tr>\n",
       "    <tr>\n",
       "      <th>251</th>\n",
       "      <td>Heavily indebted poor countries (HIPC)</td>\n",
       "      <td>2010</td>\n",
       "      <td>4.396860e+10</td>\n",
       "    </tr>\n",
       "  </tbody>\n",
       "</table>\n",
       "</div>"
      ],
      "text/plain": [
       "                                 Country Name  variable  ODA Received\n",
       "250  Fragile and conflict affected situations      2010  3.839381e+10\n",
       "251    Heavily indebted poor countries (HIPC)      2010  4.396860e+10"
      ]
     },
     "execution_count": 12,
     "metadata": {},
     "output_type": "execute_result"
    }
   ],
   "source": [
    "oda_filter=pd.melt(oda_rec, id_vars=['Country Name'])\n",
    "oda_filter[\"variable\"] = oda_filter[\"variable\"].astype(int)\n",
    "oda_received_2010_2019=oda_filter[(oda_filter[\"variable\"]>=2010)&(oda_filter[\"variable\"]<=2019)]\n",
    "oda_received_2010_2019.rename(columns={\"value\":\"ODA Received\"}, inplace=True)\n",
    "oda_received_2010_2019.head(2)"
   ]
  },
  {
   "cell_type": "code",
   "execution_count": 13,
   "id": "ad4352a5",
   "metadata": {},
   "outputs": [
    {
     "name": "stderr",
     "output_type": "stream",
     "text": [
      "/var/folders/j7/4yrzqvzn643dv0t5y434hfhw0000gn/T/ipykernel_31885/561382229.py:4: SettingWithCopyWarning: \n",
      "A value is trying to be set on a copy of a slice from a DataFrame\n",
      "\n",
      "See the caveats in the documentation: https://pandas.pydata.org/pandas-docs/stable/user_guide/indexing.html#returning-a-view-versus-a-copy\n",
      "  liability_received_2010_2019.rename(columns={\"value\":\"Transparency_Accountability_Corruption_PublicSector_Rating\"}, inplace=True)\n"
     ]
    },
    {
     "data": {
      "text/html": [
       "<div>\n",
       "<style scoped>\n",
       "    .dataframe tbody tr th:only-of-type {\n",
       "        vertical-align: middle;\n",
       "    }\n",
       "\n",
       "    .dataframe tbody tr th {\n",
       "        vertical-align: top;\n",
       "    }\n",
       "\n",
       "    .dataframe thead th {\n",
       "        text-align: right;\n",
       "    }\n",
       "</style>\n",
       "<table border=\"1\" class=\"dataframe\">\n",
       "  <thead>\n",
       "    <tr style=\"text-align: right;\">\n",
       "      <th></th>\n",
       "      <th>Country Name</th>\n",
       "      <th>variable</th>\n",
       "      <th>Transparency_Accountability_Corruption_PublicSector_Rating</th>\n",
       "    </tr>\n",
       "  </thead>\n",
       "  <tbody>\n",
       "    <tr>\n",
       "      <th>250</th>\n",
       "      <td>Fragile and conflict affected situations</td>\n",
       "      <td>2010</td>\n",
       "      <td>2.574074</td>\n",
       "    </tr>\n",
       "    <tr>\n",
       "      <th>251</th>\n",
       "      <td>Heavily indebted poor countries (HIPC)</td>\n",
       "      <td>2010</td>\n",
       "      <td>2.657895</td>\n",
       "    </tr>\n",
       "  </tbody>\n",
       "</table>\n",
       "</div>"
      ],
      "text/plain": [
       "                                 Country Name  variable  \\\n",
       "250  Fragile and conflict affected situations      2010   \n",
       "251    Heavily indebted poor countries (HIPC)      2010   \n",
       "\n",
       "     Transparency_Accountability_Corruption_PublicSector_Rating  \n",
       "250                                           2.574074           \n",
       "251                                           2.657895           "
      ]
     },
     "execution_count": 13,
     "metadata": {},
     "output_type": "execute_result"
    }
   ],
   "source": [
    "liability_filter=pd.melt(liab, id_vars=['Country Name'])\n",
    "liability_filter[\"variable\"] = liability_filter[\"variable\"].astype(int)\n",
    "liability_received_2010_2019=liability_filter[(liability_filter[\"variable\"]>=2010)&(liability_filter[\"variable\"]<=2019)]\n",
    "liability_received_2010_2019.rename(columns={\"value\":\"Transparency_Accountability_Corruption_PublicSector_Rating\"}, inplace=True)\n",
    "liability_received_2010_2019.head(2)"
   ]
  },
  {
   "cell_type": "code",
   "execution_count": 14,
   "id": "99149f9a",
   "metadata": {},
   "outputs": [
    {
     "name": "stderr",
     "output_type": "stream",
     "text": [
      "/var/folders/j7/4yrzqvzn643dv0t5y434hfhw0000gn/T/ipykernel_31885/1106224513.py:4: SettingWithCopyWarning: \n",
      "A value is trying to be set on a copy of a slice from a DataFrame\n",
      "\n",
      "See the caveats in the documentation: https://pandas.pydata.org/pandas-docs/stable/user_guide/indexing.html#returning-a-view-versus-a-copy\n",
      "  gdp_capita_2010_2019.rename(columns={\"value\":\"GDP Recipient\"}, inplace=True)\n"
     ]
    },
    {
     "data": {
      "text/html": [
       "<div>\n",
       "<style scoped>\n",
       "    .dataframe tbody tr th:only-of-type {\n",
       "        vertical-align: middle;\n",
       "    }\n",
       "\n",
       "    .dataframe tbody tr th {\n",
       "        vertical-align: top;\n",
       "    }\n",
       "\n",
       "    .dataframe thead th {\n",
       "        text-align: right;\n",
       "    }\n",
       "</style>\n",
       "<table border=\"1\" class=\"dataframe\">\n",
       "  <thead>\n",
       "    <tr style=\"text-align: right;\">\n",
       "      <th></th>\n",
       "      <th>Country Name</th>\n",
       "      <th>variable</th>\n",
       "      <th>GDP Recipient</th>\n",
       "    </tr>\n",
       "  </thead>\n",
       "  <tbody>\n",
       "    <tr>\n",
       "      <th>250</th>\n",
       "      <td>Fragile and conflict affected situations</td>\n",
       "      <td>2010</td>\n",
       "      <td>1.689111e+12</td>\n",
       "    </tr>\n",
       "    <tr>\n",
       "      <th>251</th>\n",
       "      <td>Heavily indebted poor countries (HIPC)</td>\n",
       "      <td>2010</td>\n",
       "      <td>5.049254e+11</td>\n",
       "    </tr>\n",
       "  </tbody>\n",
       "</table>\n",
       "</div>"
      ],
      "text/plain": [
       "                                 Country Name  variable  GDP Recipient\n",
       "250  Fragile and conflict affected situations      2010   1.689111e+12\n",
       "251    Heavily indebted poor countries (HIPC)      2010   5.049254e+11"
      ]
     },
     "execution_count": 14,
     "metadata": {},
     "output_type": "execute_result"
    }
   ],
   "source": [
    "gdp_filter=pd.melt(gdp_capita, id_vars=['Country Name'])\n",
    "gdp_filter[\"variable\"] = gdp_filter[\"variable\"].astype(int)\n",
    "gdp_capita_2010_2019=gdp_filter[(gdp_filter[\"variable\"]>=2010)&(gdp_filter[\"variable\"]<=2019)]\n",
    "gdp_capita_2010_2019.rename(columns={\"value\":\"GDP Recipient\"}, inplace=True)\n",
    "gdp_capita_2010_2019.head(2)"
   ]
  },
  {
   "cell_type": "code",
   "execution_count": 15,
   "id": "ba756085",
   "metadata": {},
   "outputs": [
    {
     "name": "stderr",
     "output_type": "stream",
     "text": [
      "/var/folders/j7/4yrzqvzn643dv0t5y434hfhw0000gn/T/ipykernel_31885/2513161150.py:4: SettingWithCopyWarning: \n",
      "A value is trying to be set on a copy of a slice from a DataFrame\n",
      "\n",
      "See the caveats in the documentation: https://pandas.pydata.org/pandas-docs/stable/user_guide/indexing.html#returning-a-view-versus-a-copy\n",
      "  fdi_2010_2019.rename(columns={\"value\":\"FDI (%GDP)\"}, inplace=True)\n"
     ]
    },
    {
     "data": {
      "text/html": [
       "<div>\n",
       "<style scoped>\n",
       "    .dataframe tbody tr th:only-of-type {\n",
       "        vertical-align: middle;\n",
       "    }\n",
       "\n",
       "    .dataframe tbody tr th {\n",
       "        vertical-align: top;\n",
       "    }\n",
       "\n",
       "    .dataframe thead th {\n",
       "        text-align: right;\n",
       "    }\n",
       "</style>\n",
       "<table border=\"1\" class=\"dataframe\">\n",
       "  <thead>\n",
       "    <tr style=\"text-align: right;\">\n",
       "      <th></th>\n",
       "      <th>Country Name</th>\n",
       "      <th>variable</th>\n",
       "      <th>FDI (%GDP)</th>\n",
       "    </tr>\n",
       "  </thead>\n",
       "  <tbody>\n",
       "    <tr>\n",
       "      <th>250</th>\n",
       "      <td>Fragile and conflict affected situations</td>\n",
       "      <td>2010</td>\n",
       "      <td>1.976136</td>\n",
       "    </tr>\n",
       "    <tr>\n",
       "      <th>251</th>\n",
       "      <td>Heavily indebted poor countries (HIPC)</td>\n",
       "      <td>2010</td>\n",
       "      <td>4.701794</td>\n",
       "    </tr>\n",
       "  </tbody>\n",
       "</table>\n",
       "</div>"
      ],
      "text/plain": [
       "                                 Country Name  variable  FDI (%GDP)\n",
       "250  Fragile and conflict affected situations      2010    1.976136\n",
       "251    Heavily indebted poor countries (HIPC)      2010    4.701794"
      ]
     },
     "execution_count": 15,
     "metadata": {},
     "output_type": "execute_result"
    }
   ],
   "source": [
    "fdi_filter=pd.melt(fdi, id_vars=['Country Name'])\n",
    "fdi_filter[\"variable\"] = fdi_filter[\"variable\"].astype(int)\n",
    "fdi_2010_2019=fdi_filter[(fdi_filter[\"variable\"]>=2010)&(fdi_filter[\"variable\"]<=2019)]\n",
    "fdi_2010_2019.rename(columns={\"value\":\"FDI (%GDP)\"}, inplace=True)\n",
    "fdi_2010_2019.head(2)"
   ]
  },
  {
   "cell_type": "code",
   "execution_count": 16,
   "id": "07924717",
   "metadata": {},
   "outputs": [
    {
     "name": "stderr",
     "output_type": "stream",
     "text": [
      "/var/folders/j7/4yrzqvzn643dv0t5y434hfhw0000gn/T/ipykernel_31885/4139895453.py:4: SettingWithCopyWarning: \n",
      "A value is trying to be set on a copy of a slice from a DataFrame\n",
      "\n",
      "See the caveats in the documentation: https://pandas.pydata.org/pandas-docs/stable/user_guide/indexing.html#returning-a-view-versus-a-copy\n",
      "  inflation_2010_2019.rename(columns={\"value\":\"Inflation\"}, inplace=True)\n"
     ]
    },
    {
     "data": {
      "text/html": [
       "<div>\n",
       "<style scoped>\n",
       "    .dataframe tbody tr th:only-of-type {\n",
       "        vertical-align: middle;\n",
       "    }\n",
       "\n",
       "    .dataframe tbody tr th {\n",
       "        vertical-align: top;\n",
       "    }\n",
       "\n",
       "    .dataframe thead th {\n",
       "        text-align: right;\n",
       "    }\n",
       "</style>\n",
       "<table border=\"1\" class=\"dataframe\">\n",
       "  <thead>\n",
       "    <tr style=\"text-align: right;\">\n",
       "      <th></th>\n",
       "      <th>Country Name</th>\n",
       "      <th>variable</th>\n",
       "      <th>Inflation</th>\n",
       "    </tr>\n",
       "  </thead>\n",
       "  <tbody>\n",
       "    <tr>\n",
       "      <th>250</th>\n",
       "      <td>Fragile and conflict affected situations</td>\n",
       "      <td>2010</td>\n",
       "      <td>3.480508</td>\n",
       "    </tr>\n",
       "    <tr>\n",
       "      <th>251</th>\n",
       "      <td>Heavily indebted poor countries (HIPC)</td>\n",
       "      <td>2010</td>\n",
       "      <td>4.698891</td>\n",
       "    </tr>\n",
       "  </tbody>\n",
       "</table>\n",
       "</div>"
      ],
      "text/plain": [
       "                                 Country Name  variable  Inflation\n",
       "250  Fragile and conflict affected situations      2010   3.480508\n",
       "251    Heavily indebted poor countries (HIPC)      2010   4.698891"
      ]
     },
     "execution_count": 16,
     "metadata": {},
     "output_type": "execute_result"
    }
   ],
   "source": [
    "inflation_filter=pd.melt(inflation, id_vars=['Country Name'])\n",
    "inflation_filter[\"variable\"] = inflation_filter[\"variable\"].astype(int)\n",
    "inflation_2010_2019=inflation_filter[(inflation_filter[\"variable\"]>=2010)&(inflation_filter[\"variable\"]<=2019)]\n",
    "inflation_2010_2019.rename(columns={\"value\":\"Inflation\"}, inplace=True)\n",
    "inflation_2010_2019.head(2)"
   ]
  },
  {
   "cell_type": "code",
   "execution_count": 17,
   "id": "85d08117",
   "metadata": {},
   "outputs": [
    {
     "name": "stderr",
     "output_type": "stream",
     "text": [
      "/var/folders/j7/4yrzqvzn643dv0t5y434hfhw0000gn/T/ipykernel_31885/3531069834.py:4: SettingWithCopyWarning: \n",
      "A value is trying to be set on a copy of a slice from a DataFrame\n",
      "\n",
      "See the caveats in the documentation: https://pandas.pydata.org/pandas-docs/stable/user_guide/indexing.html#returning-a-view-versus-a-copy\n",
      "  trade_2010_2019.rename(columns={\"value\":\"Trade (%GDP)\"}, inplace=True)\n"
     ]
    },
    {
     "data": {
      "text/html": [
       "<div>\n",
       "<style scoped>\n",
       "    .dataframe tbody tr th:only-of-type {\n",
       "        vertical-align: middle;\n",
       "    }\n",
       "\n",
       "    .dataframe tbody tr th {\n",
       "        vertical-align: top;\n",
       "    }\n",
       "\n",
       "    .dataframe thead th {\n",
       "        text-align: right;\n",
       "    }\n",
       "</style>\n",
       "<table border=\"1\" class=\"dataframe\">\n",
       "  <thead>\n",
       "    <tr style=\"text-align: right;\">\n",
       "      <th></th>\n",
       "      <th>Country Name</th>\n",
       "      <th>variable</th>\n",
       "      <th>Trade (%GDP)</th>\n",
       "    </tr>\n",
       "  </thead>\n",
       "  <tbody>\n",
       "    <tr>\n",
       "      <th>250</th>\n",
       "      <td>Fragile and conflict affected situations</td>\n",
       "      <td>2010</td>\n",
       "      <td>56.316139</td>\n",
       "    </tr>\n",
       "    <tr>\n",
       "      <th>251</th>\n",
       "      <td>Heavily indebted poor countries (HIPC)</td>\n",
       "      <td>2010</td>\n",
       "      <td>63.986598</td>\n",
       "    </tr>\n",
       "  </tbody>\n",
       "</table>\n",
       "</div>"
      ],
      "text/plain": [
       "                                 Country Name  variable  Trade (%GDP)\n",
       "250  Fragile and conflict affected situations      2010     56.316139\n",
       "251    Heavily indebted poor countries (HIPC)      2010     63.986598"
      ]
     },
     "execution_count": 17,
     "metadata": {},
     "output_type": "execute_result"
    }
   ],
   "source": [
    "trade_filter=pd.melt(trade, id_vars=['Country Name'])\n",
    "trade_filter[\"variable\"] = trade_filter[\"variable\"].astype(int)\n",
    "trade_2010_2019=trade_filter[(trade_filter[\"variable\"]>=2010)&(trade_filter[\"variable\"]<=2019)]\n",
    "trade_2010_2019.rename(columns={\"value\":\"Trade (%GDP)\"}, inplace=True)\n",
    "trade_2010_2019.head(2)"
   ]
  },
  {
   "cell_type": "code",
   "execution_count": 18,
   "id": "fd7c66a4",
   "metadata": {
    "scrolled": true
   },
   "outputs": [
    {
     "name": "stderr",
     "output_type": "stream",
     "text": [
      "/var/folders/j7/4yrzqvzn643dv0t5y434hfhw0000gn/T/ipykernel_31885/117189239.py:4: SettingWithCopyWarning: \n",
      "A value is trying to be set on a copy of a slice from a DataFrame\n",
      "\n",
      "See the caveats in the documentation: https://pandas.pydata.org/pandas-docs/stable/user_guide/indexing.html#returning-a-view-versus-a-copy\n",
      "  life_expectancy_2010_2019.rename(columns={\"value\":\"Life Expectancy (Years)\"}, inplace=True)\n"
     ]
    },
    {
     "data": {
      "text/html": [
       "<div>\n",
       "<style scoped>\n",
       "    .dataframe tbody tr th:only-of-type {\n",
       "        vertical-align: middle;\n",
       "    }\n",
       "\n",
       "    .dataframe tbody tr th {\n",
       "        vertical-align: top;\n",
       "    }\n",
       "\n",
       "    .dataframe thead th {\n",
       "        text-align: right;\n",
       "    }\n",
       "</style>\n",
       "<table border=\"1\" class=\"dataframe\">\n",
       "  <thead>\n",
       "    <tr style=\"text-align: right;\">\n",
       "      <th></th>\n",
       "      <th>Country Name</th>\n",
       "      <th>variable</th>\n",
       "      <th>Life Expectancy (Years)</th>\n",
       "    </tr>\n",
       "  </thead>\n",
       "  <tbody>\n",
       "    <tr>\n",
       "      <th>250</th>\n",
       "      <td>Fragile and conflict affected situations</td>\n",
       "      <td>2010</td>\n",
       "      <td>59.120581</td>\n",
       "    </tr>\n",
       "    <tr>\n",
       "      <th>251</th>\n",
       "      <td>Heavily indebted poor countries (HIPC)</td>\n",
       "      <td>2010</td>\n",
       "      <td>58.858947</td>\n",
       "    </tr>\n",
       "  </tbody>\n",
       "</table>\n",
       "</div>"
      ],
      "text/plain": [
       "                                 Country Name  variable  \\\n",
       "250  Fragile and conflict affected situations      2010   \n",
       "251    Heavily indebted poor countries (HIPC)      2010   \n",
       "\n",
       "     Life Expectancy (Years)  \n",
       "250                59.120581  \n",
       "251                58.858947  "
      ]
     },
     "execution_count": 18,
     "metadata": {},
     "output_type": "execute_result"
    }
   ],
   "source": [
    "life_expectancy_filter=pd.melt(life_expectancy, id_vars=['Country Name'])\n",
    "life_expectancy_filter[\"variable\"] = life_expectancy_filter[\"variable\"].astype(int)\n",
    "life_expectancy_2010_2019=life_expectancy_filter[(life_expectancy_filter[\"variable\"]>=2010)&(life_expectancy_filter[\"variable\"]<=2019)]\n",
    "life_expectancy_2010_2019.rename(columns={\"value\":\"Life Expectancy (Years)\"}, inplace=True)\n",
    "life_expectancy_2010_2019.head(2)"
   ]
  },
  {
   "cell_type": "code",
   "execution_count": 19,
   "id": "e9b2cdb8",
   "metadata": {},
   "outputs": [
    {
     "name": "stderr",
     "output_type": "stream",
     "text": [
      "/var/folders/j7/4yrzqvzn643dv0t5y434hfhw0000gn/T/ipykernel_31885/2307743404.py:4: SettingWithCopyWarning: \n",
      "A value is trying to be set on a copy of a slice from a DataFrame\n",
      "\n",
      "See the caveats in the documentation: https://pandas.pydata.org/pandas-docs/stable/user_guide/indexing.html#returning-a-view-versus-a-copy\n",
      "  debt_policy_2010_2019.rename(columns={\"value\":\"Debt Policy Rating\"}, inplace=True)\n"
     ]
    },
    {
     "data": {
      "text/html": [
       "<div>\n",
       "<style scoped>\n",
       "    .dataframe tbody tr th:only-of-type {\n",
       "        vertical-align: middle;\n",
       "    }\n",
       "\n",
       "    .dataframe tbody tr th {\n",
       "        vertical-align: top;\n",
       "    }\n",
       "\n",
       "    .dataframe thead th {\n",
       "        text-align: right;\n",
       "    }\n",
       "</style>\n",
       "<table border=\"1\" class=\"dataframe\">\n",
       "  <thead>\n",
       "    <tr style=\"text-align: right;\">\n",
       "      <th></th>\n",
       "      <th>Country Name</th>\n",
       "      <th>variable</th>\n",
       "      <th>Debt Policy Rating</th>\n",
       "    </tr>\n",
       "  </thead>\n",
       "  <tbody>\n",
       "    <tr>\n",
       "      <th>250</th>\n",
       "      <td>Fragile and conflict affected situations</td>\n",
       "      <td>2010</td>\n",
       "      <td>3.166667</td>\n",
       "    </tr>\n",
       "    <tr>\n",
       "      <th>251</th>\n",
       "      <td>Heavily indebted poor countries (HIPC)</td>\n",
       "      <td>2010</td>\n",
       "      <td>3.236842</td>\n",
       "    </tr>\n",
       "  </tbody>\n",
       "</table>\n",
       "</div>"
      ],
      "text/plain": [
       "                                 Country Name  variable  Debt Policy Rating\n",
       "250  Fragile and conflict affected situations      2010            3.166667\n",
       "251    Heavily indebted poor countries (HIPC)      2010            3.236842"
      ]
     },
     "execution_count": 19,
     "metadata": {},
     "output_type": "execute_result"
    }
   ],
   "source": [
    "debt_policy_filter=pd.melt(debt_policy, id_vars=['Country Name'])\n",
    "debt_policy_filter[\"variable\"] = debt_policy_filter[\"variable\"].astype(int)\n",
    "debt_policy_2010_2019=debt_policy_filter[(debt_policy_filter[\"variable\"]>=2010)&(debt_policy_filter[\"variable\"]<=2019)]\n",
    "debt_policy_2010_2019.rename(columns={\"value\":\"Debt Policy Rating\"}, inplace=True)\n",
    "debt_policy_2010_2019.head(2)"
   ]
  },
  {
   "cell_type": "code",
   "execution_count": 20,
   "id": "0cacd2a1",
   "metadata": {},
   "outputs": [
    {
     "name": "stderr",
     "output_type": "stream",
     "text": [
      "/var/folders/j7/4yrzqvzn643dv0t5y434hfhw0000gn/T/ipykernel_31885/574819677.py:4: SettingWithCopyWarning: \n",
      "A value is trying to be set on a copy of a slice from a DataFrame\n",
      "\n",
      "See the caveats in the documentation: https://pandas.pydata.org/pandas-docs/stable/user_guide/indexing.html#returning-a-view-versus-a-copy\n",
      "  labor_force_2010_2019.rename(columns={\"value\":\"Labor Force (%Population)\"}, inplace=True)\n"
     ]
    },
    {
     "data": {
      "text/html": [
       "<div>\n",
       "<style scoped>\n",
       "    .dataframe tbody tr th:only-of-type {\n",
       "        vertical-align: middle;\n",
       "    }\n",
       "\n",
       "    .dataframe tbody tr th {\n",
       "        vertical-align: top;\n",
       "    }\n",
       "\n",
       "    .dataframe thead th {\n",
       "        text-align: right;\n",
       "    }\n",
       "</style>\n",
       "<table border=\"1\" class=\"dataframe\">\n",
       "  <thead>\n",
       "    <tr style=\"text-align: right;\">\n",
       "      <th></th>\n",
       "      <th>Country Name</th>\n",
       "      <th>variable</th>\n",
       "      <th>Labor Force (%Population)</th>\n",
       "    </tr>\n",
       "  </thead>\n",
       "  <tbody>\n",
       "    <tr>\n",
       "      <th>250</th>\n",
       "      <td>Fragile and conflict affected situations</td>\n",
       "      <td>2010</td>\n",
       "      <td>64.843223</td>\n",
       "    </tr>\n",
       "    <tr>\n",
       "      <th>251</th>\n",
       "      <td>Heavily indebted poor countries (HIPC)</td>\n",
       "      <td>2010</td>\n",
       "      <td>71.819260</td>\n",
       "    </tr>\n",
       "  </tbody>\n",
       "</table>\n",
       "</div>"
      ],
      "text/plain": [
       "                                 Country Name  variable  \\\n",
       "250  Fragile and conflict affected situations      2010   \n",
       "251    Heavily indebted poor countries (HIPC)      2010   \n",
       "\n",
       "     Labor Force (%Population)  \n",
       "250                  64.843223  \n",
       "251                  71.819260  "
      ]
     },
     "execution_count": 20,
     "metadata": {},
     "output_type": "execute_result"
    }
   ],
   "source": [
    "labor_force_filter=pd.melt(labor_force, id_vars=['Country Name'])\n",
    "labor_force_filter[\"variable\"] = labor_force_filter[\"variable\"].astype(int)\n",
    "labor_force_2010_2019=labor_force_filter[(labor_force_filter[\"variable\"]>=2010)&(labor_force_filter[\"variable\"]<=2019)]\n",
    "labor_force_2010_2019.rename(columns={\"value\":\"Labor Force (%Population)\"}, inplace=True)\n",
    "labor_force_2010_2019.head(2)"
   ]
  },
  {
   "cell_type": "code",
   "execution_count": 21,
   "id": "ec718b46",
   "metadata": {
    "scrolled": false
   },
   "outputs": [
    {
     "name": "stderr",
     "output_type": "stream",
     "text": [
      "/var/folders/j7/4yrzqvzn643dv0t5y434hfhw0000gn/T/ipykernel_31885/4050704968.py:9: FutureWarning: As the xlwt package is no longer maintained, the xlwt engine will be removed in a future version of pandas. This is the only engine in pandas that supports writing in the xls format. Install openpyxl and write to an xlsx file instead. You can set the option io.excel.xls.writer to 'xlwt' to silence this warning. While this option is deprecated and will also raise a warning, it can be globally set and the warning suppressed.\n",
      "  df_merge.to_excel(\"Full_Data.xls\")\n"
     ]
    }
   ],
   "source": [
    "\n",
    "list_data=[oda_received_2010_2019, labor_force_2010_2019, debt_policy_2010_2019, life_expectancy_2010_2019,\n",
    "           trade_2010_2019, inflation_2010_2019, fdi_2010_2019, gdp_capita_2010_2019, liability_received_2010_2019]\n",
    "\n",
    "#gdp_capita_2010_2019.merge(, how='inner', on=['Country Name', \"variable\"])\n",
    "\n",
    "df_merge = reduce(lambda left, right: pd.merge(left, right, on=['Country Name', \"variable\"], how=\"inner\"), list_data)\n",
    "df_merge.rename(columns={\"variable\":\"Year\"}, inplace=True)\n",
    "df_merge.head()\n",
    "df_merge.to_excel(\"Full_Data.xls\")"
   ]
  },
  {
   "cell_type": "code",
   "execution_count": 22,
   "id": "53267b4d",
   "metadata": {},
   "outputs": [],
   "source": [
    "##CHEAT SHEET: \n",
    "\n",
    "##P-value\n",
    "#If 95% of the t distribution is closer to the mean than the t-value on the coefficient you are looking at, \n",
    "#then you have a P value of 5%. This is also reffered to a significance level of 5%. The P value is the \n",
    "#probability of seeing a result as extreme as the one you are getting (a t value as large as yours) in a \n",
    "#collection of random data in which the variable had no effect. A P of 5% or less is the generally \n",
    "#accepted point at which to reject the null hypothesis. With a P value of 5% (or .05) there is only a 5% \n",
    "#chance that results you are seeing would have come up in a random distribution, so you can say with a 95% \n",
    "#probability of being correct that the variable is having some effect, assuming your model is specified correctly.\n",
    "\n",
    "#The 95% confidence interval for your coefficients shown by many regression packages gives you the same information. \n",
    "#You can be 95% confident that the real, underlying value of the coefficient that you are estimating falls somewhere \n",
    "#in that 95% confidence interval, so if the interval does not contain 0, your P value will be .05 or less.\n",
    "\n",
    "#Note that the size of the P value for a coefficient says nothing about the size of the effect that variable \n",
    "#is having on your dependent variable - it is possible to have a highly significant result (very small P-value) \n",
    "#for a miniscule effect.\n",
    "\n",
    "#In regression with multiple independent variables, the coefficient tells you how much the dependent variable \n",
    "#is expected to increase when that independent variable increases by one, holding all the other independent \n",
    "#variables constant. Remember to keep in mind the units which your variables are measured in.\n",
    "\n",
    "##R-squared\n",
    "\n",
    "#The R-squared of the regression is the fraction of the variation in your dependent variable that is accounted \n",
    "#for (or predicted by) your independent variables. (In regression with a single independent variable, it is the \n",
    "#same as the square of the correlation between your dependent and independent variable.) The R-squared is generally \n",
    "#of secondary importance, unless your main concern is using the regression equation to make accurate predictions. \n",
    "#The P value tells you how confident you can be that each individual variable has some correlation with the dependent \n",
    "#variable, which is the important thing.\n",
    "\n",
    "#Another number to be aware of is the P value for the regression as a whole. Because your independent variables\n",
    "#may be correlated, a condition known as multicollinearity, the coefficients on individual variables may be \n",
    "#insignificant when the regression as a whole is significant. Intuitively, this is because highly correlated \n",
    "#independent variables are explaining the same part of the variation in the dependent variable, so their \n",
    "#explanatory power and the significance of their coefficients is \"divided up\" between them."
   ]
  },
  {
   "cell_type": "code",
   "execution_count": null,
   "id": "69f9b1e1",
   "metadata": {},
   "outputs": [],
   "source": []
  },
  {
   "cell_type": "code",
   "execution_count": null,
   "id": "d8708a94",
   "metadata": {},
   "outputs": [],
   "source": []
  },
  {
   "cell_type": "code",
   "execution_count": null,
   "id": "df8a7864",
   "metadata": {},
   "outputs": [],
   "source": []
  },
  {
   "cell_type": "code",
   "execution_count": null,
   "id": "010c881f",
   "metadata": {},
   "outputs": [],
   "source": []
  },
  {
   "cell_type": "code",
   "execution_count": 23,
   "id": "e8332ce0",
   "metadata": {},
   "outputs": [],
   "source": [
    "###ANALYSIS FOR Fragile and conflict affected situations"
   ]
  },
  {
   "cell_type": "code",
   "execution_count": 24,
   "id": "d7635cd8",
   "metadata": {},
   "outputs": [
    {
     "data": {
      "text/html": [
       "<div>\n",
       "<style scoped>\n",
       "    .dataframe tbody tr th:only-of-type {\n",
       "        vertical-align: middle;\n",
       "    }\n",
       "\n",
       "    .dataframe tbody tr th {\n",
       "        vertical-align: top;\n",
       "    }\n",
       "\n",
       "    .dataframe thead th {\n",
       "        text-align: right;\n",
       "    }\n",
       "</style>\n",
       "<table border=\"1\" class=\"dataframe\">\n",
       "  <thead>\n",
       "    <tr style=\"text-align: right;\">\n",
       "      <th></th>\n",
       "      <th>Year</th>\n",
       "      <th>ODA Received</th>\n",
       "      <th>Labor Force (%Population)</th>\n",
       "      <th>Debt Policy Rating</th>\n",
       "      <th>Life Expectancy (Years)</th>\n",
       "      <th>Trade (%GDP)</th>\n",
       "      <th>Inflation</th>\n",
       "      <th>FDI (%GDP)</th>\n",
       "      <th>GDP Recipient</th>\n",
       "      <th>Transparency_Accountability_Corruption_PublicSector_Rating</th>\n",
       "    </tr>\n",
       "  </thead>\n",
       "  <tbody>\n",
       "    <tr>\n",
       "      <th>count</th>\n",
       "      <td>10.00000</td>\n",
       "      <td>1.000000e+01</td>\n",
       "      <td>10.000000</td>\n",
       "      <td>10.000000</td>\n",
       "      <td>10.000000</td>\n",
       "      <td>10.000000</td>\n",
       "      <td>10.000000</td>\n",
       "      <td>10.000000</td>\n",
       "      <td>1.000000e+01</td>\n",
       "      <td>10.000000</td>\n",
       "    </tr>\n",
       "    <tr>\n",
       "      <th>mean</th>\n",
       "      <td>2014.50000</td>\n",
       "      <td>4.571475e+10</td>\n",
       "      <td>63.423083</td>\n",
       "      <td>2.980457</td>\n",
       "      <td>60.935553</td>\n",
       "      <td>51.186789</td>\n",
       "      <td>2.963943</td>\n",
       "      <td>1.841479</td>\n",
       "      <td>1.637483e+12</td>\n",
       "      <td>2.582876</td>\n",
       "    </tr>\n",
       "    <tr>\n",
       "      <th>std</th>\n",
       "      <td>3.02765</td>\n",
       "      <td>7.968928e+09</td>\n",
       "      <td>0.782910</td>\n",
       "      <td>0.156563</td>\n",
       "      <td>1.135814</td>\n",
       "      <td>5.185176</td>\n",
       "      <td>1.470797</td>\n",
       "      <td>0.480353</td>\n",
       "      <td>1.688434e+11</td>\n",
       "      <td>0.040864</td>\n",
       "    </tr>\n",
       "    <tr>\n",
       "      <th>min</th>\n",
       "      <td>2010.00000</td>\n",
       "      <td>3.763224e+10</td>\n",
       "      <td>62.752769</td>\n",
       "      <td>2.758065</td>\n",
       "      <td>59.120581</td>\n",
       "      <td>42.876645</td>\n",
       "      <td>1.476720</td>\n",
       "      <td>1.066310</td>\n",
       "      <td>1.407795e+12</td>\n",
       "      <td>2.500000</td>\n",
       "    </tr>\n",
       "    <tr>\n",
       "      <th>25%</th>\n",
       "      <td>2012.25000</td>\n",
       "      <td>4.004361e+10</td>\n",
       "      <td>62.900580</td>\n",
       "      <td>2.825000</td>\n",
       "      <td>60.122202</td>\n",
       "      <td>47.639478</td>\n",
       "      <td>1.932807</td>\n",
       "      <td>1.546953</td>\n",
       "      <td>1.544693e+12</td>\n",
       "      <td>2.568519</td>\n",
       "    </tr>\n",
       "    <tr>\n",
       "      <th>50%</th>\n",
       "      <td>2014.50000</td>\n",
       "      <td>4.262454e+10</td>\n",
       "      <td>63.066350</td>\n",
       "      <td>3.056989</td>\n",
       "      <td>61.032256</td>\n",
       "      <td>51.741190</td>\n",
       "      <td>2.335915</td>\n",
       "      <td>1.790504</td>\n",
       "      <td>1.617298e+12</td>\n",
       "      <td>2.583333</td>\n",
       "    </tr>\n",
       "    <tr>\n",
       "      <th>75%</th>\n",
       "      <td>2016.75000</td>\n",
       "      <td>5.109749e+10</td>\n",
       "      <td>63.770602</td>\n",
       "      <td>3.083333</td>\n",
       "      <td>61.812213</td>\n",
       "      <td>54.756087</td>\n",
       "      <td>3.468777</td>\n",
       "      <td>2.038660</td>\n",
       "      <td>1.725873e+12</td>\n",
       "      <td>2.599194</td>\n",
       "    </tr>\n",
       "    <tr>\n",
       "      <th>max</th>\n",
       "      <td>2019.00000</td>\n",
       "      <td>5.873507e+10</td>\n",
       "      <td>64.843223</td>\n",
       "      <td>3.166667</td>\n",
       "      <td>62.480088</td>\n",
       "      <td>59.423832</td>\n",
       "      <td>5.478296</td>\n",
       "      <td>2.637052</td>\n",
       "      <td>1.958696e+12</td>\n",
       "      <td>2.642857</td>\n",
       "    </tr>\n",
       "  </tbody>\n",
       "</table>\n",
       "</div>"
      ],
      "text/plain": [
       "             Year  ODA Received  Labor Force (%Population)  \\\n",
       "count    10.00000  1.000000e+01                  10.000000   \n",
       "mean   2014.50000  4.571475e+10                  63.423083   \n",
       "std       3.02765  7.968928e+09                   0.782910   \n",
       "min    2010.00000  3.763224e+10                  62.752769   \n",
       "25%    2012.25000  4.004361e+10                  62.900580   \n",
       "50%    2014.50000  4.262454e+10                  63.066350   \n",
       "75%    2016.75000  5.109749e+10                  63.770602   \n",
       "max    2019.00000  5.873507e+10                  64.843223   \n",
       "\n",
       "       Debt Policy Rating  Life Expectancy (Years)  Trade (%GDP)  Inflation  \\\n",
       "count           10.000000                10.000000     10.000000  10.000000   \n",
       "mean             2.980457                60.935553     51.186789   2.963943   \n",
       "std              0.156563                 1.135814      5.185176   1.470797   \n",
       "min              2.758065                59.120581     42.876645   1.476720   \n",
       "25%              2.825000                60.122202     47.639478   1.932807   \n",
       "50%              3.056989                61.032256     51.741190   2.335915   \n",
       "75%              3.083333                61.812213     54.756087   3.468777   \n",
       "max              3.166667                62.480088     59.423832   5.478296   \n",
       "\n",
       "       FDI (%GDP)  GDP Recipient  \\\n",
       "count   10.000000   1.000000e+01   \n",
       "mean     1.841479   1.637483e+12   \n",
       "std      0.480353   1.688434e+11   \n",
       "min      1.066310   1.407795e+12   \n",
       "25%      1.546953   1.544693e+12   \n",
       "50%      1.790504   1.617298e+12   \n",
       "75%      2.038660   1.725873e+12   \n",
       "max      2.637052   1.958696e+12   \n",
       "\n",
       "       Transparency_Accountability_Corruption_PublicSector_Rating  \n",
       "count                                          10.000000           \n",
       "mean                                            2.582876           \n",
       "std                                             0.040864           \n",
       "min                                             2.500000           \n",
       "25%                                             2.568519           \n",
       "50%                                             2.583333           \n",
       "75%                                             2.599194           \n",
       "max                                             2.642857           "
      ]
     },
     "execution_count": 24,
     "metadata": {},
     "output_type": "execute_result"
    }
   ],
   "source": [
    "df_merge[df_merge[\"Country Name\"]==\"Fragile and conflict affected situations\"].describe()"
   ]
  },
  {
   "cell_type": "code",
   "execution_count": 25,
   "id": "e54e077c",
   "metadata": {
    "scrolled": false
   },
   "outputs": [
    {
     "data": {
      "text/html": [
       "<div>\n",
       "<style scoped>\n",
       "    .dataframe tbody tr th:only-of-type {\n",
       "        vertical-align: middle;\n",
       "    }\n",
       "\n",
       "    .dataframe tbody tr th {\n",
       "        vertical-align: top;\n",
       "    }\n",
       "\n",
       "    .dataframe thead th {\n",
       "        text-align: right;\n",
       "    }\n",
       "</style>\n",
       "<table border=\"1\" class=\"dataframe\">\n",
       "  <thead>\n",
       "    <tr style=\"text-align: right;\">\n",
       "      <th></th>\n",
       "      <th>Year</th>\n",
       "      <th>ODA Received</th>\n",
       "      <th>Labor Force (%Population)</th>\n",
       "      <th>Debt Policy Rating</th>\n",
       "      <th>Life Expectancy (Years)</th>\n",
       "      <th>Trade (%GDP)</th>\n",
       "      <th>Inflation</th>\n",
       "      <th>FDI (%GDP)</th>\n",
       "      <th>GDP Recipient</th>\n",
       "      <th>Transparency_Accountability_Corruption_PublicSector_Rating</th>\n",
       "    </tr>\n",
       "  </thead>\n",
       "  <tbody>\n",
       "    <tr>\n",
       "      <th>Year</th>\n",
       "      <td>1.000000</td>\n",
       "      <td>0.897524</td>\n",
       "      <td>-0.876975</td>\n",
       "      <td>-0.913003</td>\n",
       "      <td>0.996947</td>\n",
       "      <td>-0.593967</td>\n",
       "      <td>-0.693710</td>\n",
       "      <td>-0.558457</td>\n",
       "      <td>-0.336582</td>\n",
       "      <td>-0.608375</td>\n",
       "    </tr>\n",
       "    <tr>\n",
       "      <th>ODA Received</th>\n",
       "      <td>0.897524</td>\n",
       "      <td>1.000000</td>\n",
       "      <td>-0.636804</td>\n",
       "      <td>-0.926542</td>\n",
       "      <td>0.868181</td>\n",
       "      <td>-0.270663</td>\n",
       "      <td>-0.487233</td>\n",
       "      <td>-0.461779</td>\n",
       "      <td>-0.323433</td>\n",
       "      <td>-0.642785</td>\n",
       "    </tr>\n",
       "    <tr>\n",
       "      <th>Labor Force (%Population)</th>\n",
       "      <td>-0.876975</td>\n",
       "      <td>-0.636804</td>\n",
       "      <td>1.000000</td>\n",
       "      <td>0.713049</td>\n",
       "      <td>-0.909699</td>\n",
       "      <td>0.830290</td>\n",
       "      <td>0.780976</td>\n",
       "      <td>0.615576</td>\n",
       "      <td>0.189676</td>\n",
       "      <td>0.473534</td>\n",
       "    </tr>\n",
       "    <tr>\n",
       "      <th>Debt Policy Rating</th>\n",
       "      <td>-0.913003</td>\n",
       "      <td>-0.926542</td>\n",
       "      <td>0.713049</td>\n",
       "      <td>1.000000</td>\n",
       "      <td>-0.894692</td>\n",
       "      <td>0.407232</td>\n",
       "      <td>0.465103</td>\n",
       "      <td>0.309666</td>\n",
       "      <td>0.455059</td>\n",
       "      <td>0.733230</td>\n",
       "    </tr>\n",
       "    <tr>\n",
       "      <th>Life Expectancy (Years)</th>\n",
       "      <td>0.996947</td>\n",
       "      <td>0.868181</td>\n",
       "      <td>-0.909699</td>\n",
       "      <td>-0.894692</td>\n",
       "      <td>1.000000</td>\n",
       "      <td>-0.639771</td>\n",
       "      <td>-0.714919</td>\n",
       "      <td>-0.567277</td>\n",
       "      <td>-0.328500</td>\n",
       "      <td>-0.587466</td>\n",
       "    </tr>\n",
       "    <tr>\n",
       "      <th>Trade (%GDP)</th>\n",
       "      <td>-0.593967</td>\n",
       "      <td>-0.270663</td>\n",
       "      <td>0.830290</td>\n",
       "      <td>0.407232</td>\n",
       "      <td>-0.639771</td>\n",
       "      <td>1.000000</td>\n",
       "      <td>0.839596</td>\n",
       "      <td>0.455617</td>\n",
       "      <td>0.362945</td>\n",
       "      <td>0.420211</td>\n",
       "    </tr>\n",
       "    <tr>\n",
       "      <th>Inflation</th>\n",
       "      <td>-0.693710</td>\n",
       "      <td>-0.487233</td>\n",
       "      <td>0.780976</td>\n",
       "      <td>0.465103</td>\n",
       "      <td>-0.714919</td>\n",
       "      <td>0.839596</td>\n",
       "      <td>1.000000</td>\n",
       "      <td>0.743563</td>\n",
       "      <td>0.188707</td>\n",
       "      <td>0.505991</td>\n",
       "    </tr>\n",
       "    <tr>\n",
       "      <th>FDI (%GDP)</th>\n",
       "      <td>-0.558457</td>\n",
       "      <td>-0.461779</td>\n",
       "      <td>0.615576</td>\n",
       "      <td>0.309666</td>\n",
       "      <td>-0.567277</td>\n",
       "      <td>0.455617</td>\n",
       "      <td>0.743563</td>\n",
       "      <td>1.000000</td>\n",
       "      <td>-0.386884</td>\n",
       "      <td>0.112826</td>\n",
       "    </tr>\n",
       "    <tr>\n",
       "      <th>GDP Recipient</th>\n",
       "      <td>-0.336582</td>\n",
       "      <td>-0.323433</td>\n",
       "      <td>0.189676</td>\n",
       "      <td>0.455059</td>\n",
       "      <td>-0.328500</td>\n",
       "      <td>0.362945</td>\n",
       "      <td>0.188707</td>\n",
       "      <td>-0.386884</td>\n",
       "      <td>1.000000</td>\n",
       "      <td>0.489107</td>\n",
       "    </tr>\n",
       "    <tr>\n",
       "      <th>Transparency_Accountability_Corruption_PublicSector_Rating</th>\n",
       "      <td>-0.608375</td>\n",
       "      <td>-0.642785</td>\n",
       "      <td>0.473534</td>\n",
       "      <td>0.733230</td>\n",
       "      <td>-0.587466</td>\n",
       "      <td>0.420211</td>\n",
       "      <td>0.505991</td>\n",
       "      <td>0.112826</td>\n",
       "      <td>0.489107</td>\n",
       "      <td>1.000000</td>\n",
       "    </tr>\n",
       "  </tbody>\n",
       "</table>\n",
       "</div>"
      ],
      "text/plain": [
       "                                                        Year  ODA Received  \\\n",
       "Year                                                1.000000      0.897524   \n",
       "ODA Received                                        0.897524      1.000000   \n",
       "Labor Force (%Population)                          -0.876975     -0.636804   \n",
       "Debt Policy Rating                                 -0.913003     -0.926542   \n",
       "Life Expectancy (Years)                             0.996947      0.868181   \n",
       "Trade (%GDP)                                       -0.593967     -0.270663   \n",
       "Inflation                                          -0.693710     -0.487233   \n",
       "FDI (%GDP)                                         -0.558457     -0.461779   \n",
       "GDP Recipient                                      -0.336582     -0.323433   \n",
       "Transparency_Accountability_Corruption_PublicSe... -0.608375     -0.642785   \n",
       "\n",
       "                                                    Labor Force (%Population)  \\\n",
       "Year                                                                -0.876975   \n",
       "ODA Received                                                        -0.636804   \n",
       "Labor Force (%Population)                                            1.000000   \n",
       "Debt Policy Rating                                                   0.713049   \n",
       "Life Expectancy (Years)                                             -0.909699   \n",
       "Trade (%GDP)                                                         0.830290   \n",
       "Inflation                                                            0.780976   \n",
       "FDI (%GDP)                                                           0.615576   \n",
       "GDP Recipient                                                        0.189676   \n",
       "Transparency_Accountability_Corruption_PublicSe...                   0.473534   \n",
       "\n",
       "                                                    Debt Policy Rating  \\\n",
       "Year                                                         -0.913003   \n",
       "ODA Received                                                 -0.926542   \n",
       "Labor Force (%Population)                                     0.713049   \n",
       "Debt Policy Rating                                            1.000000   \n",
       "Life Expectancy (Years)                                      -0.894692   \n",
       "Trade (%GDP)                                                  0.407232   \n",
       "Inflation                                                     0.465103   \n",
       "FDI (%GDP)                                                    0.309666   \n",
       "GDP Recipient                                                 0.455059   \n",
       "Transparency_Accountability_Corruption_PublicSe...            0.733230   \n",
       "\n",
       "                                                    Life Expectancy (Years)  \\\n",
       "Year                                                               0.996947   \n",
       "ODA Received                                                       0.868181   \n",
       "Labor Force (%Population)                                         -0.909699   \n",
       "Debt Policy Rating                                                -0.894692   \n",
       "Life Expectancy (Years)                                            1.000000   \n",
       "Trade (%GDP)                                                      -0.639771   \n",
       "Inflation                                                         -0.714919   \n",
       "FDI (%GDP)                                                        -0.567277   \n",
       "GDP Recipient                                                     -0.328500   \n",
       "Transparency_Accountability_Corruption_PublicSe...                -0.587466   \n",
       "\n",
       "                                                    Trade (%GDP)  Inflation  \\\n",
       "Year                                                   -0.593967  -0.693710   \n",
       "ODA Received                                           -0.270663  -0.487233   \n",
       "Labor Force (%Population)                               0.830290   0.780976   \n",
       "Debt Policy Rating                                      0.407232   0.465103   \n",
       "Life Expectancy (Years)                                -0.639771  -0.714919   \n",
       "Trade (%GDP)                                            1.000000   0.839596   \n",
       "Inflation                                               0.839596   1.000000   \n",
       "FDI (%GDP)                                              0.455617   0.743563   \n",
       "GDP Recipient                                           0.362945   0.188707   \n",
       "Transparency_Accountability_Corruption_PublicSe...      0.420211   0.505991   \n",
       "\n",
       "                                                    FDI (%GDP)  GDP Recipient  \\\n",
       "Year                                                 -0.558457      -0.336582   \n",
       "ODA Received                                         -0.461779      -0.323433   \n",
       "Labor Force (%Population)                             0.615576       0.189676   \n",
       "Debt Policy Rating                                    0.309666       0.455059   \n",
       "Life Expectancy (Years)                              -0.567277      -0.328500   \n",
       "Trade (%GDP)                                          0.455617       0.362945   \n",
       "Inflation                                             0.743563       0.188707   \n",
       "FDI (%GDP)                                            1.000000      -0.386884   \n",
       "GDP Recipient                                        -0.386884       1.000000   \n",
       "Transparency_Accountability_Corruption_PublicSe...    0.112826       0.489107   \n",
       "\n",
       "                                                    Transparency_Accountability_Corruption_PublicSector_Rating  \n",
       "Year                                                                                        -0.608375           \n",
       "ODA Received                                                                                -0.642785           \n",
       "Labor Force (%Population)                                                                    0.473534           \n",
       "Debt Policy Rating                                                                           0.733230           \n",
       "Life Expectancy (Years)                                                                     -0.587466           \n",
       "Trade (%GDP)                                                                                 0.420211           \n",
       "Inflation                                                                                    0.505991           \n",
       "FDI (%GDP)                                                                                   0.112826           \n",
       "GDP Recipient                                                                                0.489107           \n",
       "Transparency_Accountability_Corruption_PublicSe...                                           1.000000           "
      ]
     },
     "execution_count": 25,
     "metadata": {},
     "output_type": "execute_result"
    }
   ],
   "source": [
    "df_merge[df_merge[\"Country Name\"]==\"Fragile and conflict affected situations\"].corr()"
   ]
  },
  {
   "cell_type": "code",
   "execution_count": 26,
   "id": "e723f70f",
   "metadata": {},
   "outputs": [],
   "source": [
    "##Observations: \n",
    "##1) Analysing GDP, we see that only FDI has a weak corretalion with it. \n",
    "##2) FDI has a relatevely strong negatively corr with ODA received. That means that if we increase ODA, the GDP decreases\n",
    "##3) GDP has littler (almost none) corr with FDI\n",
    "##4) ODA has a strong negatively corr with liability, which means the higher the rate, the lower ODA -- weird. Same with debt rate\n",
    "##ODA is not that correlated with trade (oppenness to the market)"
   ]
  },
  {
   "cell_type": "code",
   "execution_count": 27,
   "id": "3689e107",
   "metadata": {},
   "outputs": [],
   "source": [
    "df_fragile=df_merge[df_merge[\"Country Name\"]==\"Fragile and conflict affected situations\"]\n",
    "#df_fragile.head(2)"
   ]
  },
  {
   "cell_type": "code",
   "execution_count": 28,
   "id": "73f55826",
   "metadata": {},
   "outputs": [
    {
     "data": {
      "text/plain": [
       "Index(['Country Name', 'Year', 'ODA Received', 'Labor Force (%Population)',\n",
       "       'Debt Policy Rating', 'Life Expectancy (Years)', 'Trade (%GDP)',\n",
       "       'Inflation', 'FDI (%GDP)', 'GDP Recipient',\n",
       "       'Transparency_Accountability_Corruption_PublicSector_Rating'],\n",
       "      dtype='object')"
      ]
     },
     "execution_count": 28,
     "metadata": {},
     "output_type": "execute_result"
    }
   ],
   "source": [
    "df_fragile.columns"
   ]
  },
  {
   "cell_type": "code",
   "execution_count": 29,
   "id": "eaa659db",
   "metadata": {},
   "outputs": [
    {
     "name": "stderr",
     "output_type": "stream",
     "text": [
      "/var/folders/j7/4yrzqvzn643dv0t5y434hfhw0000gn/T/ipykernel_31885/2933065546.py:1: FutureWarning: As the xlwt package is no longer maintained, the xlwt engine will be removed in a future version of pandas. This is the only engine in pandas that supports writing in the xls format. Install openpyxl and write to an xlsx file instead. You can set the option io.excel.xls.writer to 'xlwt' to silence this warning. While this option is deprecated and will also raise a warning, it can be globally set and the warning suppressed.\n",
      "  df_fragile.to_excel(\"df_fragile.xls\")\n"
     ]
    }
   ],
   "source": [
    "df_fragile.to_excel(\"df_fragile.xls\")"
   ]
  },
  {
   "cell_type": "code",
   "execution_count": 30,
   "id": "c8a3005b",
   "metadata": {
    "scrolled": true
   },
   "outputs": [
    {
     "name": "stdout",
     "output_type": "stream",
     "text": [
      "0.9999999999999784\n"
     ]
    }
   ],
   "source": [
    "model_fragile = linear_model.LinearRegression()\n",
    "X_fragile = df_fragile[[\"Year\", \"FDI (%GDP)\", \"ODA Received\", \"Labor Force (%Population)\", \"Life Expectancy (Years)\", \"Trade (%GDP)\", \"Inflation\", \"Transparency_Accountability_Corruption_PublicSector_Rating\", \"Debt Policy Rating\"]]\n",
    "y_fragile = df_fragile['GDP Recipient']\n",
    "result_fragile = model_fragile.fit(X_fragile,y_fragile)\n",
    "\n",
    "print(result_fragile.score(X_fragile,y_fragile))"
   ]
  },
  {
   "cell_type": "code",
   "execution_count": 31,
   "id": "3f58f08f",
   "metadata": {},
   "outputs": [
    {
     "data": {
      "text/html": [
       "<div>\n",
       "<style scoped>\n",
       "    .dataframe tbody tr th:only-of-type {\n",
       "        vertical-align: middle;\n",
       "    }\n",
       "\n",
       "    .dataframe tbody tr th {\n",
       "        vertical-align: top;\n",
       "    }\n",
       "\n",
       "    .dataframe thead th {\n",
       "        text-align: right;\n",
       "    }\n",
       "</style>\n",
       "<table border=\"1\" class=\"dataframe\">\n",
       "  <thead>\n",
       "    <tr style=\"text-align: right;\">\n",
       "      <th></th>\n",
       "      <th>Year</th>\n",
       "      <th>FDI (%GDP)</th>\n",
       "      <th>ODA Received</th>\n",
       "      <th>Labor Force (%Population)</th>\n",
       "      <th>Life Expectancy (Years)</th>\n",
       "      <th>Trade (%GDP)</th>\n",
       "      <th>Inflation</th>\n",
       "      <th>Transparency_Accountability_Corruption_PublicSector_Rating</th>\n",
       "      <th>Debt Policy Rating</th>\n",
       "    </tr>\n",
       "  </thead>\n",
       "  <tbody>\n",
       "    <tr>\n",
       "      <th>45</th>\n",
       "      <td>2019</td>\n",
       "      <td>1.392875</td>\n",
       "      <td>5.873507e+10</td>\n",
       "      <td>62.888556</td>\n",
       "      <td>62.480088</td>\n",
       "      <td>51.799468</td>\n",
       "      <td>2.377587</td>\n",
       "      <td>2.548387</td>\n",
       "      <td>2.758065</td>\n",
       "    </tr>\n",
       "  </tbody>\n",
       "</table>\n",
       "</div>"
      ],
      "text/plain": [
       "    Year  FDI (%GDP)  ODA Received  Labor Force (%Population)  \\\n",
       "45  2019    1.392875  5.873507e+10                  62.888556   \n",
       "\n",
       "    Life Expectancy (Years)  Trade (%GDP)  Inflation  \\\n",
       "45                62.480088     51.799468   2.377587   \n",
       "\n",
       "    Transparency_Accountability_Corruption_PublicSector_Rating  \\\n",
       "45                                           2.548387            \n",
       "\n",
       "    Debt Policy Rating  \n",
       "45            2.758065  "
      ]
     },
     "metadata": {},
     "output_type": "display_data"
    },
    {
     "name": "stdout",
     "output_type": "stream",
     "text": [
      "45    1.661766e+12\n",
      "Name: GDP Recipient, dtype: float64\n"
     ]
    },
    {
     "data": {
      "text/plain": [
       "array([1.66176578e+12])"
      ]
     },
     "execution_count": 31,
     "metadata": {},
     "output_type": "execute_result"
    }
   ],
   "source": [
    "display(X_fragile[-1:])\n",
    "print(y_fragile[-1:])\n",
    "result_fragile.predict(X_fragile[-1:])"
   ]
  },
  {
   "cell_type": "code",
   "execution_count": 32,
   "id": "078e0537",
   "metadata": {},
   "outputs": [
    {
     "data": {
      "text/plain": [
       "array([ 1.00549472e+12,  1.22172432e+10, -2.96891041e+01, -1.09713140e+12,\n",
       "       -3.13911278e+12,  7.44531510e+10, -1.25397744e+11,  1.86340887e+12,\n",
       "       -4.44022978e+11])"
      ]
     },
     "execution_count": 32,
     "metadata": {},
     "output_type": "execute_result"
    }
   ],
   "source": [
    "result_fragile.coef_"
   ]
  },
  {
   "cell_type": "code",
   "execution_count": 33,
   "id": "26b0f523",
   "metadata": {},
   "outputs": [
    {
     "data": {
      "text/plain": [
       "-1768658786430311.8"
      ]
     },
     "execution_count": 33,
     "metadata": {},
     "output_type": "execute_result"
    }
   ],
   "source": [
    "result_fragile.intercept_"
   ]
  },
  {
   "cell_type": "code",
   "execution_count": 34,
   "id": "70e57c39",
   "metadata": {},
   "outputs": [],
   "source": [
    "##we can see that in this case the coef of ODA is significant but negative in the regression line. The other variables\n",
    "##have more strong coef, like life expec, liability, FDI. "
   ]
  },
  {
   "cell_type": "code",
   "execution_count": 35,
   "id": "d8121866",
   "metadata": {},
   "outputs": [
    {
     "data": {
      "text/plain": [
       "23587.628095489443"
      ]
     },
     "execution_count": 35,
     "metadata": {},
     "output_type": "execute_result"
    }
   ],
   "source": [
    "np.sqrt(mean_squared_error(y_fragile, model_fragile.predict(X_fragile)))\n",
    "\n",
    "##that means that my model is making an error by only 23587 dollars which is really small\n",
    "##our model predicts really well"
   ]
  },
  {
   "cell_type": "code",
   "execution_count": 36,
   "id": "10a03abb",
   "metadata": {},
   "outputs": [
    {
     "name": "stdout",
     "output_type": "stream",
     "text": [
      "0.10460866251661016\n"
     ]
    },
    {
     "data": {
      "text/html": [
       "<div>\n",
       "<style scoped>\n",
       "    .dataframe tbody tr th:only-of-type {\n",
       "        vertical-align: middle;\n",
       "    }\n",
       "\n",
       "    .dataframe tbody tr th {\n",
       "        vertical-align: top;\n",
       "    }\n",
       "\n",
       "    .dataframe thead th {\n",
       "        text-align: right;\n",
       "    }\n",
       "</style>\n",
       "<table border=\"1\" class=\"dataframe\">\n",
       "  <thead>\n",
       "    <tr style=\"text-align: right;\">\n",
       "      <th></th>\n",
       "      <th>ODA Received</th>\n",
       "    </tr>\n",
       "  </thead>\n",
       "  <tbody>\n",
       "    <tr>\n",
       "      <th>45</th>\n",
       "      <td>5.873507e+10</td>\n",
       "    </tr>\n",
       "  </tbody>\n",
       "</table>\n",
       "</div>"
      ],
      "text/plain": [
       "    ODA Received\n",
       "45  5.873507e+10"
      ]
     },
     "metadata": {},
     "output_type": "display_data"
    },
    {
     "name": "stdout",
     "output_type": "stream",
     "text": [
      "45    1.661766e+12\n",
      "Name: GDP Recipient, dtype: float64\n"
     ]
    },
    {
     "data": {
      "text/plain": [
       "array([1.54825727e+12])"
      ]
     },
     "execution_count": 36,
     "metadata": {},
     "output_type": "execute_result"
    }
   ],
   "source": [
    "#Lets try to do a regression with ODA only\n",
    "\n",
    "\n",
    "model_ODA_fragile = linear_model.LinearRegression()\n",
    "X_ODA_fragile = df_fragile[[\"ODA Received\"]]\n",
    "y_ODA_fragile = df_fragile['GDP Recipient']\n",
    "result_ODA_fragile = model_ODA_fragile.fit(X_ODA_fragile,y_ODA_fragile)\n",
    "\n",
    "print(result_ODA_fragile.score(X_ODA_fragile,y_ODA_fragile))\n",
    "display(X_ODA_fragile[-1:])\n",
    "print(y_ODA_fragile[-1:])\n",
    "result_ODA_fragile.predict(X_ODA_fragile[-1:])\n",
    "\n",
    "##our model is not that good since R-squared is small, and the coef of ODA continues small, so it doesnt explain GDP that much"
   ]
  },
  {
   "cell_type": "code",
   "execution_count": 37,
   "id": "5b352a96",
   "metadata": {},
   "outputs": [
    {
     "data": {
      "text/plain": [
       "array([-6.85279895])"
      ]
     },
     "execution_count": 37,
     "metadata": {},
     "output_type": "execute_result"
    }
   ],
   "source": [
    "result_ODA_fragile.coef_"
   ]
  },
  {
   "cell_type": "code",
   "execution_count": null,
   "id": "fe7178b2",
   "metadata": {},
   "outputs": [],
   "source": []
  },
  {
   "cell_type": "code",
   "execution_count": null,
   "id": "3a7b8fcc",
   "metadata": {},
   "outputs": [],
   "source": []
  },
  {
   "cell_type": "code",
   "execution_count": null,
   "id": "5f6efab1",
   "metadata": {},
   "outputs": [],
   "source": []
  },
  {
   "cell_type": "code",
   "execution_count": null,
   "id": "5452bd07",
   "metadata": {},
   "outputs": [],
   "source": []
  },
  {
   "cell_type": "code",
   "execution_count": null,
   "id": "d6cfbe02",
   "metadata": {},
   "outputs": [],
   "source": []
  },
  {
   "cell_type": "code",
   "execution_count": 38,
   "id": "a6cdb9a3",
   "metadata": {},
   "outputs": [],
   "source": [
    "###ANALYSIS FOR Heavily indebted poor countries (HIPC)"
   ]
  },
  {
   "cell_type": "code",
   "execution_count": 39,
   "id": "ea41b8cc",
   "metadata": {},
   "outputs": [
    {
     "data": {
      "text/html": [
       "<div>\n",
       "<style scoped>\n",
       "    .dataframe tbody tr th:only-of-type {\n",
       "        vertical-align: middle;\n",
       "    }\n",
       "\n",
       "    .dataframe tbody tr th {\n",
       "        vertical-align: top;\n",
       "    }\n",
       "\n",
       "    .dataframe thead th {\n",
       "        text-align: right;\n",
       "    }\n",
       "</style>\n",
       "<table border=\"1\" class=\"dataframe\">\n",
       "  <thead>\n",
       "    <tr style=\"text-align: right;\">\n",
       "      <th></th>\n",
       "      <th>Year</th>\n",
       "      <th>ODA Received</th>\n",
       "      <th>Labor Force (%Population)</th>\n",
       "      <th>Debt Policy Rating</th>\n",
       "      <th>Life Expectancy (Years)</th>\n",
       "      <th>Trade (%GDP)</th>\n",
       "      <th>Inflation</th>\n",
       "      <th>FDI (%GDP)</th>\n",
       "      <th>GDP Recipient</th>\n",
       "      <th>Transparency_Accountability_Corruption_PublicSector_Rating</th>\n",
       "    </tr>\n",
       "  </thead>\n",
       "  <tbody>\n",
       "    <tr>\n",
       "      <th>count</th>\n",
       "      <td>10.00000</td>\n",
       "      <td>1.000000e+01</td>\n",
       "      <td>10.000000</td>\n",
       "      <td>10.000000</td>\n",
       "      <td>10.000000</td>\n",
       "      <td>10.000000</td>\n",
       "      <td>10.000000</td>\n",
       "      <td>10.000000</td>\n",
       "      <td>1.000000e+01</td>\n",
       "      <td>10.000000</td>\n",
       "    </tr>\n",
       "    <tr>\n",
       "      <th>mean</th>\n",
       "      <td>2014.50000</td>\n",
       "      <td>4.077596e+10</td>\n",
       "      <td>70.762612</td>\n",
       "      <td>3.266856</td>\n",
       "      <td>61.420539</td>\n",
       "      <td>58.242670</td>\n",
       "      <td>4.572376</td>\n",
       "      <td>4.466506</td>\n",
       "      <td>6.588416e+11</td>\n",
       "      <td>2.679801</td>\n",
       "    </tr>\n",
       "    <tr>\n",
       "      <th>std</th>\n",
       "      <td>3.02765</td>\n",
       "      <td>2.764753e+09</td>\n",
       "      <td>0.562371</td>\n",
       "      <td>0.098871</td>\n",
       "      <td>1.567590</td>\n",
       "      <td>5.041891</td>\n",
       "      <td>1.242817</td>\n",
       "      <td>0.766065</td>\n",
       "      <td>9.058799e+10</td>\n",
       "      <td>0.032966</td>\n",
       "    </tr>\n",
       "    <tr>\n",
       "      <th>min</th>\n",
       "      <td>2010.00000</td>\n",
       "      <td>3.660734e+10</td>\n",
       "      <td>70.206722</td>\n",
       "      <td>3.118421</td>\n",
       "      <td>58.858947</td>\n",
       "      <td>52.794768</td>\n",
       "      <td>2.685374</td>\n",
       "      <td>3.420102</td>\n",
       "      <td>5.049254e+11</td>\n",
       "      <td>2.631579</td>\n",
       "    </tr>\n",
       "    <tr>\n",
       "      <th>25%</th>\n",
       "      <td>2012.25000</td>\n",
       "      <td>3.876375e+10</td>\n",
       "      <td>70.306938</td>\n",
       "      <td>3.187500</td>\n",
       "      <td>60.317508</td>\n",
       "      <td>53.600741</td>\n",
       "      <td>3.823017</td>\n",
       "      <td>3.802923</td>\n",
       "      <td>5.968616e+11</td>\n",
       "      <td>2.658962</td>\n",
       "    </tr>\n",
       "    <tr>\n",
       "      <th>50%</th>\n",
       "      <td>2014.50000</td>\n",
       "      <td>4.064372e+10</td>\n",
       "      <td>70.560671</td>\n",
       "      <td>3.279872</td>\n",
       "      <td>61.593634</td>\n",
       "      <td>57.008678</td>\n",
       "      <td>4.681777</td>\n",
       "      <td>4.413247</td>\n",
       "      <td>6.643159e+11</td>\n",
       "      <td>2.666607</td>\n",
       "    </tr>\n",
       "    <tr>\n",
       "      <th>75%</th>\n",
       "      <td>2016.75000</td>\n",
       "      <td>4.347785e+10</td>\n",
       "      <td>71.059186</td>\n",
       "      <td>3.342105</td>\n",
       "      <td>62.642325</td>\n",
       "      <td>63.218593</td>\n",
       "      <td>5.115412</td>\n",
       "      <td>5.010521</td>\n",
       "      <td>7.120882e+11</td>\n",
       "      <td>2.697368</td>\n",
       "    </tr>\n",
       "    <tr>\n",
       "      <th>max</th>\n",
       "      <td>2019.00000</td>\n",
       "      <td>4.415181e+10</td>\n",
       "      <td>71.819260</td>\n",
       "      <td>3.394737</td>\n",
       "      <td>63.486455</td>\n",
       "      <td>65.010992</td>\n",
       "      <td>6.429397</td>\n",
       "      <td>5.664416</td>\n",
       "      <td>7.898317e+11</td>\n",
       "      <td>2.736842</td>\n",
       "    </tr>\n",
       "  </tbody>\n",
       "</table>\n",
       "</div>"
      ],
      "text/plain": [
       "             Year  ODA Received  Labor Force (%Population)  \\\n",
       "count    10.00000  1.000000e+01                  10.000000   \n",
       "mean   2014.50000  4.077596e+10                  70.762612   \n",
       "std       3.02765  2.764753e+09                   0.562371   \n",
       "min    2010.00000  3.660734e+10                  70.206722   \n",
       "25%    2012.25000  3.876375e+10                  70.306938   \n",
       "50%    2014.50000  4.064372e+10                  70.560671   \n",
       "75%    2016.75000  4.347785e+10                  71.059186   \n",
       "max    2019.00000  4.415181e+10                  71.819260   \n",
       "\n",
       "       Debt Policy Rating  Life Expectancy (Years)  Trade (%GDP)  Inflation  \\\n",
       "count           10.000000                10.000000     10.000000  10.000000   \n",
       "mean             3.266856                61.420539     58.242670   4.572376   \n",
       "std              0.098871                 1.567590      5.041891   1.242817   \n",
       "min              3.118421                58.858947     52.794768   2.685374   \n",
       "25%              3.187500                60.317508     53.600741   3.823017   \n",
       "50%              3.279872                61.593634     57.008678   4.681777   \n",
       "75%              3.342105                62.642325     63.218593   5.115412   \n",
       "max              3.394737                63.486455     65.010992   6.429397   \n",
       "\n",
       "       FDI (%GDP)  GDP Recipient  \\\n",
       "count   10.000000   1.000000e+01   \n",
       "mean     4.466506   6.588416e+11   \n",
       "std      0.766065   9.058799e+10   \n",
       "min      3.420102   5.049254e+11   \n",
       "25%      3.802923   5.968616e+11   \n",
       "50%      4.413247   6.643159e+11   \n",
       "75%      5.010521   7.120882e+11   \n",
       "max      5.664416   7.898317e+11   \n",
       "\n",
       "       Transparency_Accountability_Corruption_PublicSector_Rating  \n",
       "count                                          10.000000           \n",
       "mean                                            2.679801           \n",
       "std                                             0.032966           \n",
       "min                                             2.631579           \n",
       "25%                                             2.658962           \n",
       "50%                                             2.666607           \n",
       "75%                                             2.697368           \n",
       "max                                             2.736842           "
      ]
     },
     "execution_count": 39,
     "metadata": {},
     "output_type": "execute_result"
    }
   ],
   "source": [
    "df_merge[df_merge[\"Country Name\"]==\"Heavily indebted poor countries (HIPC)\"].describe()"
   ]
  },
  {
   "cell_type": "code",
   "execution_count": 40,
   "id": "30cd3148",
   "metadata": {},
   "outputs": [
    {
     "data": {
      "text/html": [
       "<div>\n",
       "<style scoped>\n",
       "    .dataframe tbody tr th:only-of-type {\n",
       "        vertical-align: middle;\n",
       "    }\n",
       "\n",
       "    .dataframe tbody tr th {\n",
       "        vertical-align: top;\n",
       "    }\n",
       "\n",
       "    .dataframe thead th {\n",
       "        text-align: right;\n",
       "    }\n",
       "</style>\n",
       "<table border=\"1\" class=\"dataframe\">\n",
       "  <thead>\n",
       "    <tr style=\"text-align: right;\">\n",
       "      <th></th>\n",
       "      <th>Year</th>\n",
       "      <th>ODA Received</th>\n",
       "      <th>Labor Force (%Population)</th>\n",
       "      <th>Debt Policy Rating</th>\n",
       "      <th>Life Expectancy (Years)</th>\n",
       "      <th>Trade (%GDP)</th>\n",
       "      <th>Inflation</th>\n",
       "      <th>FDI (%GDP)</th>\n",
       "      <th>GDP Recipient</th>\n",
       "      <th>Transparency_Accountability_Corruption_PublicSector_Rating</th>\n",
       "    </tr>\n",
       "  </thead>\n",
       "  <tbody>\n",
       "    <tr>\n",
       "      <th>Year</th>\n",
       "      <td>1.000000</td>\n",
       "      <td>-0.335798</td>\n",
       "      <td>-0.949552</td>\n",
       "      <td>-0.601910</td>\n",
       "      <td>0.994714</td>\n",
       "      <td>-0.933581</td>\n",
       "      <td>-0.740676</td>\n",
       "      <td>-0.817701</td>\n",
       "      <td>0.964143</td>\n",
       "      <td>-0.430333</td>\n",
       "    </tr>\n",
       "    <tr>\n",
       "      <th>ODA Received</th>\n",
       "      <td>-0.335798</td>\n",
       "      <td>1.000000</td>\n",
       "      <td>0.574783</td>\n",
       "      <td>-0.377637</td>\n",
       "      <td>-0.421213</td>\n",
       "      <td>0.551893</td>\n",
       "      <td>0.218526</td>\n",
       "      <td>0.268503</td>\n",
       "      <td>-0.320379</td>\n",
       "      <td>-0.091311</td>\n",
       "    </tr>\n",
       "    <tr>\n",
       "      <th>Labor Force (%Population)</th>\n",
       "      <td>-0.949552</td>\n",
       "      <td>0.574783</td>\n",
       "      <td>1.000000</td>\n",
       "      <td>0.341482</td>\n",
       "      <td>-0.976089</td>\n",
       "      <td>0.927684</td>\n",
       "      <td>0.646699</td>\n",
       "      <td>0.697082</td>\n",
       "      <td>-0.932340</td>\n",
       "      <td>0.298275</td>\n",
       "    </tr>\n",
       "    <tr>\n",
       "      <th>Debt Policy Rating</th>\n",
       "      <td>-0.601910</td>\n",
       "      <td>-0.377637</td>\n",
       "      <td>0.341482</td>\n",
       "      <td>1.000000</td>\n",
       "      <td>-0.525440</td>\n",
       "      <td>0.492804</td>\n",
       "      <td>0.450279</td>\n",
       "      <td>0.648765</td>\n",
       "      <td>-0.498456</td>\n",
       "      <td>0.733856</td>\n",
       "    </tr>\n",
       "    <tr>\n",
       "      <th>Life Expectancy (Years)</th>\n",
       "      <td>0.994714</td>\n",
       "      <td>-0.421213</td>\n",
       "      <td>-0.976089</td>\n",
       "      <td>-0.525440</td>\n",
       "      <td>1.000000</td>\n",
       "      <td>-0.944352</td>\n",
       "      <td>-0.717996</td>\n",
       "      <td>-0.791047</td>\n",
       "      <td>0.966056</td>\n",
       "      <td>-0.387319</td>\n",
       "    </tr>\n",
       "    <tr>\n",
       "      <th>Trade (%GDP)</th>\n",
       "      <td>-0.933581</td>\n",
       "      <td>0.551893</td>\n",
       "      <td>0.927684</td>\n",
       "      <td>0.492804</td>\n",
       "      <td>-0.944352</td>\n",
       "      <td>1.000000</td>\n",
       "      <td>0.729366</td>\n",
       "      <td>0.863700</td>\n",
       "      <td>-0.870336</td>\n",
       "      <td>0.423172</td>\n",
       "    </tr>\n",
       "    <tr>\n",
       "      <th>Inflation</th>\n",
       "      <td>-0.740676</td>\n",
       "      <td>0.218526</td>\n",
       "      <td>0.646699</td>\n",
       "      <td>0.450279</td>\n",
       "      <td>-0.717996</td>\n",
       "      <td>0.729366</td>\n",
       "      <td>1.000000</td>\n",
       "      <td>0.801205</td>\n",
       "      <td>-0.745118</td>\n",
       "      <td>0.196788</td>\n",
       "    </tr>\n",
       "    <tr>\n",
       "      <th>FDI (%GDP)</th>\n",
       "      <td>-0.817701</td>\n",
       "      <td>0.268503</td>\n",
       "      <td>0.697082</td>\n",
       "      <td>0.648765</td>\n",
       "      <td>-0.791047</td>\n",
       "      <td>0.863700</td>\n",
       "      <td>0.801205</td>\n",
       "      <td>1.000000</td>\n",
       "      <td>-0.736376</td>\n",
       "      <td>0.385924</td>\n",
       "    </tr>\n",
       "    <tr>\n",
       "      <th>GDP Recipient</th>\n",
       "      <td>0.964143</td>\n",
       "      <td>-0.320379</td>\n",
       "      <td>-0.932340</td>\n",
       "      <td>-0.498456</td>\n",
       "      <td>0.966056</td>\n",
       "      <td>-0.870336</td>\n",
       "      <td>-0.745118</td>\n",
       "      <td>-0.736376</td>\n",
       "      <td>1.000000</td>\n",
       "      <td>-0.249459</td>\n",
       "    </tr>\n",
       "    <tr>\n",
       "      <th>Transparency_Accountability_Corruption_PublicSector_Rating</th>\n",
       "      <td>-0.430333</td>\n",
       "      <td>-0.091311</td>\n",
       "      <td>0.298275</td>\n",
       "      <td>0.733856</td>\n",
       "      <td>-0.387319</td>\n",
       "      <td>0.423172</td>\n",
       "      <td>0.196788</td>\n",
       "      <td>0.385924</td>\n",
       "      <td>-0.249459</td>\n",
       "      <td>1.000000</td>\n",
       "    </tr>\n",
       "  </tbody>\n",
       "</table>\n",
       "</div>"
      ],
      "text/plain": [
       "                                                        Year  ODA Received  \\\n",
       "Year                                                1.000000     -0.335798   \n",
       "ODA Received                                       -0.335798      1.000000   \n",
       "Labor Force (%Population)                          -0.949552      0.574783   \n",
       "Debt Policy Rating                                 -0.601910     -0.377637   \n",
       "Life Expectancy (Years)                             0.994714     -0.421213   \n",
       "Trade (%GDP)                                       -0.933581      0.551893   \n",
       "Inflation                                          -0.740676      0.218526   \n",
       "FDI (%GDP)                                         -0.817701      0.268503   \n",
       "GDP Recipient                                       0.964143     -0.320379   \n",
       "Transparency_Accountability_Corruption_PublicSe... -0.430333     -0.091311   \n",
       "\n",
       "                                                    Labor Force (%Population)  \\\n",
       "Year                                                                -0.949552   \n",
       "ODA Received                                                         0.574783   \n",
       "Labor Force (%Population)                                            1.000000   \n",
       "Debt Policy Rating                                                   0.341482   \n",
       "Life Expectancy (Years)                                             -0.976089   \n",
       "Trade (%GDP)                                                         0.927684   \n",
       "Inflation                                                            0.646699   \n",
       "FDI (%GDP)                                                           0.697082   \n",
       "GDP Recipient                                                       -0.932340   \n",
       "Transparency_Accountability_Corruption_PublicSe...                   0.298275   \n",
       "\n",
       "                                                    Debt Policy Rating  \\\n",
       "Year                                                         -0.601910   \n",
       "ODA Received                                                 -0.377637   \n",
       "Labor Force (%Population)                                     0.341482   \n",
       "Debt Policy Rating                                            1.000000   \n",
       "Life Expectancy (Years)                                      -0.525440   \n",
       "Trade (%GDP)                                                  0.492804   \n",
       "Inflation                                                     0.450279   \n",
       "FDI (%GDP)                                                    0.648765   \n",
       "GDP Recipient                                                -0.498456   \n",
       "Transparency_Accountability_Corruption_PublicSe...            0.733856   \n",
       "\n",
       "                                                    Life Expectancy (Years)  \\\n",
       "Year                                                               0.994714   \n",
       "ODA Received                                                      -0.421213   \n",
       "Labor Force (%Population)                                         -0.976089   \n",
       "Debt Policy Rating                                                -0.525440   \n",
       "Life Expectancy (Years)                                            1.000000   \n",
       "Trade (%GDP)                                                      -0.944352   \n",
       "Inflation                                                         -0.717996   \n",
       "FDI (%GDP)                                                        -0.791047   \n",
       "GDP Recipient                                                      0.966056   \n",
       "Transparency_Accountability_Corruption_PublicSe...                -0.387319   \n",
       "\n",
       "                                                    Trade (%GDP)  Inflation  \\\n",
       "Year                                                   -0.933581  -0.740676   \n",
       "ODA Received                                            0.551893   0.218526   \n",
       "Labor Force (%Population)                               0.927684   0.646699   \n",
       "Debt Policy Rating                                      0.492804   0.450279   \n",
       "Life Expectancy (Years)                                -0.944352  -0.717996   \n",
       "Trade (%GDP)                                            1.000000   0.729366   \n",
       "Inflation                                               0.729366   1.000000   \n",
       "FDI (%GDP)                                              0.863700   0.801205   \n",
       "GDP Recipient                                          -0.870336  -0.745118   \n",
       "Transparency_Accountability_Corruption_PublicSe...      0.423172   0.196788   \n",
       "\n",
       "                                                    FDI (%GDP)  GDP Recipient  \\\n",
       "Year                                                 -0.817701       0.964143   \n",
       "ODA Received                                          0.268503      -0.320379   \n",
       "Labor Force (%Population)                             0.697082      -0.932340   \n",
       "Debt Policy Rating                                    0.648765      -0.498456   \n",
       "Life Expectancy (Years)                              -0.791047       0.966056   \n",
       "Trade (%GDP)                                          0.863700      -0.870336   \n",
       "Inflation                                             0.801205      -0.745118   \n",
       "FDI (%GDP)                                            1.000000      -0.736376   \n",
       "GDP Recipient                                        -0.736376       1.000000   \n",
       "Transparency_Accountability_Corruption_PublicSe...    0.385924      -0.249459   \n",
       "\n",
       "                                                    Transparency_Accountability_Corruption_PublicSector_Rating  \n",
       "Year                                                                                        -0.430333           \n",
       "ODA Received                                                                                -0.091311           \n",
       "Labor Force (%Population)                                                                    0.298275           \n",
       "Debt Policy Rating                                                                           0.733856           \n",
       "Life Expectancy (Years)                                                                     -0.387319           \n",
       "Trade (%GDP)                                                                                 0.423172           \n",
       "Inflation                                                                                    0.196788           \n",
       "FDI (%GDP)                                                                                   0.385924           \n",
       "GDP Recipient                                                                               -0.249459           \n",
       "Transparency_Accountability_Corruption_PublicSe...                                           1.000000           "
      ]
     },
     "execution_count": 40,
     "metadata": {},
     "output_type": "execute_result"
    }
   ],
   "source": [
    "df_merge[df_merge[\"Country Name\"]==\"Heavily indebted poor countries (HIPC)\"].corr()"
   ]
  },
  {
   "cell_type": "code",
   "execution_count": 41,
   "id": "4251448d",
   "metadata": {},
   "outputs": [],
   "source": [
    "#Observations: \n",
    "# 1) In this case, GDP is significanly correlated with all the indep variables, except liability \n",
    "#(transparancy, accountability etc). \n",
    "# 2) For ODA and Debt policy rating, the corr is not that strong\n",
    "# 3) GDP is strong negatively related to trade and labor force\n",
    "# 4) ODA is positively and kind of strong related to labor force and trade"
   ]
  },
  {
   "cell_type": "code",
   "execution_count": 42,
   "id": "0079c434",
   "metadata": {},
   "outputs": [],
   "source": [
    "df_heavily=df_merge[df_merge[\"Country Name\"]==\"Heavily indebted poor countries (HIPC)\"]\n",
    "#df_heavily.head(2)"
   ]
  },
  {
   "cell_type": "code",
   "execution_count": 43,
   "id": "f89467af",
   "metadata": {},
   "outputs": [
    {
     "name": "stderr",
     "output_type": "stream",
     "text": [
      "/var/folders/j7/4yrzqvzn643dv0t5y434hfhw0000gn/T/ipykernel_31885/1455448521.py:1: FutureWarning: As the xlwt package is no longer maintained, the xlwt engine will be removed in a future version of pandas. This is the only engine in pandas that supports writing in the xls format. Install openpyxl and write to an xlsx file instead. You can set the option io.excel.xls.writer to 'xlwt' to silence this warning. While this option is deprecated and will also raise a warning, it can be globally set and the warning suppressed.\n",
      "  df_heavily.to_excel(\"df_heavily.xls\")\n"
     ]
    }
   ],
   "source": [
    "df_heavily.to_excel(\"df_heavily.xls\")"
   ]
  },
  {
   "cell_type": "code",
   "execution_count": 44,
   "id": "60227be7",
   "metadata": {},
   "outputs": [
    {
     "name": "stdout",
     "output_type": "stream",
     "text": [
      "0.9999999999999821\n",
      "[-5.03970343e+11 -5.62651765e+10  3.89924393e+01  3.06918123e+11\n",
      "  1.13159630e+12  5.58864086e+09 -3.18281962e+10 -5.39584694e+11\n",
      " -4.85078541e+10]\n"
     ]
    }
   ],
   "source": [
    "model_heavily = linear_model.LinearRegression()\n",
    "X_heavily = df_heavily[[\"Year\", \"FDI (%GDP)\", \"ODA Received\", \"Labor Force (%Population)\", \"Life Expectancy (Years)\", \"Trade (%GDP)\", \"Inflation\", \"Transparency_Accountability_Corruption_PublicSector_Rating\", \"Debt Policy Rating\"]]\n",
    "y_heavily = df_heavily['GDP Recipient']\n",
    "result_heavily = model_heavily.fit(X_heavily,y_heavily)\n",
    "\n",
    "print(result_heavily.score(X_heavily,y_heavily))\n",
    "print(result_heavily.coef_)\n",
    "\n",
    "#we can see that the coef of ODA is big and positive which means that we can explain growth by ODA given other variables\n",
    "#Important coefs are lufe expec(positively), liability(negatively), labor force(positivel)"
   ]
  },
  {
   "cell_type": "code",
   "execution_count": 45,
   "id": "b8d9f178",
   "metadata": {},
   "outputs": [
    {
     "data": {
      "text/plain": [
       "11498.944077768785"
      ]
     },
     "execution_count": 45,
     "metadata": {},
     "output_type": "execute_result"
    }
   ],
   "source": [
    "np.sqrt(mean_squared_error(y_heavily, model_heavily.predict(X_heavily)))\n",
    "\n",
    "##that means that my model is making an error by only 0.55 dollars which is really small\n",
    "#our model predicts really well"
   ]
  },
  {
   "cell_type": "code",
   "execution_count": 46,
   "id": "8c01d8ce",
   "metadata": {},
   "outputs": [
    {
     "name": "stdout",
     "output_type": "stream",
     "text": [
      "0.10264253239586263\n",
      "[-10.4973076]\n"
     ]
    }
   ],
   "source": [
    "##Lets try to do a regression with oda only\n",
    "\n",
    "\n",
    "model_ODA_heavily = linear_model.LinearRegression()\n",
    "X_ODA_heavily = df_heavily[[\"ODA Received\"]]\n",
    "y_ODA_heavily = df_heavily['GDP Recipient']\n",
    "result_ODA_heavily = model_ODA_heavily.fit(X_ODA_heavily,y_ODA_heavily)\n",
    "\n",
    "print(result_ODA_heavily.score(X_ODA_heavily,y_ODA_heavily))\n",
    "print(result_ODA_heavily.coef_)\n",
    "\n",
    "##our model is bad and coef ODA is still low"
   ]
  },
  {
   "cell_type": "code",
   "execution_count": null,
   "id": "4c9afd01",
   "metadata": {},
   "outputs": [],
   "source": []
  },
  {
   "cell_type": "code",
   "execution_count": null,
   "id": "cd8db17c",
   "metadata": {},
   "outputs": [],
   "source": []
  },
  {
   "cell_type": "code",
   "execution_count": null,
   "id": "2b6ca1a5",
   "metadata": {},
   "outputs": [],
   "source": []
  },
  {
   "cell_type": "code",
   "execution_count": null,
   "id": "08f4bbc1",
   "metadata": {},
   "outputs": [],
   "source": []
  },
  {
   "cell_type": "code",
   "execution_count": null,
   "id": "ca18aa88",
   "metadata": {},
   "outputs": [],
   "source": []
  },
  {
   "cell_type": "code",
   "execution_count": 47,
   "id": "06586487",
   "metadata": {},
   "outputs": [],
   "source": [
    "###ANALYSIS FOR Least developed countries: UN classification"
   ]
  },
  {
   "cell_type": "code",
   "execution_count": 48,
   "id": "ef81dcaf",
   "metadata": {},
   "outputs": [
    {
     "data": {
      "text/html": [
       "<div>\n",
       "<style scoped>\n",
       "    .dataframe tbody tr th:only-of-type {\n",
       "        vertical-align: middle;\n",
       "    }\n",
       "\n",
       "    .dataframe tbody tr th {\n",
       "        vertical-align: top;\n",
       "    }\n",
       "\n",
       "    .dataframe thead th {\n",
       "        text-align: right;\n",
       "    }\n",
       "</style>\n",
       "<table border=\"1\" class=\"dataframe\">\n",
       "  <thead>\n",
       "    <tr style=\"text-align: right;\">\n",
       "      <th></th>\n",
       "      <th>Year</th>\n",
       "      <th>ODA Received</th>\n",
       "      <th>Labor Force (%Population)</th>\n",
       "      <th>Debt Policy Rating</th>\n",
       "      <th>Life Expectancy (Years)</th>\n",
       "      <th>Trade (%GDP)</th>\n",
       "      <th>Inflation</th>\n",
       "      <th>FDI (%GDP)</th>\n",
       "      <th>GDP Recipient</th>\n",
       "      <th>Transparency_Accountability_Corruption_PublicSector_Rating</th>\n",
       "    </tr>\n",
       "  </thead>\n",
       "  <tbody>\n",
       "    <tr>\n",
       "      <th>count</th>\n",
       "      <td>10.00000</td>\n",
       "      <td>1.000000e+01</td>\n",
       "      <td>10.000000</td>\n",
       "      <td>10.000000</td>\n",
       "      <td>10.000000</td>\n",
       "      <td>10.000000</td>\n",
       "      <td>10.000000</td>\n",
       "      <td>10.000000</td>\n",
       "      <td>1.000000e+01</td>\n",
       "      <td>10.000000</td>\n",
       "    </tr>\n",
       "    <tr>\n",
       "      <th>mean</th>\n",
       "      <td>2014.50000</td>\n",
       "      <td>4.686216e+10</td>\n",
       "      <td>68.808570</td>\n",
       "      <td>3.200272</td>\n",
       "      <td>63.579786</td>\n",
       "      <td>54.914709</td>\n",
       "      <td>4.922109</td>\n",
       "      <td>2.786815</td>\n",
       "      <td>9.201418e+11</td>\n",
       "      <td>2.689766</td>\n",
       "    </tr>\n",
       "    <tr>\n",
       "      <th>std</th>\n",
       "      <td>3.02765</td>\n",
       "      <td>4.645052e+09</td>\n",
       "      <td>0.381492</td>\n",
       "      <td>0.080102</td>\n",
       "      <td>1.336801</td>\n",
       "      <td>4.274566</td>\n",
       "      <td>1.250266</td>\n",
       "      <td>0.767398</td>\n",
       "      <td>1.343448e+11</td>\n",
       "      <td>0.032122</td>\n",
       "    </tr>\n",
       "    <tr>\n",
       "      <th>min</th>\n",
       "      <td>2010.00000</td>\n",
       "      <td>4.310961e+10</td>\n",
       "      <td>68.347334</td>\n",
       "      <td>3.076087</td>\n",
       "      <td>61.388934</td>\n",
       "      <td>49.433923</td>\n",
       "      <td>2.869094</td>\n",
       "      <td>1.730708</td>\n",
       "      <td>6.737312e+11</td>\n",
       "      <td>2.641304</td>\n",
       "    </tr>\n",
       "    <tr>\n",
       "      <th>25%</th>\n",
       "      <td>2012.25000</td>\n",
       "      <td>4.355384e+10</td>\n",
       "      <td>68.553184</td>\n",
       "      <td>3.122222</td>\n",
       "      <td>62.644107</td>\n",
       "      <td>51.294379</td>\n",
       "      <td>4.074295</td>\n",
       "      <td>2.224077</td>\n",
       "      <td>8.352382e+11</td>\n",
       "      <td>2.668478</td>\n",
       "    </tr>\n",
       "    <tr>\n",
       "      <th>50%</th>\n",
       "      <td>2014.50000</td>\n",
       "      <td>4.424509e+10</td>\n",
       "      <td>68.750600</td>\n",
       "      <td>3.230676</td>\n",
       "      <td>63.728405</td>\n",
       "      <td>55.045780</td>\n",
       "      <td>5.129141</td>\n",
       "      <td>2.811608</td>\n",
       "      <td>9.412405e+11</td>\n",
       "      <td>2.688889</td>\n",
       "    </tr>\n",
       "    <tr>\n",
       "      <th>75%</th>\n",
       "      <td>2016.75000</td>\n",
       "      <td>4.870431e+10</td>\n",
       "      <td>68.946257</td>\n",
       "      <td>3.269380</td>\n",
       "      <td>64.617354</td>\n",
       "      <td>58.939385</td>\n",
       "      <td>5.564520</td>\n",
       "      <td>3.084538</td>\n",
       "      <td>1.009920e+12</td>\n",
       "      <td>2.699419</td>\n",
       "    </tr>\n",
       "    <tr>\n",
       "      <th>max</th>\n",
       "      <td>2019.00000</td>\n",
       "      <td>5.569676e+10</td>\n",
       "      <td>69.540799</td>\n",
       "      <td>3.288889</td>\n",
       "      <td>65.345421</td>\n",
       "      <td>60.092158</td>\n",
       "      <td>6.788194</td>\n",
       "      <td>4.088185</td>\n",
       "      <td>1.107362e+12</td>\n",
       "      <td>2.744186</td>\n",
       "    </tr>\n",
       "  </tbody>\n",
       "</table>\n",
       "</div>"
      ],
      "text/plain": [
       "             Year  ODA Received  Labor Force (%Population)  \\\n",
       "count    10.00000  1.000000e+01                  10.000000   \n",
       "mean   2014.50000  4.686216e+10                  68.808570   \n",
       "std       3.02765  4.645052e+09                   0.381492   \n",
       "min    2010.00000  4.310961e+10                  68.347334   \n",
       "25%    2012.25000  4.355384e+10                  68.553184   \n",
       "50%    2014.50000  4.424509e+10                  68.750600   \n",
       "75%    2016.75000  4.870431e+10                  68.946257   \n",
       "max    2019.00000  5.569676e+10                  69.540799   \n",
       "\n",
       "       Debt Policy Rating  Life Expectancy (Years)  Trade (%GDP)  Inflation  \\\n",
       "count           10.000000                10.000000     10.000000  10.000000   \n",
       "mean             3.200272                63.579786     54.914709   4.922109   \n",
       "std              0.080102                 1.336801      4.274566   1.250266   \n",
       "min              3.076087                61.388934     49.433923   2.869094   \n",
       "25%              3.122222                62.644107     51.294379   4.074295   \n",
       "50%              3.230676                63.728405     55.045780   5.129141   \n",
       "75%              3.269380                64.617354     58.939385   5.564520   \n",
       "max              3.288889                65.345421     60.092158   6.788194   \n",
       "\n",
       "       FDI (%GDP)  GDP Recipient  \\\n",
       "count   10.000000   1.000000e+01   \n",
       "mean     2.786815   9.201418e+11   \n",
       "std      0.767398   1.343448e+11   \n",
       "min      1.730708   6.737312e+11   \n",
       "25%      2.224077   8.352382e+11   \n",
       "50%      2.811608   9.412405e+11   \n",
       "75%      3.084538   1.009920e+12   \n",
       "max      4.088185   1.107362e+12   \n",
       "\n",
       "       Transparency_Accountability_Corruption_PublicSector_Rating  \n",
       "count                                          10.000000           \n",
       "mean                                            2.689766           \n",
       "std                                             0.032122           \n",
       "min                                             2.641304           \n",
       "25%                                             2.668478           \n",
       "50%                                             2.688889           \n",
       "75%                                             2.699419           \n",
       "max                                             2.744186           "
      ]
     },
     "execution_count": 48,
     "metadata": {},
     "output_type": "execute_result"
    }
   ],
   "source": [
    "df_merge[df_merge[\"Country Name\"]==\"Least developed countries: UN classification\"].describe()"
   ]
  },
  {
   "cell_type": "code",
   "execution_count": 49,
   "id": "6a9b1192",
   "metadata": {},
   "outputs": [
    {
     "data": {
      "text/html": [
       "<div>\n",
       "<style scoped>\n",
       "    .dataframe tbody tr th:only-of-type {\n",
       "        vertical-align: middle;\n",
       "    }\n",
       "\n",
       "    .dataframe tbody tr th {\n",
       "        vertical-align: top;\n",
       "    }\n",
       "\n",
       "    .dataframe thead th {\n",
       "        text-align: right;\n",
       "    }\n",
       "</style>\n",
       "<table border=\"1\" class=\"dataframe\">\n",
       "  <thead>\n",
       "    <tr style=\"text-align: right;\">\n",
       "      <th></th>\n",
       "      <th>Year</th>\n",
       "      <th>ODA Received</th>\n",
       "      <th>Labor Force (%Population)</th>\n",
       "      <th>Debt Policy Rating</th>\n",
       "      <th>Life Expectancy (Years)</th>\n",
       "      <th>Trade (%GDP)</th>\n",
       "      <th>Inflation</th>\n",
       "      <th>FDI (%GDP)</th>\n",
       "      <th>GDP Recipient</th>\n",
       "      <th>Transparency_Accountability_Corruption_PublicSector_Rating</th>\n",
       "    </tr>\n",
       "  </thead>\n",
       "  <tbody>\n",
       "    <tr>\n",
       "      <th>Year</th>\n",
       "      <td>1.000000</td>\n",
       "      <td>0.750237</td>\n",
       "      <td>-0.703457</td>\n",
       "      <td>-0.805905</td>\n",
       "      <td>0.994648</td>\n",
       "      <td>-0.823482</td>\n",
       "      <td>-0.814533</td>\n",
       "      <td>-0.603462</td>\n",
       "      <td>0.965683</td>\n",
       "      <td>-0.718452</td>\n",
       "    </tr>\n",
       "    <tr>\n",
       "      <th>ODA Received</th>\n",
       "      <td>0.750237</td>\n",
       "      <td>1.000000</td>\n",
       "      <td>-0.163734</td>\n",
       "      <td>-0.794029</td>\n",
       "      <td>0.696595</td>\n",
       "      <td>-0.308661</td>\n",
       "      <td>-0.685685</td>\n",
       "      <td>-0.836365</td>\n",
       "      <td>0.732380</td>\n",
       "      <td>-0.666461</td>\n",
       "    </tr>\n",
       "    <tr>\n",
       "      <th>Labor Force (%Population)</th>\n",
       "      <td>-0.703457</td>\n",
       "      <td>-0.163734</td>\n",
       "      <td>1.000000</td>\n",
       "      <td>0.261598</td>\n",
       "      <td>-0.766379</td>\n",
       "      <td>0.750201</td>\n",
       "      <td>0.553804</td>\n",
       "      <td>-0.006886</td>\n",
       "      <td>-0.753032</td>\n",
       "      <td>0.303523</td>\n",
       "    </tr>\n",
       "    <tr>\n",
       "      <th>Debt Policy Rating</th>\n",
       "      <td>-0.805905</td>\n",
       "      <td>-0.794029</td>\n",
       "      <td>0.261598</td>\n",
       "      <td>1.000000</td>\n",
       "      <td>-0.760304</td>\n",
       "      <td>0.613971</td>\n",
       "      <td>0.527847</td>\n",
       "      <td>0.819519</td>\n",
       "      <td>-0.681423</td>\n",
       "      <td>0.833661</td>\n",
       "    </tr>\n",
       "    <tr>\n",
       "      <th>Life Expectancy (Years)</th>\n",
       "      <td>0.994648</td>\n",
       "      <td>0.696595</td>\n",
       "      <td>-0.766379</td>\n",
       "      <td>-0.760304</td>\n",
       "      <td>1.000000</td>\n",
       "      <td>-0.841964</td>\n",
       "      <td>-0.795508</td>\n",
       "      <td>-0.543270</td>\n",
       "      <td>0.974180</td>\n",
       "      <td>-0.696322</td>\n",
       "    </tr>\n",
       "    <tr>\n",
       "      <th>Trade (%GDP)</th>\n",
       "      <td>-0.823482</td>\n",
       "      <td>-0.308661</td>\n",
       "      <td>0.750201</td>\n",
       "      <td>0.613971</td>\n",
       "      <td>-0.841964</td>\n",
       "      <td>1.000000</td>\n",
       "      <td>0.602901</td>\n",
       "      <td>0.285167</td>\n",
       "      <td>-0.733606</td>\n",
       "      <td>0.634146</td>\n",
       "    </tr>\n",
       "    <tr>\n",
       "      <th>Inflation</th>\n",
       "      <td>-0.814533</td>\n",
       "      <td>-0.685685</td>\n",
       "      <td>0.553804</td>\n",
       "      <td>0.527847</td>\n",
       "      <td>-0.795508</td>\n",
       "      <td>0.602901</td>\n",
       "      <td>1.000000</td>\n",
       "      <td>0.466133</td>\n",
       "      <td>-0.803908</td>\n",
       "      <td>0.550892</td>\n",
       "    </tr>\n",
       "    <tr>\n",
       "      <th>FDI (%GDP)</th>\n",
       "      <td>-0.603462</td>\n",
       "      <td>-0.836365</td>\n",
       "      <td>-0.006886</td>\n",
       "      <td>0.819519</td>\n",
       "      <td>-0.543270</td>\n",
       "      <td>0.285167</td>\n",
       "      <td>0.466133</td>\n",
       "      <td>1.000000</td>\n",
       "      <td>-0.532005</td>\n",
       "      <td>0.605431</td>\n",
       "    </tr>\n",
       "    <tr>\n",
       "      <th>GDP Recipient</th>\n",
       "      <td>0.965683</td>\n",
       "      <td>0.732380</td>\n",
       "      <td>-0.753032</td>\n",
       "      <td>-0.681423</td>\n",
       "      <td>0.974180</td>\n",
       "      <td>-0.733606</td>\n",
       "      <td>-0.803908</td>\n",
       "      <td>-0.532005</td>\n",
       "      <td>1.000000</td>\n",
       "      <td>-0.614655</td>\n",
       "    </tr>\n",
       "    <tr>\n",
       "      <th>Transparency_Accountability_Corruption_PublicSector_Rating</th>\n",
       "      <td>-0.718452</td>\n",
       "      <td>-0.666461</td>\n",
       "      <td>0.303523</td>\n",
       "      <td>0.833661</td>\n",
       "      <td>-0.696322</td>\n",
       "      <td>0.634146</td>\n",
       "      <td>0.550892</td>\n",
       "      <td>0.605431</td>\n",
       "      <td>-0.614655</td>\n",
       "      <td>1.000000</td>\n",
       "    </tr>\n",
       "  </tbody>\n",
       "</table>\n",
       "</div>"
      ],
      "text/plain": [
       "                                                        Year  ODA Received  \\\n",
       "Year                                                1.000000      0.750237   \n",
       "ODA Received                                        0.750237      1.000000   \n",
       "Labor Force (%Population)                          -0.703457     -0.163734   \n",
       "Debt Policy Rating                                 -0.805905     -0.794029   \n",
       "Life Expectancy (Years)                             0.994648      0.696595   \n",
       "Trade (%GDP)                                       -0.823482     -0.308661   \n",
       "Inflation                                          -0.814533     -0.685685   \n",
       "FDI (%GDP)                                         -0.603462     -0.836365   \n",
       "GDP Recipient                                       0.965683      0.732380   \n",
       "Transparency_Accountability_Corruption_PublicSe... -0.718452     -0.666461   \n",
       "\n",
       "                                                    Labor Force (%Population)  \\\n",
       "Year                                                                -0.703457   \n",
       "ODA Received                                                        -0.163734   \n",
       "Labor Force (%Population)                                            1.000000   \n",
       "Debt Policy Rating                                                   0.261598   \n",
       "Life Expectancy (Years)                                             -0.766379   \n",
       "Trade (%GDP)                                                         0.750201   \n",
       "Inflation                                                            0.553804   \n",
       "FDI (%GDP)                                                          -0.006886   \n",
       "GDP Recipient                                                       -0.753032   \n",
       "Transparency_Accountability_Corruption_PublicSe...                   0.303523   \n",
       "\n",
       "                                                    Debt Policy Rating  \\\n",
       "Year                                                         -0.805905   \n",
       "ODA Received                                                 -0.794029   \n",
       "Labor Force (%Population)                                     0.261598   \n",
       "Debt Policy Rating                                            1.000000   \n",
       "Life Expectancy (Years)                                      -0.760304   \n",
       "Trade (%GDP)                                                  0.613971   \n",
       "Inflation                                                     0.527847   \n",
       "FDI (%GDP)                                                    0.819519   \n",
       "GDP Recipient                                                -0.681423   \n",
       "Transparency_Accountability_Corruption_PublicSe...            0.833661   \n",
       "\n",
       "                                                    Life Expectancy (Years)  \\\n",
       "Year                                                               0.994648   \n",
       "ODA Received                                                       0.696595   \n",
       "Labor Force (%Population)                                         -0.766379   \n",
       "Debt Policy Rating                                                -0.760304   \n",
       "Life Expectancy (Years)                                            1.000000   \n",
       "Trade (%GDP)                                                      -0.841964   \n",
       "Inflation                                                         -0.795508   \n",
       "FDI (%GDP)                                                        -0.543270   \n",
       "GDP Recipient                                                      0.974180   \n",
       "Transparency_Accountability_Corruption_PublicSe...                -0.696322   \n",
       "\n",
       "                                                    Trade (%GDP)  Inflation  \\\n",
       "Year                                                   -0.823482  -0.814533   \n",
       "ODA Received                                           -0.308661  -0.685685   \n",
       "Labor Force (%Population)                               0.750201   0.553804   \n",
       "Debt Policy Rating                                      0.613971   0.527847   \n",
       "Life Expectancy (Years)                                -0.841964  -0.795508   \n",
       "Trade (%GDP)                                            1.000000   0.602901   \n",
       "Inflation                                               0.602901   1.000000   \n",
       "FDI (%GDP)                                              0.285167   0.466133   \n",
       "GDP Recipient                                          -0.733606  -0.803908   \n",
       "Transparency_Accountability_Corruption_PublicSe...      0.634146   0.550892   \n",
       "\n",
       "                                                    FDI (%GDP)  GDP Recipient  \\\n",
       "Year                                                 -0.603462       0.965683   \n",
       "ODA Received                                         -0.836365       0.732380   \n",
       "Labor Force (%Population)                            -0.006886      -0.753032   \n",
       "Debt Policy Rating                                    0.819519      -0.681423   \n",
       "Life Expectancy (Years)                              -0.543270       0.974180   \n",
       "Trade (%GDP)                                          0.285167      -0.733606   \n",
       "Inflation                                             0.466133      -0.803908   \n",
       "FDI (%GDP)                                            1.000000      -0.532005   \n",
       "GDP Recipient                                        -0.532005       1.000000   \n",
       "Transparency_Accountability_Corruption_PublicSe...    0.605431      -0.614655   \n",
       "\n",
       "                                                    Transparency_Accountability_Corruption_PublicSector_Rating  \n",
       "Year                                                                                        -0.718452           \n",
       "ODA Received                                                                                -0.666461           \n",
       "Labor Force (%Population)                                                                    0.303523           \n",
       "Debt Policy Rating                                                                           0.833661           \n",
       "Life Expectancy (Years)                                                                     -0.696322           \n",
       "Trade (%GDP)                                                                                 0.634146           \n",
       "Inflation                                                                                    0.550892           \n",
       "FDI (%GDP)                                                                                   0.605431           \n",
       "GDP Recipient                                                                               -0.614655           \n",
       "Transparency_Accountability_Corruption_PublicSe...                                           1.000000           "
      ]
     },
     "execution_count": 49,
     "metadata": {},
     "output_type": "execute_result"
    }
   ],
   "source": [
    "df_merge[df_merge[\"Country Name\"]==\"Least developed countries: UN classification\"].corr()"
   ]
  },
  {
   "cell_type": "code",
   "execution_count": 50,
   "id": "d576f810",
   "metadata": {},
   "outputs": [],
   "source": [
    "#Observations: \n",
    "# 1) In this case, GDP is significanly correlated with all the indep variables, being positively with ODA\n",
    "# 2) ODA is strong negatively corr with debt policy rate (if one increases, other decreases - weird), liability (weird), FDI"
   ]
  },
  {
   "cell_type": "code",
   "execution_count": 51,
   "id": "6eb71840",
   "metadata": {},
   "outputs": [],
   "source": [
    "df_least=df_merge[df_merge[\"Country Name\"]==\"Least developed countries: UN classification\"]\n",
    "#df_least.head(2)"
   ]
  },
  {
   "cell_type": "code",
   "execution_count": 52,
   "id": "9145db9f",
   "metadata": {},
   "outputs": [
    {
     "name": "stderr",
     "output_type": "stream",
     "text": [
      "/var/folders/j7/4yrzqvzn643dv0t5y434hfhw0000gn/T/ipykernel_31885/850496779.py:1: FutureWarning: As the xlwt package is no longer maintained, the xlwt engine will be removed in a future version of pandas. This is the only engine in pandas that supports writing in the xls format. Install openpyxl and write to an xlsx file instead. You can set the option io.excel.xls.writer to 'xlwt' to silence this warning. While this option is deprecated and will also raise a warning, it can be globally set and the warning suppressed.\n",
      "  df_least.to_excel(\"df_least.xls\")\n"
     ]
    }
   ],
   "source": [
    "df_least.to_excel(\"df_least.xls\")"
   ]
  },
  {
   "cell_type": "code",
   "execution_count": 53,
   "id": "d805d95d",
   "metadata": {},
   "outputs": [
    {
     "name": "stdout",
     "output_type": "stream",
     "text": [
      "0.9999999999999425\n",
      "[-1.18662860e+12  1.19878503e+11  6.85414581e+01  4.79438774e+11\n",
      "  2.37940525e+12 -5.28262537e+10 -1.78274440e+11  7.18191393e+12\n",
      " -4.68174195e+12]\n"
     ]
    }
   ],
   "source": [
    "model_least = linear_model.LinearRegression()\n",
    "X_least = df_least[[\"Year\", \"FDI (%GDP)\", \"ODA Received\", \"Labor Force (%Population)\", \"Life Expectancy (Years)\", \"Trade (%GDP)\", \"Inflation\", \"Transparency_Accountability_Corruption_PublicSector_Rating\", \"Debt Policy Rating\"]]\n",
    "y_least = df_least['GDP Recipient']\n",
    "result_least = model_least.fit(X_least,y_least)\n",
    "\n",
    "print(result_least.score(X_least,y_least))\n",
    "print(result_least.coef_)\n",
    "\n",
    "#really good predict model\n",
    "#coef of ODA big and positive"
   ]
  },
  {
   "cell_type": "code",
   "execution_count": 54,
   "id": "bf4a8d8c",
   "metadata": {},
   "outputs": [
    {
     "data": {
      "text/plain": [
       "30558.361786025307"
      ]
     },
     "execution_count": 54,
     "metadata": {},
     "output_type": "execute_result"
    }
   ],
   "source": [
    "np.sqrt(mean_squared_error(y_least, model_least.predict(X_least)))\n",
    "\n",
    "#our model is wrong by 13 dollars"
   ]
  },
  {
   "cell_type": "code",
   "execution_count": 55,
   "id": "8b82b66b",
   "metadata": {},
   "outputs": [
    {
     "name": "stdout",
     "output_type": "stream",
     "text": [
      "0.5363806873314978\n",
      "[21.1819907]\n"
     ]
    }
   ],
   "source": [
    "#Lets try to do regression for ODA only\n",
    "\n",
    "model_ODA_least = linear_model.LinearRegression()\n",
    "X_ODA_least = df_least[[\"ODA Received\"]]\n",
    "y_ODA_least = df_least['GDP Recipient']\n",
    "result_ODA_least = model_ODA_least.fit(X_ODA_least,y_ODA_least)\n",
    "\n",
    "print(result_ODA_least.score(X_ODA_least,y_ODA_least))\n",
    "print(result_ODA_least.coef_)\n",
    "\n",
    "#our R squared is ok, but coef is still very small"
   ]
  },
  {
   "cell_type": "code",
   "execution_count": 117,
   "id": "e0894d46",
   "metadata": {},
   "outputs": [
    {
     "name": "stdout",
     "output_type": "stream",
     "text": [
      "-72492035270.72095\n"
     ]
    }
   ],
   "source": [
    "print(result_ODA_least.intercept_)"
   ]
  },
  {
   "cell_type": "code",
   "execution_count": null,
   "id": "8204a64a",
   "metadata": {},
   "outputs": [],
   "source": []
  },
  {
   "cell_type": "code",
   "execution_count": null,
   "id": "3403ff76",
   "metadata": {},
   "outputs": [],
   "source": []
  },
  {
   "cell_type": "code",
   "execution_count": null,
   "id": "c54d96c8",
   "metadata": {},
   "outputs": [],
   "source": []
  },
  {
   "cell_type": "code",
   "execution_count": null,
   "id": "1cfa04c4",
   "metadata": {},
   "outputs": [],
   "source": []
  },
  {
   "cell_type": "code",
   "execution_count": null,
   "id": "e0cdcd1e",
   "metadata": {},
   "outputs": [],
   "source": []
  },
  {
   "cell_type": "code",
   "execution_count": null,
   "id": "a3538c38",
   "metadata": {},
   "outputs": [],
   "source": []
  },
  {
   "cell_type": "code",
   "execution_count": null,
   "id": "f36fd1c5",
   "metadata": {},
   "outputs": [],
   "source": []
  },
  {
   "cell_type": "code",
   "execution_count": 56,
   "id": "3dcebe31",
   "metadata": {},
   "outputs": [],
   "source": [
    "###ANALYSIS FOR Low income"
   ]
  },
  {
   "cell_type": "code",
   "execution_count": 57,
   "id": "89712996",
   "metadata": {},
   "outputs": [
    {
     "data": {
      "text/html": [
       "<div>\n",
       "<style scoped>\n",
       "    .dataframe tbody tr th:only-of-type {\n",
       "        vertical-align: middle;\n",
       "    }\n",
       "\n",
       "    .dataframe tbody tr th {\n",
       "        vertical-align: top;\n",
       "    }\n",
       "\n",
       "    .dataframe thead th {\n",
       "        text-align: right;\n",
       "    }\n",
       "</style>\n",
       "<table border=\"1\" class=\"dataframe\">\n",
       "  <thead>\n",
       "    <tr style=\"text-align: right;\">\n",
       "      <th></th>\n",
       "      <th>Year</th>\n",
       "      <th>ODA Received</th>\n",
       "      <th>Labor Force (%Population)</th>\n",
       "      <th>Debt Policy Rating</th>\n",
       "      <th>Life Expectancy (Years)</th>\n",
       "      <th>Trade (%GDP)</th>\n",
       "      <th>Inflation</th>\n",
       "      <th>FDI (%GDP)</th>\n",
       "      <th>GDP Recipient</th>\n",
       "      <th>Transparency_Accountability_Corruption_PublicSector_Rating</th>\n",
       "    </tr>\n",
       "  </thead>\n",
       "  <tbody>\n",
       "    <tr>\n",
       "      <th>count</th>\n",
       "      <td>10.00000</td>\n",
       "      <td>1.000000e+01</td>\n",
       "      <td>10.000000</td>\n",
       "      <td>10.000000</td>\n",
       "      <td>10.000000</td>\n",
       "      <td>10.000000</td>\n",
       "      <td>10.000000</td>\n",
       "      <td>10.000000</td>\n",
       "      <td>1.000000e+01</td>\n",
       "      <td>10.000000</td>\n",
       "    </tr>\n",
       "    <tr>\n",
       "      <th>mean</th>\n",
       "      <td>2014.50000</td>\n",
       "      <td>3.930566e+10</td>\n",
       "      <td>69.102038</td>\n",
       "      <td>3.017178</td>\n",
       "      <td>61.901038</td>\n",
       "      <td>51.000582</td>\n",
       "      <td>5.576399</td>\n",
       "      <td>3.991012</td>\n",
       "      <td>4.274514e+11</td>\n",
       "      <td>2.457710</td>\n",
       "    </tr>\n",
       "    <tr>\n",
       "      <th>std</th>\n",
       "      <td>3.02765</td>\n",
       "      <td>6.671897e+09</td>\n",
       "      <td>0.437835</td>\n",
       "      <td>0.138670</td>\n",
       "      <td>1.342270</td>\n",
       "      <td>4.928349</td>\n",
       "      <td>1.794328</td>\n",
       "      <td>1.043714</td>\n",
       "      <td>5.642058e+10</td>\n",
       "      <td>0.067499</td>\n",
       "    </tr>\n",
       "    <tr>\n",
       "      <th>min</th>\n",
       "      <td>2010.00000</td>\n",
       "      <td>3.308972e+10</td>\n",
       "      <td>68.633303</td>\n",
       "      <td>2.820000</td>\n",
       "      <td>59.739740</td>\n",
       "      <td>44.145136</td>\n",
       "      <td>2.825100</td>\n",
       "      <td>2.652487</td>\n",
       "      <td>3.844478e+11</td>\n",
       "      <td>2.360000</td>\n",
       "    </tr>\n",
       "    <tr>\n",
       "      <th>25%</th>\n",
       "      <td>2012.25000</td>\n",
       "      <td>3.458936e+10</td>\n",
       "      <td>68.794421</td>\n",
       "      <td>2.875000</td>\n",
       "      <td>60.951074</td>\n",
       "      <td>47.420681</td>\n",
       "      <td>4.484901</td>\n",
       "      <td>3.373380</td>\n",
       "      <td>3.975990e+11</td>\n",
       "      <td>2.417500</td>\n",
       "    </tr>\n",
       "    <tr>\n",
       "      <th>50%</th>\n",
       "      <td>2014.50000</td>\n",
       "      <td>3.591833e+10</td>\n",
       "      <td>68.920260</td>\n",
       "      <td>3.083333</td>\n",
       "      <td>62.014996</td>\n",
       "      <td>50.145773</td>\n",
       "      <td>5.296348</td>\n",
       "      <td>3.610227</td>\n",
       "      <td>4.136520e+11</td>\n",
       "      <td>2.437500</td>\n",
       "    </tr>\n",
       "    <tr>\n",
       "      <th>75%</th>\n",
       "      <td>2016.75000</td>\n",
       "      <td>4.391231e+10</td>\n",
       "      <td>69.339471</td>\n",
       "      <td>3.120924</td>\n",
       "      <td>62.932558</td>\n",
       "      <td>54.222112</td>\n",
       "      <td>6.829835</td>\n",
       "      <td>4.571830</td>\n",
       "      <td>4.251744e+11</td>\n",
       "      <td>2.489583</td>\n",
       "    </tr>\n",
       "    <tr>\n",
       "      <th>max</th>\n",
       "      <td>2019.00000</td>\n",
       "      <td>4.996988e+10</td>\n",
       "      <td>69.930830</td>\n",
       "      <td>3.173913</td>\n",
       "      <td>63.727749</td>\n",
       "      <td>59.760608</td>\n",
       "      <td>8.279537</td>\n",
       "      <td>6.161376</td>\n",
       "      <td>5.782091e+11</td>\n",
       "      <td>2.586957</td>\n",
       "    </tr>\n",
       "  </tbody>\n",
       "</table>\n",
       "</div>"
      ],
      "text/plain": [
       "             Year  ODA Received  Labor Force (%Population)  \\\n",
       "count    10.00000  1.000000e+01                  10.000000   \n",
       "mean   2014.50000  3.930566e+10                  69.102038   \n",
       "std       3.02765  6.671897e+09                   0.437835   \n",
       "min    2010.00000  3.308972e+10                  68.633303   \n",
       "25%    2012.25000  3.458936e+10                  68.794421   \n",
       "50%    2014.50000  3.591833e+10                  68.920260   \n",
       "75%    2016.75000  4.391231e+10                  69.339471   \n",
       "max    2019.00000  4.996988e+10                  69.930830   \n",
       "\n",
       "       Debt Policy Rating  Life Expectancy (Years)  Trade (%GDP)  Inflation  \\\n",
       "count           10.000000                10.000000     10.000000  10.000000   \n",
       "mean             3.017178                61.901038     51.000582   5.576399   \n",
       "std              0.138670                 1.342270      4.928349   1.794328   \n",
       "min              2.820000                59.739740     44.145136   2.825100   \n",
       "25%              2.875000                60.951074     47.420681   4.484901   \n",
       "50%              3.083333                62.014996     50.145773   5.296348   \n",
       "75%              3.120924                62.932558     54.222112   6.829835   \n",
       "max              3.173913                63.727749     59.760608   8.279537   \n",
       "\n",
       "       FDI (%GDP)  GDP Recipient  \\\n",
       "count   10.000000   1.000000e+01   \n",
       "mean     3.991012   4.274514e+11   \n",
       "std      1.043714   5.642058e+10   \n",
       "min      2.652487   3.844478e+11   \n",
       "25%      3.373380   3.975990e+11   \n",
       "50%      3.610227   4.136520e+11   \n",
       "75%      4.571830   4.251744e+11   \n",
       "max      6.161376   5.782091e+11   \n",
       "\n",
       "       Transparency_Accountability_Corruption_PublicSector_Rating  \n",
       "count                                          10.000000           \n",
       "mean                                            2.457710           \n",
       "std                                             0.067499           \n",
       "min                                             2.360000           \n",
       "25%                                             2.417500           \n",
       "50%                                             2.437500           \n",
       "75%                                             2.489583           \n",
       "max                                             2.586957           "
      ]
     },
     "execution_count": 57,
     "metadata": {},
     "output_type": "execute_result"
    }
   ],
   "source": [
    "df_merge[df_merge[\"Country Name\"]==\"Low income\"].describe()"
   ]
  },
  {
   "cell_type": "code",
   "execution_count": 58,
   "id": "542c7930",
   "metadata": {},
   "outputs": [
    {
     "data": {
      "text/html": [
       "<div>\n",
       "<style scoped>\n",
       "    .dataframe tbody tr th:only-of-type {\n",
       "        vertical-align: middle;\n",
       "    }\n",
       "\n",
       "    .dataframe tbody tr th {\n",
       "        vertical-align: top;\n",
       "    }\n",
       "\n",
       "    .dataframe thead th {\n",
       "        text-align: right;\n",
       "    }\n",
       "</style>\n",
       "<table border=\"1\" class=\"dataframe\">\n",
       "  <thead>\n",
       "    <tr style=\"text-align: right;\">\n",
       "      <th></th>\n",
       "      <th>Year</th>\n",
       "      <th>ODA Received</th>\n",
       "      <th>Labor Force (%Population)</th>\n",
       "      <th>Debt Policy Rating</th>\n",
       "      <th>Life Expectancy (Years)</th>\n",
       "      <th>Trade (%GDP)</th>\n",
       "      <th>Inflation</th>\n",
       "      <th>FDI (%GDP)</th>\n",
       "      <th>GDP Recipient</th>\n",
       "      <th>Transparency_Accountability_Corruption_PublicSector_Rating</th>\n",
       "    </tr>\n",
       "  </thead>\n",
       "  <tbody>\n",
       "    <tr>\n",
       "      <th>Year</th>\n",
       "      <td>1.000000</td>\n",
       "      <td>0.923308</td>\n",
       "      <td>-0.948761</td>\n",
       "      <td>-0.861626</td>\n",
       "      <td>0.996783</td>\n",
       "      <td>-0.777356</td>\n",
       "      <td>-0.406880</td>\n",
       "      <td>-0.370631</td>\n",
       "      <td>-0.300316</td>\n",
       "      <td>-0.759813</td>\n",
       "    </tr>\n",
       "    <tr>\n",
       "      <th>ODA Received</th>\n",
       "      <td>0.923308</td>\n",
       "      <td>1.000000</td>\n",
       "      <td>-0.764799</td>\n",
       "      <td>-0.931845</td>\n",
       "      <td>0.893933</td>\n",
       "      <td>-0.497657</td>\n",
       "      <td>-0.389790</td>\n",
       "      <td>-0.461849</td>\n",
       "      <td>-0.093373</td>\n",
       "      <td>-0.574187</td>\n",
       "    </tr>\n",
       "    <tr>\n",
       "      <th>Labor Force (%Population)</th>\n",
       "      <td>-0.948761</td>\n",
       "      <td>-0.764799</td>\n",
       "      <td>1.000000</td>\n",
       "      <td>0.701779</td>\n",
       "      <td>-0.969956</td>\n",
       "      <td>0.891800</td>\n",
       "      <td>0.355663</td>\n",
       "      <td>0.233112</td>\n",
       "      <td>0.475252</td>\n",
       "      <td>0.809611</td>\n",
       "    </tr>\n",
       "    <tr>\n",
       "      <th>Debt Policy Rating</th>\n",
       "      <td>-0.861626</td>\n",
       "      <td>-0.931845</td>\n",
       "      <td>0.701779</td>\n",
       "      <td>1.000000</td>\n",
       "      <td>-0.833990</td>\n",
       "      <td>0.447851</td>\n",
       "      <td>0.231080</td>\n",
       "      <td>0.356255</td>\n",
       "      <td>0.089523</td>\n",
       "      <td>0.702021</td>\n",
       "    </tr>\n",
       "    <tr>\n",
       "      <th>Life Expectancy (Years)</th>\n",
       "      <td>0.996783</td>\n",
       "      <td>0.893933</td>\n",
       "      <td>-0.969956</td>\n",
       "      <td>-0.833990</td>\n",
       "      <td>1.000000</td>\n",
       "      <td>-0.813937</td>\n",
       "      <td>-0.383212</td>\n",
       "      <td>-0.337473</td>\n",
       "      <td>-0.354062</td>\n",
       "      <td>-0.783817</td>\n",
       "    </tr>\n",
       "    <tr>\n",
       "      <th>Trade (%GDP)</th>\n",
       "      <td>-0.777356</td>\n",
       "      <td>-0.497657</td>\n",
       "      <td>0.891800</td>\n",
       "      <td>0.447851</td>\n",
       "      <td>-0.813937</td>\n",
       "      <td>1.000000</td>\n",
       "      <td>0.212184</td>\n",
       "      <td>0.209844</td>\n",
       "      <td>0.482748</td>\n",
       "      <td>0.755282</td>\n",
       "    </tr>\n",
       "    <tr>\n",
       "      <th>Inflation</th>\n",
       "      <td>-0.406880</td>\n",
       "      <td>-0.389790</td>\n",
       "      <td>0.355663</td>\n",
       "      <td>0.231080</td>\n",
       "      <td>-0.383212</td>\n",
       "      <td>0.212184</td>\n",
       "      <td>1.000000</td>\n",
       "      <td>0.540590</td>\n",
       "      <td>-0.397252</td>\n",
       "      <td>0.081209</td>\n",
       "    </tr>\n",
       "    <tr>\n",
       "      <th>FDI (%GDP)</th>\n",
       "      <td>-0.370631</td>\n",
       "      <td>-0.461849</td>\n",
       "      <td>0.233112</td>\n",
       "      <td>0.356255</td>\n",
       "      <td>-0.337473</td>\n",
       "      <td>0.209844</td>\n",
       "      <td>0.540590</td>\n",
       "      <td>1.000000</td>\n",
       "      <td>-0.653634</td>\n",
       "      <td>0.078245</td>\n",
       "    </tr>\n",
       "    <tr>\n",
       "      <th>GDP Recipient</th>\n",
       "      <td>-0.300316</td>\n",
       "      <td>-0.093373</td>\n",
       "      <td>0.475252</td>\n",
       "      <td>0.089523</td>\n",
       "      <td>-0.354062</td>\n",
       "      <td>0.482748</td>\n",
       "      <td>-0.397252</td>\n",
       "      <td>-0.653634</td>\n",
       "      <td>1.000000</td>\n",
       "      <td>0.391818</td>\n",
       "    </tr>\n",
       "    <tr>\n",
       "      <th>Transparency_Accountability_Corruption_PublicSector_Rating</th>\n",
       "      <td>-0.759813</td>\n",
       "      <td>-0.574187</td>\n",
       "      <td>0.809611</td>\n",
       "      <td>0.702021</td>\n",
       "      <td>-0.783817</td>\n",
       "      <td>0.755282</td>\n",
       "      <td>0.081209</td>\n",
       "      <td>0.078245</td>\n",
       "      <td>0.391818</td>\n",
       "      <td>1.000000</td>\n",
       "    </tr>\n",
       "  </tbody>\n",
       "</table>\n",
       "</div>"
      ],
      "text/plain": [
       "                                                        Year  ODA Received  \\\n",
       "Year                                                1.000000      0.923308   \n",
       "ODA Received                                        0.923308      1.000000   \n",
       "Labor Force (%Population)                          -0.948761     -0.764799   \n",
       "Debt Policy Rating                                 -0.861626     -0.931845   \n",
       "Life Expectancy (Years)                             0.996783      0.893933   \n",
       "Trade (%GDP)                                       -0.777356     -0.497657   \n",
       "Inflation                                          -0.406880     -0.389790   \n",
       "FDI (%GDP)                                         -0.370631     -0.461849   \n",
       "GDP Recipient                                      -0.300316     -0.093373   \n",
       "Transparency_Accountability_Corruption_PublicSe... -0.759813     -0.574187   \n",
       "\n",
       "                                                    Labor Force (%Population)  \\\n",
       "Year                                                                -0.948761   \n",
       "ODA Received                                                        -0.764799   \n",
       "Labor Force (%Population)                                            1.000000   \n",
       "Debt Policy Rating                                                   0.701779   \n",
       "Life Expectancy (Years)                                             -0.969956   \n",
       "Trade (%GDP)                                                         0.891800   \n",
       "Inflation                                                            0.355663   \n",
       "FDI (%GDP)                                                           0.233112   \n",
       "GDP Recipient                                                        0.475252   \n",
       "Transparency_Accountability_Corruption_PublicSe...                   0.809611   \n",
       "\n",
       "                                                    Debt Policy Rating  \\\n",
       "Year                                                         -0.861626   \n",
       "ODA Received                                                 -0.931845   \n",
       "Labor Force (%Population)                                     0.701779   \n",
       "Debt Policy Rating                                            1.000000   \n",
       "Life Expectancy (Years)                                      -0.833990   \n",
       "Trade (%GDP)                                                  0.447851   \n",
       "Inflation                                                     0.231080   \n",
       "FDI (%GDP)                                                    0.356255   \n",
       "GDP Recipient                                                 0.089523   \n",
       "Transparency_Accountability_Corruption_PublicSe...            0.702021   \n",
       "\n",
       "                                                    Life Expectancy (Years)  \\\n",
       "Year                                                               0.996783   \n",
       "ODA Received                                                       0.893933   \n",
       "Labor Force (%Population)                                         -0.969956   \n",
       "Debt Policy Rating                                                -0.833990   \n",
       "Life Expectancy (Years)                                            1.000000   \n",
       "Trade (%GDP)                                                      -0.813937   \n",
       "Inflation                                                         -0.383212   \n",
       "FDI (%GDP)                                                        -0.337473   \n",
       "GDP Recipient                                                     -0.354062   \n",
       "Transparency_Accountability_Corruption_PublicSe...                -0.783817   \n",
       "\n",
       "                                                    Trade (%GDP)  Inflation  \\\n",
       "Year                                                   -0.777356  -0.406880   \n",
       "ODA Received                                           -0.497657  -0.389790   \n",
       "Labor Force (%Population)                               0.891800   0.355663   \n",
       "Debt Policy Rating                                      0.447851   0.231080   \n",
       "Life Expectancy (Years)                                -0.813937  -0.383212   \n",
       "Trade (%GDP)                                            1.000000   0.212184   \n",
       "Inflation                                               0.212184   1.000000   \n",
       "FDI (%GDP)                                              0.209844   0.540590   \n",
       "GDP Recipient                                           0.482748  -0.397252   \n",
       "Transparency_Accountability_Corruption_PublicSe...      0.755282   0.081209   \n",
       "\n",
       "                                                    FDI (%GDP)  GDP Recipient  \\\n",
       "Year                                                 -0.370631      -0.300316   \n",
       "ODA Received                                         -0.461849      -0.093373   \n",
       "Labor Force (%Population)                             0.233112       0.475252   \n",
       "Debt Policy Rating                                    0.356255       0.089523   \n",
       "Life Expectancy (Years)                              -0.337473      -0.354062   \n",
       "Trade (%GDP)                                          0.209844       0.482748   \n",
       "Inflation                                             0.540590      -0.397252   \n",
       "FDI (%GDP)                                            1.000000      -0.653634   \n",
       "GDP Recipient                                        -0.653634       1.000000   \n",
       "Transparency_Accountability_Corruption_PublicSe...    0.078245       0.391818   \n",
       "\n",
       "                                                    Transparency_Accountability_Corruption_PublicSector_Rating  \n",
       "Year                                                                                        -0.759813           \n",
       "ODA Received                                                                                -0.574187           \n",
       "Labor Force (%Population)                                                                    0.809611           \n",
       "Debt Policy Rating                                                                           0.702021           \n",
       "Life Expectancy (Years)                                                                     -0.783817           \n",
       "Trade (%GDP)                                                                                 0.755282           \n",
       "Inflation                                                                                    0.081209           \n",
       "FDI (%GDP)                                                                                   0.078245           \n",
       "GDP Recipient                                                                                0.391818           \n",
       "Transparency_Accountability_Corruption_PublicSe...                                           1.000000           "
      ]
     },
     "execution_count": 58,
     "metadata": {},
     "output_type": "execute_result"
    }
   ],
   "source": [
    "df_merge[df_merge[\"Country Name\"]==\"Low income\"].corr()"
   ]
  },
  {
   "cell_type": "code",
   "execution_count": 59,
   "id": "9eaeb0a5",
   "metadata": {},
   "outputs": [],
   "source": [
    "##observations:\n",
    "## 1) GDP is storngly correlated with all variables, except inflation and fdi\n",
    "## 2) GDP is not that strongly corr with ODA (negative - which means that if it increases, the other decreases - weird) and debt policy rate (positive)\n",
    "## 3) ODA is negatively corr with trade (one of codition to give aid is opennes to trade - so weird), fdi and liability - weird"
   ]
  },
  {
   "cell_type": "code",
   "execution_count": 60,
   "id": "21704343",
   "metadata": {},
   "outputs": [],
   "source": [
    "df_low=df_merge[df_merge[\"Country Name\"]==\"Low income\"]\n",
    "#df_low.head(2)"
   ]
  },
  {
   "cell_type": "code",
   "execution_count": 61,
   "id": "78702298",
   "metadata": {},
   "outputs": [
    {
     "name": "stderr",
     "output_type": "stream",
     "text": [
      "/var/folders/j7/4yrzqvzn643dv0t5y434hfhw0000gn/T/ipykernel_31885/2997576856.py:1: FutureWarning: As the xlwt package is no longer maintained, the xlwt engine will be removed in a future version of pandas. This is the only engine in pandas that supports writing in the xls format. Install openpyxl and write to an xlsx file instead. You can set the option io.excel.xls.writer to 'xlwt' to silence this warning. While this option is deprecated and will also raise a warning, it can be globally set and the warning suppressed.\n",
      "  df_low.to_excel(\"df_low.xls\")\n"
     ]
    }
   ],
   "source": [
    "df_low.to_excel(\"df_low.xls\")"
   ]
  },
  {
   "cell_type": "code",
   "execution_count": 62,
   "id": "a3382ab5",
   "metadata": {},
   "outputs": [
    {
     "name": "stdout",
     "output_type": "stream",
     "text": [
      "0.9999999999999938\n",
      "[ 1.32082411e+11 -3.02508208e+10  1.36390953e+01 -3.65858301e+11\n",
      " -5.55688126e+11 -8.01901406e+09 -1.12500502e+10 -3.96258869e+11\n",
      " -1.64738105e+11]\n"
     ]
    }
   ],
   "source": [
    "model_low = linear_model.LinearRegression()\n",
    "X_low = df_low[[\"Year\", \"FDI (%GDP)\", \"ODA Received\", \"Labor Force (%Population)\", \"Life Expectancy (Years)\", \"Trade (%GDP)\", \"Inflation\", \"Transparency_Accountability_Corruption_PublicSector_Rating\", \"Debt Policy Rating\"]]\n",
    "y_low = df_low['GDP Recipient']\n",
    "result_low = model_low.fit(X_low,y_low)\n",
    "\n",
    "print(result_low.score(X_low,y_low))\n",
    "print(result_low.coef_)\n",
    "\n",
    "#really good model\n",
    "#big and positive coef for oda"
   ]
  },
  {
   "cell_type": "code",
   "execution_count": 63,
   "id": "d88b234c",
   "metadata": {},
   "outputs": [
    {
     "data": {
      "text/plain": [
       "4228.653748366703"
      ]
     },
     "execution_count": 63,
     "metadata": {},
     "output_type": "execute_result"
    }
   ],
   "source": [
    "np.sqrt(mean_squared_error(y_low, model_low.predict(X_low)))\n",
    "#our model is wrong by 4228 dollars"
   ]
  },
  {
   "cell_type": "code",
   "execution_count": 64,
   "id": "118a8957",
   "metadata": {},
   "outputs": [
    {
     "name": "stdout",
     "output_type": "stream",
     "text": [
      "0.008718455716358653\n",
      "[-0.78960168]\n"
     ]
    }
   ],
   "source": [
    "#Lets see the regression with ODA only\n",
    "\n",
    "model_ODA_low = linear_model.LinearRegression()\n",
    "X_ODA_low = df_low[[\"ODA Received\"]]\n",
    "y_ODA_low = df_low['GDP Recipient']\n",
    "result_ODA_low = model_ODA_low.fit(X_ODA_low,y_ODA_low)\n",
    "\n",
    "print(result_ODA_low.score(X_ODA_low,y_ODA_low))\n",
    "print(result_ODA_low.coef_)\n",
    "\n",
    "#model is ok\n",
    "#small coef for oda"
   ]
  },
  {
   "cell_type": "code",
   "execution_count": null,
   "id": "c6c3ff96",
   "metadata": {},
   "outputs": [],
   "source": []
  },
  {
   "cell_type": "code",
   "execution_count": null,
   "id": "efe46a59",
   "metadata": {},
   "outputs": [],
   "source": []
  },
  {
   "cell_type": "code",
   "execution_count": null,
   "id": "7e34d7fc",
   "metadata": {},
   "outputs": [],
   "source": []
  },
  {
   "cell_type": "code",
   "execution_count": null,
   "id": "0f6b13a9",
   "metadata": {},
   "outputs": [],
   "source": []
  },
  {
   "cell_type": "code",
   "execution_count": null,
   "id": "a75d0cbd",
   "metadata": {},
   "outputs": [],
   "source": []
  },
  {
   "cell_type": "code",
   "execution_count": 65,
   "id": "87cd3510",
   "metadata": {},
   "outputs": [],
   "source": [
    "###ANALYSIS FOR Lower middle income"
   ]
  },
  {
   "cell_type": "code",
   "execution_count": 66,
   "id": "604561bd",
   "metadata": {},
   "outputs": [
    {
     "data": {
      "text/html": [
       "<div>\n",
       "<style scoped>\n",
       "    .dataframe tbody tr th:only-of-type {\n",
       "        vertical-align: middle;\n",
       "    }\n",
       "\n",
       "    .dataframe tbody tr th {\n",
       "        vertical-align: top;\n",
       "    }\n",
       "\n",
       "    .dataframe thead th {\n",
       "        text-align: right;\n",
       "    }\n",
       "</style>\n",
       "<table border=\"1\" class=\"dataframe\">\n",
       "  <thead>\n",
       "    <tr style=\"text-align: right;\">\n",
       "      <th></th>\n",
       "      <th>Year</th>\n",
       "      <th>ODA Received</th>\n",
       "      <th>Labor Force (%Population)</th>\n",
       "      <th>Debt Policy Rating</th>\n",
       "      <th>Life Expectancy (Years)</th>\n",
       "      <th>Trade (%GDP)</th>\n",
       "      <th>Inflation</th>\n",
       "      <th>FDI (%GDP)</th>\n",
       "      <th>GDP Recipient</th>\n",
       "      <th>Transparency_Accountability_Corruption_PublicSector_Rating</th>\n",
       "    </tr>\n",
       "  </thead>\n",
       "  <tbody>\n",
       "    <tr>\n",
       "      <th>count</th>\n",
       "      <td>10.00000</td>\n",
       "      <td>1.000000e+01</td>\n",
       "      <td>10.000000</td>\n",
       "      <td>10.000000</td>\n",
       "      <td>10.000000</td>\n",
       "      <td>10.000000</td>\n",
       "      <td>10.000000</td>\n",
       "      <td>10.000000</td>\n",
       "      <td>1.000000e+01</td>\n",
       "      <td>10.000000</td>\n",
       "    </tr>\n",
       "    <tr>\n",
       "      <th>mean</th>\n",
       "      <td>2014.50000</td>\n",
       "      <td>4.485065e+10</td>\n",
       "      <td>59.087671</td>\n",
       "      <td>3.514610</td>\n",
       "      <td>67.866874</td>\n",
       "      <td>53.661379</td>\n",
       "      <td>4.487863</td>\n",
       "      <td>1.897563</td>\n",
       "      <td>6.583266e+12</td>\n",
       "      <td>2.948599</td>\n",
       "    </tr>\n",
       "    <tr>\n",
       "      <th>std</th>\n",
       "      <td>3.02765</td>\n",
       "      <td>4.082683e+09</td>\n",
       "      <td>0.696918</td>\n",
       "      <td>0.077809</td>\n",
       "      <td>0.916117</td>\n",
       "      <td>4.021169</td>\n",
       "      <td>1.002541</td>\n",
       "      <td>0.123398</td>\n",
       "      <td>7.381127e+11</td>\n",
       "      <td>0.037187</td>\n",
       "    </tr>\n",
       "    <tr>\n",
       "      <th>min</th>\n",
       "      <td>2010.00000</td>\n",
       "      <td>3.914048e+10</td>\n",
       "      <td>58.432277</td>\n",
       "      <td>3.384615</td>\n",
       "      <td>66.372159</td>\n",
       "      <td>47.336234</td>\n",
       "      <td>3.319254</td>\n",
       "      <td>1.725899</td>\n",
       "      <td>5.200811e+12</td>\n",
       "      <td>2.865854</td>\n",
       "    </tr>\n",
       "    <tr>\n",
       "      <th>25%</th>\n",
       "      <td>2012.25000</td>\n",
       "      <td>4.235392e+10</td>\n",
       "      <td>58.520868</td>\n",
       "      <td>3.450658</td>\n",
       "      <td>67.223833</td>\n",
       "      <td>50.652477</td>\n",
       "      <td>3.691041</td>\n",
       "      <td>1.818935</td>\n",
       "      <td>6.258535e+12</td>\n",
       "      <td>2.937042</td>\n",
       "    </tr>\n",
       "    <tr>\n",
       "      <th>50%</th>\n",
       "      <td>2014.50000</td>\n",
       "      <td>4.428579e+10</td>\n",
       "      <td>58.852280</td>\n",
       "      <td>3.554152</td>\n",
       "      <td>67.960777</td>\n",
       "      <td>54.430721</td>\n",
       "      <td>4.386205</td>\n",
       "      <td>1.896964</td>\n",
       "      <td>6.527749e+12</td>\n",
       "      <td>2.947368</td>\n",
       "    </tr>\n",
       "    <tr>\n",
       "      <th>75%</th>\n",
       "      <td>2016.75000</td>\n",
       "      <td>4.660058e+10</td>\n",
       "      <td>59.449176</td>\n",
       "      <td>3.576290</td>\n",
       "      <td>68.577483</td>\n",
       "      <td>55.939638</td>\n",
       "      <td>5.162040</td>\n",
       "      <td>1.936585</td>\n",
       "      <td>7.119255e+12</td>\n",
       "      <td>2.976045</td>\n",
       "    </tr>\n",
       "    <tr>\n",
       "      <th>max</th>\n",
       "      <td>2019.00000</td>\n",
       "      <td>5.302362e+10</td>\n",
       "      <td>60.406194</td>\n",
       "      <td>3.585366</td>\n",
       "      <td>69.088492</td>\n",
       "      <td>59.655201</td>\n",
       "      <td>6.332795</td>\n",
       "      <td>2.168228</td>\n",
       "      <td>7.735773e+12</td>\n",
       "      <td>2.988372</td>\n",
       "    </tr>\n",
       "  </tbody>\n",
       "</table>\n",
       "</div>"
      ],
      "text/plain": [
       "             Year  ODA Received  Labor Force (%Population)  \\\n",
       "count    10.00000  1.000000e+01                  10.000000   \n",
       "mean   2014.50000  4.485065e+10                  59.087671   \n",
       "std       3.02765  4.082683e+09                   0.696918   \n",
       "min    2010.00000  3.914048e+10                  58.432277   \n",
       "25%    2012.25000  4.235392e+10                  58.520868   \n",
       "50%    2014.50000  4.428579e+10                  58.852280   \n",
       "75%    2016.75000  4.660058e+10                  59.449176   \n",
       "max    2019.00000  5.302362e+10                  60.406194   \n",
       "\n",
       "       Debt Policy Rating  Life Expectancy (Years)  Trade (%GDP)  Inflation  \\\n",
       "count           10.000000                10.000000     10.000000  10.000000   \n",
       "mean             3.514610                67.866874     53.661379   4.487863   \n",
       "std              0.077809                 0.916117      4.021169   1.002541   \n",
       "min              3.384615                66.372159     47.336234   3.319254   \n",
       "25%              3.450658                67.223833     50.652477   3.691041   \n",
       "50%              3.554152                67.960777     54.430721   4.386205   \n",
       "75%              3.576290                68.577483     55.939638   5.162040   \n",
       "max              3.585366                69.088492     59.655201   6.332795   \n",
       "\n",
       "       FDI (%GDP)  GDP Recipient  \\\n",
       "count   10.000000   1.000000e+01   \n",
       "mean     1.897563   6.583266e+12   \n",
       "std      0.123398   7.381127e+11   \n",
       "min      1.725899   5.200811e+12   \n",
       "25%      1.818935   6.258535e+12   \n",
       "50%      1.896964   6.527749e+12   \n",
       "75%      1.936585   7.119255e+12   \n",
       "max      2.168228   7.735773e+12   \n",
       "\n",
       "       Transparency_Accountability_Corruption_PublicSector_Rating  \n",
       "count                                          10.000000           \n",
       "mean                                            2.948599           \n",
       "std                                             0.037187           \n",
       "min                                             2.865854           \n",
       "25%                                             2.937042           \n",
       "50%                                             2.947368           \n",
       "75%                                             2.976045           \n",
       "max                                             2.988372           "
      ]
     },
     "execution_count": 66,
     "metadata": {},
     "output_type": "execute_result"
    }
   ],
   "source": [
    "df_merge[df_merge[\"Country Name\"]==\"Lower middle income\"].describe()"
   ]
  },
  {
   "cell_type": "code",
   "execution_count": 67,
   "id": "f516ae1b",
   "metadata": {},
   "outputs": [
    {
     "data": {
      "text/html": [
       "<div>\n",
       "<style scoped>\n",
       "    .dataframe tbody tr th:only-of-type {\n",
       "        vertical-align: middle;\n",
       "    }\n",
       "\n",
       "    .dataframe tbody tr th {\n",
       "        vertical-align: top;\n",
       "    }\n",
       "\n",
       "    .dataframe thead th {\n",
       "        text-align: right;\n",
       "    }\n",
       "</style>\n",
       "<table border=\"1\" class=\"dataframe\">\n",
       "  <thead>\n",
       "    <tr style=\"text-align: right;\">\n",
       "      <th></th>\n",
       "      <th>Year</th>\n",
       "      <th>ODA Received</th>\n",
       "      <th>Labor Force (%Population)</th>\n",
       "      <th>Debt Policy Rating</th>\n",
       "      <th>Life Expectancy (Years)</th>\n",
       "      <th>Trade (%GDP)</th>\n",
       "      <th>Inflation</th>\n",
       "      <th>FDI (%GDP)</th>\n",
       "      <th>GDP Recipient</th>\n",
       "      <th>Transparency_Accountability_Corruption_PublicSector_Rating</th>\n",
       "    </tr>\n",
       "  </thead>\n",
       "  <tbody>\n",
       "    <tr>\n",
       "      <th>Year</th>\n",
       "      <td>1.000000</td>\n",
       "      <td>0.235140</td>\n",
       "      <td>-0.936761</td>\n",
       "      <td>-0.866666</td>\n",
       "      <td>0.995327</td>\n",
       "      <td>-0.641092</td>\n",
       "      <td>-0.826215</td>\n",
       "      <td>0.031930</td>\n",
       "      <td>0.964989</td>\n",
       "      <td>0.118180</td>\n",
       "    </tr>\n",
       "    <tr>\n",
       "      <th>ODA Received</th>\n",
       "      <td>0.235140</td>\n",
       "      <td>1.000000</td>\n",
       "      <td>-0.378705</td>\n",
       "      <td>0.120203</td>\n",
       "      <td>0.284009</td>\n",
       "      <td>-0.122320</td>\n",
       "      <td>0.003324</td>\n",
       "      <td>-0.098707</td>\n",
       "      <td>0.340693</td>\n",
       "      <td>0.706819</td>\n",
       "    </tr>\n",
       "    <tr>\n",
       "      <th>Labor Force (%Population)</th>\n",
       "      <td>-0.936761</td>\n",
       "      <td>-0.378705</td>\n",
       "      <td>1.000000</td>\n",
       "      <td>0.658225</td>\n",
       "      <td>-0.965772</td>\n",
       "      <td>0.709259</td>\n",
       "      <td>0.777231</td>\n",
       "      <td>0.008631</td>\n",
       "      <td>-0.909463</td>\n",
       "      <td>-0.382592</td>\n",
       "    </tr>\n",
       "    <tr>\n",
       "      <th>Debt Policy Rating</th>\n",
       "      <td>-0.866666</td>\n",
       "      <td>0.120203</td>\n",
       "      <td>0.658225</td>\n",
       "      <td>1.000000</td>\n",
       "      <td>-0.819279</td>\n",
       "      <td>0.424345</td>\n",
       "      <td>0.737439</td>\n",
       "      <td>-0.001504</td>\n",
       "      <td>-0.819580</td>\n",
       "      <td>0.319092</td>\n",
       "    </tr>\n",
       "    <tr>\n",
       "      <th>Life Expectancy (Years)</th>\n",
       "      <td>0.995327</td>\n",
       "      <td>0.284009</td>\n",
       "      <td>-0.965772</td>\n",
       "      <td>-0.819279</td>\n",
       "      <td>1.000000</td>\n",
       "      <td>-0.666645</td>\n",
       "      <td>-0.818686</td>\n",
       "      <td>0.029794</td>\n",
       "      <td>0.963604</td>\n",
       "      <td>0.197801</td>\n",
       "    </tr>\n",
       "    <tr>\n",
       "      <th>Trade (%GDP)</th>\n",
       "      <td>-0.641092</td>\n",
       "      <td>-0.122320</td>\n",
       "      <td>0.709259</td>\n",
       "      <td>0.424345</td>\n",
       "      <td>-0.666645</td>\n",
       "      <td>1.000000</td>\n",
       "      <td>0.871759</td>\n",
       "      <td>-0.123435</td>\n",
       "      <td>-0.482233</td>\n",
       "      <td>-0.117316</td>\n",
       "    </tr>\n",
       "    <tr>\n",
       "      <th>Inflation</th>\n",
       "      <td>-0.826215</td>\n",
       "      <td>0.003324</td>\n",
       "      <td>0.777231</td>\n",
       "      <td>0.737439</td>\n",
       "      <td>-0.818686</td>\n",
       "      <td>0.871759</td>\n",
       "      <td>1.000000</td>\n",
       "      <td>-0.007890</td>\n",
       "      <td>-0.680702</td>\n",
       "      <td>0.099441</td>\n",
       "    </tr>\n",
       "    <tr>\n",
       "      <th>FDI (%GDP)</th>\n",
       "      <td>0.031930</td>\n",
       "      <td>-0.098707</td>\n",
       "      <td>0.008631</td>\n",
       "      <td>-0.001504</td>\n",
       "      <td>0.029794</td>\n",
       "      <td>-0.123435</td>\n",
       "      <td>-0.007890</td>\n",
       "      <td>1.000000</td>\n",
       "      <td>-0.017353</td>\n",
       "      <td>0.108217</td>\n",
       "    </tr>\n",
       "    <tr>\n",
       "      <th>GDP Recipient</th>\n",
       "      <td>0.964989</td>\n",
       "      <td>0.340693</td>\n",
       "      <td>-0.909463</td>\n",
       "      <td>-0.819580</td>\n",
       "      <td>0.963604</td>\n",
       "      <td>-0.482233</td>\n",
       "      <td>-0.680702</td>\n",
       "      <td>-0.017353</td>\n",
       "      <td>1.000000</td>\n",
       "      <td>0.239559</td>\n",
       "    </tr>\n",
       "    <tr>\n",
       "      <th>Transparency_Accountability_Corruption_PublicSector_Rating</th>\n",
       "      <td>0.118180</td>\n",
       "      <td>0.706819</td>\n",
       "      <td>-0.382592</td>\n",
       "      <td>0.319092</td>\n",
       "      <td>0.197801</td>\n",
       "      <td>-0.117316</td>\n",
       "      <td>0.099441</td>\n",
       "      <td>0.108217</td>\n",
       "      <td>0.239559</td>\n",
       "      <td>1.000000</td>\n",
       "    </tr>\n",
       "  </tbody>\n",
       "</table>\n",
       "</div>"
      ],
      "text/plain": [
       "                                                        Year  ODA Received  \\\n",
       "Year                                                1.000000      0.235140   \n",
       "ODA Received                                        0.235140      1.000000   \n",
       "Labor Force (%Population)                          -0.936761     -0.378705   \n",
       "Debt Policy Rating                                 -0.866666      0.120203   \n",
       "Life Expectancy (Years)                             0.995327      0.284009   \n",
       "Trade (%GDP)                                       -0.641092     -0.122320   \n",
       "Inflation                                          -0.826215      0.003324   \n",
       "FDI (%GDP)                                          0.031930     -0.098707   \n",
       "GDP Recipient                                       0.964989      0.340693   \n",
       "Transparency_Accountability_Corruption_PublicSe...  0.118180      0.706819   \n",
       "\n",
       "                                                    Labor Force (%Population)  \\\n",
       "Year                                                                -0.936761   \n",
       "ODA Received                                                        -0.378705   \n",
       "Labor Force (%Population)                                            1.000000   \n",
       "Debt Policy Rating                                                   0.658225   \n",
       "Life Expectancy (Years)                                             -0.965772   \n",
       "Trade (%GDP)                                                         0.709259   \n",
       "Inflation                                                            0.777231   \n",
       "FDI (%GDP)                                                           0.008631   \n",
       "GDP Recipient                                                       -0.909463   \n",
       "Transparency_Accountability_Corruption_PublicSe...                  -0.382592   \n",
       "\n",
       "                                                    Debt Policy Rating  \\\n",
       "Year                                                         -0.866666   \n",
       "ODA Received                                                  0.120203   \n",
       "Labor Force (%Population)                                     0.658225   \n",
       "Debt Policy Rating                                            1.000000   \n",
       "Life Expectancy (Years)                                      -0.819279   \n",
       "Trade (%GDP)                                                  0.424345   \n",
       "Inflation                                                     0.737439   \n",
       "FDI (%GDP)                                                   -0.001504   \n",
       "GDP Recipient                                                -0.819580   \n",
       "Transparency_Accountability_Corruption_PublicSe...            0.319092   \n",
       "\n",
       "                                                    Life Expectancy (Years)  \\\n",
       "Year                                                               0.995327   \n",
       "ODA Received                                                       0.284009   \n",
       "Labor Force (%Population)                                         -0.965772   \n",
       "Debt Policy Rating                                                -0.819279   \n",
       "Life Expectancy (Years)                                            1.000000   \n",
       "Trade (%GDP)                                                      -0.666645   \n",
       "Inflation                                                         -0.818686   \n",
       "FDI (%GDP)                                                         0.029794   \n",
       "GDP Recipient                                                      0.963604   \n",
       "Transparency_Accountability_Corruption_PublicSe...                 0.197801   \n",
       "\n",
       "                                                    Trade (%GDP)  Inflation  \\\n",
       "Year                                                   -0.641092  -0.826215   \n",
       "ODA Received                                           -0.122320   0.003324   \n",
       "Labor Force (%Population)                               0.709259   0.777231   \n",
       "Debt Policy Rating                                      0.424345   0.737439   \n",
       "Life Expectancy (Years)                                -0.666645  -0.818686   \n",
       "Trade (%GDP)                                            1.000000   0.871759   \n",
       "Inflation                                               0.871759   1.000000   \n",
       "FDI (%GDP)                                             -0.123435  -0.007890   \n",
       "GDP Recipient                                          -0.482233  -0.680702   \n",
       "Transparency_Accountability_Corruption_PublicSe...     -0.117316   0.099441   \n",
       "\n",
       "                                                    FDI (%GDP)  GDP Recipient  \\\n",
       "Year                                                  0.031930       0.964989   \n",
       "ODA Received                                         -0.098707       0.340693   \n",
       "Labor Force (%Population)                             0.008631      -0.909463   \n",
       "Debt Policy Rating                                   -0.001504      -0.819580   \n",
       "Life Expectancy (Years)                               0.029794       0.963604   \n",
       "Trade (%GDP)                                         -0.123435      -0.482233   \n",
       "Inflation                                            -0.007890      -0.680702   \n",
       "FDI (%GDP)                                            1.000000      -0.017353   \n",
       "GDP Recipient                                        -0.017353       1.000000   \n",
       "Transparency_Accountability_Corruption_PublicSe...    0.108217       0.239559   \n",
       "\n",
       "                                                    Transparency_Accountability_Corruption_PublicSector_Rating  \n",
       "Year                                                                                         0.118180           \n",
       "ODA Received                                                                                 0.706819           \n",
       "Labor Force (%Population)                                                                   -0.382592           \n",
       "Debt Policy Rating                                                                           0.319092           \n",
       "Life Expectancy (Years)                                                                      0.197801           \n",
       "Trade (%GDP)                                                                                -0.117316           \n",
       "Inflation                                                                                    0.099441           \n",
       "FDI (%GDP)                                                                                   0.108217           \n",
       "GDP Recipient                                                                                0.239559           \n",
       "Transparency_Accountability_Corruption_PublicSe...                                           1.000000           "
      ]
     },
     "execution_count": 67,
     "metadata": {},
     "output_type": "execute_result"
    }
   ],
   "source": [
    "df_merge[df_merge[\"Country Name\"]==\"Lower middle income\"].corr()"
   ]
  },
  {
   "cell_type": "code",
   "execution_count": 68,
   "id": "71dc169d",
   "metadata": {},
   "outputs": [],
   "source": [
    "##Observations:\n",
    "##1) GDP is strongly corr with variables, except ODA (not that much, but its positive), trade (not that much but it´s \n",
    "##negative which means that trade is not a good thing for those countries, while ODA is), fdi(low and negative), liability (not that much and positive)\n",
    "## 2) ODA is not strongly related with anything except liability (positive)"
   ]
  },
  {
   "cell_type": "code",
   "execution_count": 69,
   "id": "60e26186",
   "metadata": {},
   "outputs": [
    {
     "data": {
      "text/html": [
       "<div>\n",
       "<style scoped>\n",
       "    .dataframe tbody tr th:only-of-type {\n",
       "        vertical-align: middle;\n",
       "    }\n",
       "\n",
       "    .dataframe tbody tr th {\n",
       "        vertical-align: top;\n",
       "    }\n",
       "\n",
       "    .dataframe thead th {\n",
       "        text-align: right;\n",
       "    }\n",
       "</style>\n",
       "<table border=\"1\" class=\"dataframe\">\n",
       "  <thead>\n",
       "    <tr style=\"text-align: right;\">\n",
       "      <th></th>\n",
       "      <th>Country Name</th>\n",
       "      <th>Year</th>\n",
       "      <th>ODA Received</th>\n",
       "      <th>Labor Force (%Population)</th>\n",
       "      <th>Debt Policy Rating</th>\n",
       "      <th>Life Expectancy (Years)</th>\n",
       "      <th>Trade (%GDP)</th>\n",
       "      <th>Inflation</th>\n",
       "      <th>FDI (%GDP)</th>\n",
       "      <th>GDP Recipient</th>\n",
       "      <th>Transparency_Accountability_Corruption_PublicSector_Rating</th>\n",
       "    </tr>\n",
       "  </thead>\n",
       "  <tbody>\n",
       "    <tr>\n",
       "      <th>4</th>\n",
       "      <td>Lower middle income</td>\n",
       "      <td>2010</td>\n",
       "      <td>3.914048e+10</td>\n",
       "      <td>60.406194</td>\n",
       "      <td>3.560976</td>\n",
       "      <td>66.372159</td>\n",
       "      <td>55.583573</td>\n",
       "      <td>4.827342</td>\n",
       "      <td>1.889465</td>\n",
       "      <td>5.200811e+12</td>\n",
       "      <td>2.865854</td>\n",
       "    </tr>\n",
       "    <tr>\n",
       "      <th>9</th>\n",
       "      <td>Lower middle income</td>\n",
       "      <td>2011</td>\n",
       "      <td>4.117182e+10</td>\n",
       "      <td>60.028412</td>\n",
       "      <td>3.559524</td>\n",
       "      <td>66.766305</td>\n",
       "      <td>59.655201</td>\n",
       "      <td>6.332795</td>\n",
       "      <td>1.982994</td>\n",
       "      <td>5.935836e+12</td>\n",
       "      <td>2.940476</td>\n",
       "    </tr>\n",
       "  </tbody>\n",
       "</table>\n",
       "</div>"
      ],
      "text/plain": [
       "          Country Name  Year  ODA Received  Labor Force (%Population)  \\\n",
       "4  Lower middle income  2010  3.914048e+10                  60.406194   \n",
       "9  Lower middle income  2011  4.117182e+10                  60.028412   \n",
       "\n",
       "   Debt Policy Rating  Life Expectancy (Years)  Trade (%GDP)  Inflation  \\\n",
       "4            3.560976                66.372159     55.583573   4.827342   \n",
       "9            3.559524                66.766305     59.655201   6.332795   \n",
       "\n",
       "   FDI (%GDP)  GDP Recipient  \\\n",
       "4    1.889465   5.200811e+12   \n",
       "9    1.982994   5.935836e+12   \n",
       "\n",
       "   Transparency_Accountability_Corruption_PublicSector_Rating  \n",
       "4                                           2.865854           \n",
       "9                                           2.940476           "
      ]
     },
     "execution_count": 69,
     "metadata": {},
     "output_type": "execute_result"
    }
   ],
   "source": [
    "df_lowermiddle=df_merge[df_merge[\"Country Name\"]==\"Lower middle income\"]\n",
    "df_lowermiddle.head(2)"
   ]
  },
  {
   "cell_type": "code",
   "execution_count": 70,
   "id": "0159ac69",
   "metadata": {},
   "outputs": [
    {
     "name": "stderr",
     "output_type": "stream",
     "text": [
      "/var/folders/j7/4yrzqvzn643dv0t5y434hfhw0000gn/T/ipykernel_31885/1723490168.py:1: FutureWarning: As the xlwt package is no longer maintained, the xlwt engine will be removed in a future version of pandas. This is the only engine in pandas that supports writing in the xls format. Install openpyxl and write to an xlsx file instead. You can set the option io.excel.xls.writer to 'xlwt' to silence this warning. While this option is deprecated and will also raise a warning, it can be globally set and the warning suppressed.\n",
      "  df_lowermiddle.to_excel(\"df_lowermiddle.xls\")\n"
     ]
    }
   ],
   "source": [
    "df_lowermiddle.to_excel(\"df_lowermiddle.xls\")"
   ]
  },
  {
   "cell_type": "code",
   "execution_count": 71,
   "id": "cd6592a4",
   "metadata": {},
   "outputs": [
    {
     "name": "stdout",
     "output_type": "stream",
     "text": [
      "0.9999999999920559\n",
      "[-1.15161525e+13 -2.54021426e+12 -7.16381836e+01  1.76034752e+13\n",
      "  5.18647923e+13  2.71240685e+11 -1.35277653e+12 -2.86438557e+12\n",
      "  8.16450322e+12]\n"
     ]
    }
   ],
   "source": [
    "model_lowermiddle = linear_model.LinearRegression()\n",
    "X_lowermiddle = df_lowermiddle[[\"Year\", \"FDI (%GDP)\", \"ODA Received\", \"Labor Force (%Population)\", \"Life Expectancy (Years)\", \"Trade (%GDP)\", \"Inflation\", \"Transparency_Accountability_Corruption_PublicSector_Rating\", \"Debt Policy Rating\"]]\n",
    "y_lowermiddle = df_lowermiddle['GDP Recipient']\n",
    "result_lowermiddle = model_lowermiddle.fit(X_lowermiddle,y_lowermiddle)\n",
    "\n",
    "print(result_lowermiddle.score(X_lowermiddle,y_lowermiddle))\n",
    "print(result_lowermiddle.coef_)\n",
    "\n",
    "#really good model\n",
    "#big coef for oda but negative"
   ]
  },
  {
   "cell_type": "code",
   "execution_count": 72,
   "id": "37008e6b",
   "metadata": {},
   "outputs": [
    {
     "data": {
      "text/plain": [
       "1973634.8718633428"
      ]
     },
     "execution_count": 72,
     "metadata": {},
     "output_type": "execute_result"
    }
   ],
   "source": [
    "np.sqrt(mean_squared_error(y_lowermiddle, model_lowermiddle.predict(X_lowermiddle)))\n",
    "#our model is wrong by 15 dollars"
   ]
  },
  {
   "cell_type": "code",
   "execution_count": 73,
   "id": "81cc627e",
   "metadata": {},
   "outputs": [
    {
     "name": "stdout",
     "output_type": "stream",
     "text": [
      "0.11607191478873347\n",
      "[61.59430528]\n"
     ]
    }
   ],
   "source": [
    "#lets see the regression with ODA only\n",
    "\n",
    "model_ODA_lowermiddle = linear_model.LinearRegression()\n",
    "X_ODA_lowermiddle = df_lowermiddle[[\"ODA Received\"]]\n",
    "y_ODA_lowermiddle = df_lowermiddle['GDP Recipient']\n",
    "result_ODA_lowermiddle = model_ODA_lowermiddle.fit(X_ODA_lowermiddle,y_ODA_lowermiddle)\n",
    "\n",
    "print(result_ODA_lowermiddle.score(X_ODA_lowermiddle,y_ODA_lowermiddle))\n",
    "print(result_ODA_lowermiddle.coef_)\n",
    "\n",
    "#really really good model\n",
    "#small coef for oda"
   ]
  },
  {
   "cell_type": "code",
   "execution_count": null,
   "id": "7fdce655",
   "metadata": {},
   "outputs": [],
   "source": []
  },
  {
   "cell_type": "code",
   "execution_count": null,
   "id": "4cd65d54",
   "metadata": {},
   "outputs": [],
   "source": []
  },
  {
   "cell_type": "code",
   "execution_count": null,
   "id": "0a2157fb",
   "metadata": {},
   "outputs": [],
   "source": []
  },
  {
   "cell_type": "code",
   "execution_count": null,
   "id": "895de751",
   "metadata": {},
   "outputs": [],
   "source": []
  },
  {
   "cell_type": "code",
   "execution_count": 74,
   "id": "9231f4db",
   "metadata": {},
   "outputs": [],
   "source": [
    "##Predicting for Lower Middle Income Countries & Least Developed Countries (positive relation between GDP and ODA)\n",
    "#Questions: How will they be if we increase the ODA for 0.7% of the GDP of the OECD/DAC donor countries in 2022? Will they change\n",
    "#their income classification?"
   ]
  },
  {
   "cell_type": "code",
   "execution_count": 75,
   "id": "7007ec52",
   "metadata": {},
   "outputs": [],
   "source": [
    "##First, we need to predict the GDP of the DAC donor countries for 2022\n",
    "##Second, we need to predict our indep variable values for 2022\n",
    "##Third, using our regression models for Lower Middle Income Countries & Least Developed Countries, we can see how their GDP will be affected"
   ]
  },
  {
   "cell_type": "code",
   "execution_count": 76,
   "id": "b4a2262d",
   "metadata": {},
   "outputs": [
    {
     "data": {
      "text/html": [
       "<div>\n",
       "<style scoped>\n",
       "    .dataframe tbody tr th:only-of-type {\n",
       "        vertical-align: middle;\n",
       "    }\n",
       "\n",
       "    .dataframe tbody tr th {\n",
       "        vertical-align: top;\n",
       "    }\n",
       "\n",
       "    .dataframe thead th {\n",
       "        text-align: right;\n",
       "    }\n",
       "</style>\n",
       "<table border=\"1\" class=\"dataframe\">\n",
       "  <thead>\n",
       "    <tr style=\"text-align: right;\">\n",
       "      <th></th>\n",
       "      <th>Country Name</th>\n",
       "      <th>1960</th>\n",
       "      <th>1961</th>\n",
       "      <th>1962</th>\n",
       "      <th>1963</th>\n",
       "      <th>1964</th>\n",
       "      <th>1965</th>\n",
       "      <th>1966</th>\n",
       "      <th>1967</th>\n",
       "      <th>1968</th>\n",
       "      <th>...</th>\n",
       "      <th>2011</th>\n",
       "      <th>2012</th>\n",
       "      <th>2013</th>\n",
       "      <th>2014</th>\n",
       "      <th>2015</th>\n",
       "      <th>2016</th>\n",
       "      <th>2017</th>\n",
       "      <th>2018</th>\n",
       "      <th>2019</th>\n",
       "      <th>2020</th>\n",
       "    </tr>\n",
       "  </thead>\n",
       "  <tbody>\n",
       "    <tr>\n",
       "      <th>13</th>\n",
       "      <td>Australia</td>\n",
       "      <td>1.860679e+10</td>\n",
       "      <td>1.968306e+10</td>\n",
       "      <td>1.992272e+10</td>\n",
       "      <td>2.153993e+10</td>\n",
       "      <td>2.380110e+10</td>\n",
       "      <td>2.597715e+10</td>\n",
       "      <td>2.730989e+10</td>\n",
       "      <td>3.044462e+10</td>\n",
       "      <td>3.271699e+10</td>\n",
       "      <td>...</td>\n",
       "      <td>1.397908e+12</td>\n",
       "      <td>1.546509e+12</td>\n",
       "      <td>1.576335e+12</td>\n",
       "      <td>1.467505e+12</td>\n",
       "      <td>1.350534e+12</td>\n",
       "      <td>1.206685e+12</td>\n",
       "      <td>1.326883e+12</td>\n",
       "      <td>1.428530e+12</td>\n",
       "      <td>1.391953e+12</td>\n",
       "      <td>1.327836e+12</td>\n",
       "    </tr>\n",
       "    <tr>\n",
       "      <th>14</th>\n",
       "      <td>Austria</td>\n",
       "      <td>6.592694e+09</td>\n",
       "      <td>7.311750e+09</td>\n",
       "      <td>7.756110e+09</td>\n",
       "      <td>8.374175e+09</td>\n",
       "      <td>9.169984e+09</td>\n",
       "      <td>9.994071e+09</td>\n",
       "      <td>1.088768e+10</td>\n",
       "      <td>1.157943e+10</td>\n",
       "      <td>1.244063e+10</td>\n",
       "      <td>...</td>\n",
       "      <td>4.311203e+11</td>\n",
       "      <td>4.094252e+11</td>\n",
       "      <td>4.300687e+11</td>\n",
       "      <td>4.419961e+11</td>\n",
       "      <td>3.818176e+11</td>\n",
       "      <td>3.955686e+11</td>\n",
       "      <td>4.162305e+11</td>\n",
       "      <td>4.549459e+11</td>\n",
       "      <td>4.450119e+11</td>\n",
       "      <td>4.332585e+11</td>\n",
       "    </tr>\n",
       "    <tr>\n",
       "      <th>17</th>\n",
       "      <td>Belgium</td>\n",
       "      <td>1.165872e+10</td>\n",
       "      <td>1.240015e+10</td>\n",
       "      <td>1.326402e+10</td>\n",
       "      <td>1.426002e+10</td>\n",
       "      <td>1.596011e+10</td>\n",
       "      <td>1.737146e+10</td>\n",
       "      <td>1.865188e+10</td>\n",
       "      <td>1.999204e+10</td>\n",
       "      <td>2.137635e+10</td>\n",
       "      <td>...</td>\n",
       "      <td>5.226455e+11</td>\n",
       "      <td>4.961813e+11</td>\n",
       "      <td>5.216427e+11</td>\n",
       "      <td>5.346781e+11</td>\n",
       "      <td>4.621497e+11</td>\n",
       "      <td>4.757396e+11</td>\n",
       "      <td>5.015229e+11</td>\n",
       "      <td>5.430085e+11</td>\n",
       "      <td>5.352887e+11</td>\n",
       "      <td>5.218613e+11</td>\n",
       "    </tr>\n",
       "    <tr>\n",
       "      <th>35</th>\n",
       "      <td>Canada</td>\n",
       "      <td>4.046172e+10</td>\n",
       "      <td>4.093495e+10</td>\n",
       "      <td>4.222745e+10</td>\n",
       "      <td>4.502999e+10</td>\n",
       "      <td>4.937752e+10</td>\n",
       "      <td>5.451518e+10</td>\n",
       "      <td>6.108838e+10</td>\n",
       "      <td>6.566866e+10</td>\n",
       "      <td>7.182981e+10</td>\n",
       "      <td>...</td>\n",
       "      <td>1.793327e+12</td>\n",
       "      <td>1.828366e+12</td>\n",
       "      <td>1.846597e+12</td>\n",
       "      <td>1.805750e+12</td>\n",
       "      <td>1.556509e+12</td>\n",
       "      <td>1.527995e+12</td>\n",
       "      <td>1.649266e+12</td>\n",
       "      <td>1.725329e+12</td>\n",
       "      <td>1.742015e+12</td>\n",
       "      <td>1.645423e+12</td>\n",
       "    </tr>\n",
       "    <tr>\n",
       "      <th>37</th>\n",
       "      <td>Switzerland</td>\n",
       "      <td>9.522747e+09</td>\n",
       "      <td>1.071271e+10</td>\n",
       "      <td>1.187998e+10</td>\n",
       "      <td>1.306364e+10</td>\n",
       "      <td>1.448056e+10</td>\n",
       "      <td>1.534674e+10</td>\n",
       "      <td>1.648006e+10</td>\n",
       "      <td>1.774001e+10</td>\n",
       "      <td>1.894273e+10</td>\n",
       "      <td>...</td>\n",
       "      <td>7.220382e+11</td>\n",
       "      <td>6.921097e+11</td>\n",
       "      <td>7.127481e+11</td>\n",
       "      <td>7.343966e+11</td>\n",
       "      <td>7.021496e+11</td>\n",
       "      <td>6.956007e+11</td>\n",
       "      <td>7.044785e+11</td>\n",
       "      <td>7.355393e+11</td>\n",
       "      <td>7.317674e+11</td>\n",
       "      <td>7.522480e+11</td>\n",
       "    </tr>\n",
       "  </tbody>\n",
       "</table>\n",
       "<p>5 rows × 62 columns</p>\n",
       "</div>"
      ],
      "text/plain": [
       "   Country Name          1960          1961          1962          1963  \\\n",
       "13    Australia  1.860679e+10  1.968306e+10  1.992272e+10  2.153993e+10   \n",
       "14      Austria  6.592694e+09  7.311750e+09  7.756110e+09  8.374175e+09   \n",
       "17      Belgium  1.165872e+10  1.240015e+10  1.326402e+10  1.426002e+10   \n",
       "35       Canada  4.046172e+10  4.093495e+10  4.222745e+10  4.502999e+10   \n",
       "37  Switzerland  9.522747e+09  1.071271e+10  1.187998e+10  1.306364e+10   \n",
       "\n",
       "            1964          1965          1966          1967          1968  ...  \\\n",
       "13  2.380110e+10  2.597715e+10  2.730989e+10  3.044462e+10  3.271699e+10  ...   \n",
       "14  9.169984e+09  9.994071e+09  1.088768e+10  1.157943e+10  1.244063e+10  ...   \n",
       "17  1.596011e+10  1.737146e+10  1.865188e+10  1.999204e+10  2.137635e+10  ...   \n",
       "35  4.937752e+10  5.451518e+10  6.108838e+10  6.566866e+10  7.182981e+10  ...   \n",
       "37  1.448056e+10  1.534674e+10  1.648006e+10  1.774001e+10  1.894273e+10  ...   \n",
       "\n",
       "            2011          2012          2013          2014          2015  \\\n",
       "13  1.397908e+12  1.546509e+12  1.576335e+12  1.467505e+12  1.350534e+12   \n",
       "14  4.311203e+11  4.094252e+11  4.300687e+11  4.419961e+11  3.818176e+11   \n",
       "17  5.226455e+11  4.961813e+11  5.216427e+11  5.346781e+11  4.621497e+11   \n",
       "35  1.793327e+12  1.828366e+12  1.846597e+12  1.805750e+12  1.556509e+12   \n",
       "37  7.220382e+11  6.921097e+11  7.127481e+11  7.343966e+11  7.021496e+11   \n",
       "\n",
       "            2016          2017          2018          2019          2020  \n",
       "13  1.206685e+12  1.326883e+12  1.428530e+12  1.391953e+12  1.327836e+12  \n",
       "14  3.955686e+11  4.162305e+11  4.549459e+11  4.450119e+11  4.332585e+11  \n",
       "17  4.757396e+11  5.015229e+11  5.430085e+11  5.352887e+11  5.218613e+11  \n",
       "35  1.527995e+12  1.649266e+12  1.725329e+12  1.742015e+12  1.645423e+12  \n",
       "37  6.956007e+11  7.044785e+11  7.355393e+11  7.317674e+11  7.522480e+11  \n",
       "\n",
       "[5 rows x 62 columns]"
      ]
     },
     "execution_count": 76,
     "metadata": {},
     "output_type": "execute_result"
    }
   ],
   "source": [
    "###Predicting the DAC countries GDP\n",
    "\n",
    "GDP_DonorCountries = pd.read_excel(\"GDP DAC.xls\")\n",
    "\n",
    "\n",
    "list_DonorCountries=[\"Australia\", \"Austria\", \"Belgium\", \"Canada\", \"Czech Republic\", \"Denmark\", \"European Union\", \"Finland\", \"France\",\n",
    "              \"Germany\", \"Greece\", \"Hungary\", \"Iceland\", \"Ireland\", \"Italy\", \"Japan\", \"Korea\", \"Luxembourg\", \"The Netherland\",\n",
    "              \"New Zealand\", \"Norway\", \"Poland\", \"Portugal\", \"Slovak Republic\", \"Slovenia\", \"Spain\", \"Sweden\", \"Switzerland\",\n",
    "              \"United Kingdom\", \"United States\"]\n",
    "\n",
    "\n",
    "condition=GDP_DonorCountries[\"Country Name\"].isin(list_DonorCountries)\n",
    "    \n",
    "GDP_DonorCountries=GDP_DonorCountries[condition].copy()\n",
    "\n",
    "GDP_DonorCountries.head()\n"
   ]
  },
  {
   "cell_type": "code",
   "execution_count": 77,
   "id": "92319c4b",
   "metadata": {},
   "outputs": [
    {
     "name": "stderr",
     "output_type": "stream",
     "text": [
      "/var/folders/j7/4yrzqvzn643dv0t5y434hfhw0000gn/T/ipykernel_31885/3022771968.py:4: SettingWithCopyWarning: \n",
      "A value is trying to be set on a copy of a slice from a DataFrame\n",
      "\n",
      "See the caveats in the documentation: https://pandas.pydata.org/pandas-docs/stable/user_guide/indexing.html#returning-a-view-versus-a-copy\n",
      "  GDP_DonorCountries_2010_2019.rename(columns={\"value\":\"GDP\"}, inplace=True)\n",
      "/var/folders/j7/4yrzqvzn643dv0t5y434hfhw0000gn/T/ipykernel_31885/3022771968.py:5: SettingWithCopyWarning: \n",
      "A value is trying to be set on a copy of a slice from a DataFrame\n",
      "\n",
      "See the caveats in the documentation: https://pandas.pydata.org/pandas-docs/stable/user_guide/indexing.html#returning-a-view-versus-a-copy\n",
      "  GDP_DonorCountries_2010_2019.rename(columns={\"variable\":\"Year\"}, inplace=True)\n"
     ]
    },
    {
     "data": {
      "text/html": [
       "<div>\n",
       "<style scoped>\n",
       "    .dataframe tbody tr th:only-of-type {\n",
       "        vertical-align: middle;\n",
       "    }\n",
       "\n",
       "    .dataframe tbody tr th {\n",
       "        vertical-align: top;\n",
       "    }\n",
       "\n",
       "    .dataframe thead th {\n",
       "        text-align: right;\n",
       "    }\n",
       "</style>\n",
       "<table border=\"1\" class=\"dataframe\">\n",
       "  <thead>\n",
       "    <tr style=\"text-align: right;\">\n",
       "      <th></th>\n",
       "      <th>Country Name</th>\n",
       "      <th>Year</th>\n",
       "      <th>GDP</th>\n",
       "    </tr>\n",
       "  </thead>\n",
       "  <tbody>\n",
       "    <tr>\n",
       "      <th>1400</th>\n",
       "      <td>Australia</td>\n",
       "      <td>2010</td>\n",
       "      <td>1.147589e+12</td>\n",
       "    </tr>\n",
       "    <tr>\n",
       "      <th>1401</th>\n",
       "      <td>Austria</td>\n",
       "      <td>2010</td>\n",
       "      <td>3.918927e+11</td>\n",
       "    </tr>\n",
       "    <tr>\n",
       "      <th>1402</th>\n",
       "      <td>Belgium</td>\n",
       "      <td>2010</td>\n",
       "      <td>4.809516e+11</td>\n",
       "    </tr>\n",
       "    <tr>\n",
       "      <th>1403</th>\n",
       "      <td>Canada</td>\n",
       "      <td>2010</td>\n",
       "      <td>1.617343e+12</td>\n",
       "    </tr>\n",
       "    <tr>\n",
       "      <th>1404</th>\n",
       "      <td>Switzerland</td>\n",
       "      <td>2010</td>\n",
       "      <td>6.034345e+11</td>\n",
       "    </tr>\n",
       "    <tr>\n",
       "      <th>...</th>\n",
       "      <td>...</td>\n",
       "      <td>...</td>\n",
       "      <td>...</td>\n",
       "    </tr>\n",
       "    <tr>\n",
       "      <th>1675</th>\n",
       "      <td>Portugal</td>\n",
       "      <td>2019</td>\n",
       "      <td>2.399869e+11</td>\n",
       "    </tr>\n",
       "    <tr>\n",
       "      <th>1676</th>\n",
       "      <td>Slovak Republic</td>\n",
       "      <td>2019</td>\n",
       "      <td>1.052844e+11</td>\n",
       "    </tr>\n",
       "    <tr>\n",
       "      <th>1677</th>\n",
       "      <td>Slovenia</td>\n",
       "      <td>2019</td>\n",
       "      <td>5.417888e+10</td>\n",
       "    </tr>\n",
       "    <tr>\n",
       "      <th>1678</th>\n",
       "      <td>Sweden</td>\n",
       "      <td>2019</td>\n",
       "      <td>5.338795e+11</td>\n",
       "    </tr>\n",
       "    <tr>\n",
       "      <th>1679</th>\n",
       "      <td>United States</td>\n",
       "      <td>2019</td>\n",
       "      <td>2.143322e+13</td>\n",
       "    </tr>\n",
       "  </tbody>\n",
       "</table>\n",
       "<p>280 rows × 3 columns</p>\n",
       "</div>"
      ],
      "text/plain": [
       "         Country Name  Year           GDP\n",
       "1400        Australia  2010  1.147589e+12\n",
       "1401          Austria  2010  3.918927e+11\n",
       "1402          Belgium  2010  4.809516e+11\n",
       "1403           Canada  2010  1.617343e+12\n",
       "1404      Switzerland  2010  6.034345e+11\n",
       "...               ...   ...           ...\n",
       "1675         Portugal  2019  2.399869e+11\n",
       "1676  Slovak Republic  2019  1.052844e+11\n",
       "1677         Slovenia  2019  5.417888e+10\n",
       "1678           Sweden  2019  5.338795e+11\n",
       "1679    United States  2019  2.143322e+13\n",
       "\n",
       "[280 rows x 3 columns]"
      ]
     },
     "execution_count": 77,
     "metadata": {},
     "output_type": "execute_result"
    }
   ],
   "source": [
    "GDP_DonorCountries_filter=pd.melt(GDP_DonorCountries, id_vars=['Country Name'])\n",
    "GDP_DonorCountries_filter[\"variable\"] = GDP_DonorCountries_filter[\"variable\"].astype(int)\n",
    "GDP_DonorCountries_2010_2019=GDP_DonorCountries_filter[(GDP_DonorCountries_filter[\"variable\"]>=2010)&(GDP_DonorCountries_filter[\"variable\"]<=2019)]\n",
    "GDP_DonorCountries_2010_2019.rename(columns={\"value\":\"GDP\"}, inplace=True)\n",
    "GDP_DonorCountries_2010_2019.rename(columns={\"variable\":\"Year\"}, inplace=True)\n",
    "GDP_DonorCountries_2010_2019"
   ]
  },
  {
   "cell_type": "code",
   "execution_count": 78,
   "id": "e291d669",
   "metadata": {},
   "outputs": [
    {
     "data": {
      "text/html": [
       "<div>\n",
       "<style scoped>\n",
       "    .dataframe tbody tr th:only-of-type {\n",
       "        vertical-align: middle;\n",
       "    }\n",
       "\n",
       "    .dataframe tbody tr th {\n",
       "        vertical-align: top;\n",
       "    }\n",
       "\n",
       "    .dataframe thead th {\n",
       "        text-align: right;\n",
       "    }\n",
       "</style>\n",
       "<table border=\"1\" class=\"dataframe\">\n",
       "  <thead>\n",
       "    <tr style=\"text-align: right;\">\n",
       "      <th></th>\n",
       "      <th>Year</th>\n",
       "      <th>GDP</th>\n",
       "    </tr>\n",
       "  </thead>\n",
       "  <tbody>\n",
       "    <tr>\n",
       "      <th>0</th>\n",
       "      <td>2010</td>\n",
       "      <td>5.505114e+13</td>\n",
       "    </tr>\n",
       "    <tr>\n",
       "      <th>1</th>\n",
       "      <td>2011</td>\n",
       "      <td>5.918961e+13</td>\n",
       "    </tr>\n",
       "    <tr>\n",
       "      <th>2</th>\n",
       "      <td>2012</td>\n",
       "      <td>5.798015e+13</td>\n",
       "    </tr>\n",
       "    <tr>\n",
       "      <th>3</th>\n",
       "      <td>2013</td>\n",
       "      <td>5.893926e+13</td>\n",
       "    </tr>\n",
       "    <tr>\n",
       "      <th>4</th>\n",
       "      <td>2014</td>\n",
       "      <td>6.015744e+13</td>\n",
       "    </tr>\n",
       "    <tr>\n",
       "      <th>5</th>\n",
       "      <td>2015</td>\n",
       "      <td>5.575845e+13</td>\n",
       "    </tr>\n",
       "    <tr>\n",
       "      <th>6</th>\n",
       "      <td>2016</td>\n",
       "      <td>5.704504e+13</td>\n",
       "    </tr>\n",
       "    <tr>\n",
       "      <th>7</th>\n",
       "      <td>2017</td>\n",
       "      <td>5.965314e+13</td>\n",
       "    </tr>\n",
       "    <tr>\n",
       "      <th>8</th>\n",
       "      <td>2018</td>\n",
       "      <td>6.361485e+13</td>\n",
       "    </tr>\n",
       "    <tr>\n",
       "      <th>9</th>\n",
       "      <td>2019</td>\n",
       "      <td>6.389556e+13</td>\n",
       "    </tr>\n",
       "  </tbody>\n",
       "</table>\n",
       "</div>"
      ],
      "text/plain": [
       "   Year           GDP\n",
       "0  2010  5.505114e+13\n",
       "1  2011  5.918961e+13\n",
       "2  2012  5.798015e+13\n",
       "3  2013  5.893926e+13\n",
       "4  2014  6.015744e+13\n",
       "5  2015  5.575845e+13\n",
       "6  2016  5.704504e+13\n",
       "7  2017  5.965314e+13\n",
       "8  2018  6.361485e+13\n",
       "9  2019  6.389556e+13"
      ]
     },
     "execution_count": 78,
     "metadata": {},
     "output_type": "execute_result"
    }
   ],
   "source": [
    "GDP_DonorCountries_2010_2019_Total= GDP_DonorCountries_2010_2019.groupby(\"Year\").agg({\"GDP\":\"sum\"})\n",
    "GDP_DonorCountries_2010_2019_Total=GDP_DonorCountries_2010_2019_Total.reset_index()\n",
    "GDP_DonorCountries_2010_2019_Total"
   ]
  },
  {
   "cell_type": "code",
   "execution_count": 79,
   "id": "ac6e606f",
   "metadata": {},
   "outputs": [
    {
     "data": {
      "text/plain": [
       "Year      int64\n",
       "GDP     float64\n",
       "dtype: object"
      ]
     },
     "execution_count": 79,
     "metadata": {},
     "output_type": "execute_result"
    }
   ],
   "source": [
    "GDP_DonorCountries_2010_2019_Total.dtypes"
   ]
  },
  {
   "cell_type": "code",
   "execution_count": 80,
   "id": "387a7dd4",
   "metadata": {},
   "outputs": [
    {
     "data": {
      "text/plain": [
       "Year     object\n",
       "GDP     float64\n",
       "dtype: object"
      ]
     },
     "execution_count": 80,
     "metadata": {},
     "output_type": "execute_result"
    }
   ],
   "source": [
    "GDP_DonorCountries_2010_2019_Total[\"Year\"]=GDP_DonorCountries_2010_2019_Total[\"Year\"].astype(str)\n",
    "GDP_DonorCountries_2010_2019_Total.dtypes"
   ]
  },
  {
   "cell_type": "code",
   "execution_count": 81,
   "id": "8a9c909d",
   "metadata": {},
   "outputs": [],
   "source": [
    "GDP_DonorCountries_2010_2019_Total[\"GDP\"]=GDP_DonorCountries_2010_2019_Total[\"GDP\"].astype(float)"
   ]
  },
  {
   "cell_type": "code",
   "execution_count": 82,
   "id": "b6ed786e",
   "metadata": {},
   "outputs": [
    {
     "data": {
      "text/plain": [
       "Year     object\n",
       "GDP     float64\n",
       "dtype: object"
      ]
     },
     "execution_count": 82,
     "metadata": {},
     "output_type": "execute_result"
    }
   ],
   "source": [
    "GDP_DonorCountries_2010_2019_Total.dtypes"
   ]
  },
  {
   "cell_type": "code",
   "execution_count": 83,
   "id": "4ede15fb",
   "metadata": {},
   "outputs": [
    {
     "data": {
      "text/html": [
       "<div>\n",
       "<style scoped>\n",
       "    .dataframe tbody tr th:only-of-type {\n",
       "        vertical-align: middle;\n",
       "    }\n",
       "\n",
       "    .dataframe tbody tr th {\n",
       "        vertical-align: top;\n",
       "    }\n",
       "\n",
       "    .dataframe thead th {\n",
       "        text-align: right;\n",
       "    }\n",
       "</style>\n",
       "<table border=\"1\" class=\"dataframe\">\n",
       "  <thead>\n",
       "    <tr style=\"text-align: right;\">\n",
       "      <th></th>\n",
       "      <th>Year</th>\n",
       "      <th>GDP</th>\n",
       "    </tr>\n",
       "    <tr>\n",
       "      <th>Year</th>\n",
       "      <th></th>\n",
       "      <th></th>\n",
       "    </tr>\n",
       "  </thead>\n",
       "  <tbody>\n",
       "    <tr>\n",
       "      <th>2010-01-01</th>\n",
       "      <td>2010-01-01</td>\n",
       "      <td>5.505114e+13</td>\n",
       "    </tr>\n",
       "    <tr>\n",
       "      <th>2011-01-01</th>\n",
       "      <td>2011-01-01</td>\n",
       "      <td>5.918961e+13</td>\n",
       "    </tr>\n",
       "    <tr>\n",
       "      <th>2012-01-01</th>\n",
       "      <td>2012-01-01</td>\n",
       "      <td>5.798015e+13</td>\n",
       "    </tr>\n",
       "    <tr>\n",
       "      <th>2013-01-01</th>\n",
       "      <td>2013-01-01</td>\n",
       "      <td>5.893926e+13</td>\n",
       "    </tr>\n",
       "    <tr>\n",
       "      <th>2014-01-01</th>\n",
       "      <td>2014-01-01</td>\n",
       "      <td>6.015744e+13</td>\n",
       "    </tr>\n",
       "  </tbody>\n",
       "</table>\n",
       "</div>"
      ],
      "text/plain": [
       "                 Year           GDP\n",
       "Year                               \n",
       "2010-01-01 2010-01-01  5.505114e+13\n",
       "2011-01-01 2011-01-01  5.918961e+13\n",
       "2012-01-01 2012-01-01  5.798015e+13\n",
       "2013-01-01 2013-01-01  5.893926e+13\n",
       "2014-01-01 2014-01-01  6.015744e+13"
      ]
     },
     "metadata": {},
     "output_type": "display_data"
    }
   ],
   "source": [
    "GDP_DonorCountries_2010_2019_Total[\"Year\"]=pd.to_datetime(GDP_DonorCountries_2010_2019_Total[\"Year\"])\n",
    "GDP_DonorCountries_2010_2019_Total.index=pd.DatetimeIndex(GDP_DonorCountries_2010_2019_Total[\"Year\"]) \n",
    "display(GDP_DonorCountries_2010_2019_Total.head())"
   ]
  },
  {
   "cell_type": "code",
   "execution_count": 84,
   "id": "f151885c",
   "metadata": {},
   "outputs": [
    {
     "name": "stderr",
     "output_type": "stream",
     "text": [
      "/Users/barbaramuniz/opt/anaconda3/envs/ironh/lib/python3.10/site-packages/statsmodels/tsa/base/tsa_model.py:471: ValueWarning: No frequency information was provided, so inferred frequency AS-JAN will be used.\n",
      "  self._init_dates(dates, freq)\n",
      "/Users/barbaramuniz/opt/anaconda3/envs/ironh/lib/python3.10/site-packages/statsmodels/tsa/deterministic.py:302: UserWarning: Only PeriodIndexes, DatetimeIndexes with a frequency set, RangesIndexes, and Index with a unit increment support extending. The index is set will contain the position relative to the data length.\n",
      "  fcast_index = self._extend_index(index, steps, forecast_index)\n"
     ]
    },
    {
     "data": {
      "text/plain": [
       "2020-01-01    6.491460e+13\n",
       "2021-01-01    6.594989e+13\n",
       "2022-01-01    6.700170e+13\n",
       "Freq: AS-JAN, dtype: float64"
      ]
     },
     "execution_count": 84,
     "metadata": {},
     "output_type": "execute_result"
    }
   ],
   "source": [
    "##create a train and test set\n",
    "\n",
    "train=GDP_DonorCountries_2010_2019_Total[\"GDP\"]\n",
    "\n",
    "##create a model\n",
    "\n",
    "model=AutoReg(endog=train, lags=1)\n",
    "\n",
    "##train\n",
    "model_fit=model.fit()\n",
    "\n",
    "##make prediction\n",
    "\n",
    "predictions_GDP_DonorCountries=model_fit.predict(start=len(train), end=len(train)+2)\n",
    "predictions_GDP_DonorCountries"
   ]
  },
  {
   "cell_type": "code",
   "execution_count": 127,
   "id": "a1f85da3",
   "metadata": {},
   "outputs": [
    {
     "name": "stderr",
     "output_type": "stream",
     "text": [
      "/var/folders/j7/4yrzqvzn643dv0t5y434hfhw0000gn/T/ipykernel_31885/3382174672.py:1: SettingWithCopyWarning: \n",
      "A value is trying to be set on a copy of a slice from a DataFrame.\n",
      "Try using .loc[row_indexer,col_indexer] = value instead\n",
      "\n",
      "See the caveats in the documentation: https://pandas.pydata.org/pandas-docs/stable/user_guide/indexing.html#returning-a-view-versus-a-copy\n",
      "  df_low[\"Year\"]=df_low[\"Year\"].astype(str)\n",
      "/var/folders/j7/4yrzqvzn643dv0t5y434hfhw0000gn/T/ipykernel_31885/3382174672.py:3: SettingWithCopyWarning: \n",
      "A value is trying to be set on a copy of a slice from a DataFrame.\n",
      "Try using .loc[row_indexer,col_indexer] = value instead\n",
      "\n",
      "See the caveats in the documentation: https://pandas.pydata.org/pandas-docs/stable/user_guide/indexing.html#returning-a-view-versus-a-copy\n",
      "  df_low[\"Year\"]=pd.to_datetime(df_low[\"Year\"])\n"
     ]
    },
    {
     "data": {
      "text/html": [
       "<div>\n",
       "<style scoped>\n",
       "    .dataframe tbody tr th:only-of-type {\n",
       "        vertical-align: middle;\n",
       "    }\n",
       "\n",
       "    .dataframe tbody tr th {\n",
       "        vertical-align: top;\n",
       "    }\n",
       "\n",
       "    .dataframe thead th {\n",
       "        text-align: right;\n",
       "    }\n",
       "</style>\n",
       "<table border=\"1\" class=\"dataframe\">\n",
       "  <thead>\n",
       "    <tr style=\"text-align: right;\">\n",
       "      <th></th>\n",
       "      <th>Country Name</th>\n",
       "      <th>Year</th>\n",
       "      <th>ODA Received</th>\n",
       "      <th>Labor Force (%Population)</th>\n",
       "      <th>Debt Policy Rating</th>\n",
       "      <th>Life Expectancy (Years)</th>\n",
       "      <th>Trade (%GDP)</th>\n",
       "      <th>Inflation</th>\n",
       "      <th>FDI (%GDP)</th>\n",
       "      <th>GDP Recipient</th>\n",
       "      <th>Transparency_Accountability_Corruption_PublicSector_Rating</th>\n",
       "    </tr>\n",
       "    <tr>\n",
       "      <th>Year</th>\n",
       "      <th></th>\n",
       "      <th></th>\n",
       "      <th></th>\n",
       "      <th></th>\n",
       "      <th></th>\n",
       "      <th></th>\n",
       "      <th></th>\n",
       "      <th></th>\n",
       "      <th></th>\n",
       "      <th></th>\n",
       "      <th></th>\n",
       "    </tr>\n",
       "  </thead>\n",
       "  <tbody>\n",
       "    <tr>\n",
       "      <th>2010-01-01</th>\n",
       "      <td>Low income</td>\n",
       "      <td>2010-01-01</td>\n",
       "      <td>3.318832e+10</td>\n",
       "      <td>69.930830</td>\n",
       "      <td>3.108696</td>\n",
       "      <td>59.739740</td>\n",
       "      <td>59.760608</td>\n",
       "      <td>4.723547</td>\n",
       "      <td>2.652487</td>\n",
       "      <td>5.782091e+11</td>\n",
       "      <td>2.543478</td>\n",
       "    </tr>\n",
       "    <tr>\n",
       "      <th>2011-01-01</th>\n",
       "      <td>Low income</td>\n",
       "      <td>2011-01-01</td>\n",
       "      <td>3.442595e+10</td>\n",
       "      <td>69.685460</td>\n",
       "      <td>3.173913</td>\n",
       "      <td>60.300239</td>\n",
       "      <td>56.298556</td>\n",
       "      <td>8.055495</td>\n",
       "      <td>4.762278</td>\n",
       "      <td>4.039617e+11</td>\n",
       "      <td>2.586957</td>\n",
       "    </tr>\n",
       "    <tr>\n",
       "      <th>2012-01-01</th>\n",
       "      <td>Low income</td>\n",
       "      <td>2012-01-01</td>\n",
       "      <td>3.308972e+10</td>\n",
       "      <td>69.383520</td>\n",
       "      <td>3.083333</td>\n",
       "      <td>60.826564</td>\n",
       "      <td>54.408906</td>\n",
       "      <td>7.174205</td>\n",
       "      <td>6.161376</td>\n",
       "      <td>3.844478e+11</td>\n",
       "      <td>2.458333</td>\n",
       "    </tr>\n",
       "    <tr>\n",
       "      <th>2013-01-01</th>\n",
       "      <td>Low income</td>\n",
       "      <td>2013-01-01</td>\n",
       "      <td>3.507958e+10</td>\n",
       "      <td>69.207323</td>\n",
       "      <td>3.083333</td>\n",
       "      <td>61.324604</td>\n",
       "      <td>53.661731</td>\n",
       "      <td>5.699130</td>\n",
       "      <td>5.061983</td>\n",
       "      <td>3.954780e+11</td>\n",
       "      <td>2.437500</td>\n",
       "    </tr>\n",
       "    <tr>\n",
       "      <th>2014-01-01</th>\n",
       "      <td>Low income</td>\n",
       "      <td>2014-01-01</td>\n",
       "      <td>3.562682e+10</td>\n",
       "      <td>68.960344</td>\n",
       "      <td>3.145833</td>\n",
       "      <td>61.794594</td>\n",
       "      <td>49.287007</td>\n",
       "      <td>4.405352</td>\n",
       "      <td>3.572267</td>\n",
       "      <td>4.238542e+11</td>\n",
       "      <td>2.500000</td>\n",
       "    </tr>\n",
       "  </tbody>\n",
       "</table>\n",
       "</div>"
      ],
      "text/plain": [
       "           Country Name       Year  ODA Received  Labor Force (%Population)  \\\n",
       "Year                                                                          \n",
       "2010-01-01   Low income 2010-01-01  3.318832e+10                  69.930830   \n",
       "2011-01-01   Low income 2011-01-01  3.442595e+10                  69.685460   \n",
       "2012-01-01   Low income 2012-01-01  3.308972e+10                  69.383520   \n",
       "2013-01-01   Low income 2013-01-01  3.507958e+10                  69.207323   \n",
       "2014-01-01   Low income 2014-01-01  3.562682e+10                  68.960344   \n",
       "\n",
       "            Debt Policy Rating  Life Expectancy (Years)  Trade (%GDP)  \\\n",
       "Year                                                                    \n",
       "2010-01-01            3.108696                59.739740     59.760608   \n",
       "2011-01-01            3.173913                60.300239     56.298556   \n",
       "2012-01-01            3.083333                60.826564     54.408906   \n",
       "2013-01-01            3.083333                61.324604     53.661731   \n",
       "2014-01-01            3.145833                61.794594     49.287007   \n",
       "\n",
       "            Inflation  FDI (%GDP)  GDP Recipient  \\\n",
       "Year                                               \n",
       "2010-01-01   4.723547    2.652487   5.782091e+11   \n",
       "2011-01-01   8.055495    4.762278   4.039617e+11   \n",
       "2012-01-01   7.174205    6.161376   3.844478e+11   \n",
       "2013-01-01   5.699130    5.061983   3.954780e+11   \n",
       "2014-01-01   4.405352    3.572267   4.238542e+11   \n",
       "\n",
       "            Transparency_Accountability_Corruption_PublicSector_Rating  \n",
       "Year                                                                    \n",
       "2010-01-01                                           2.543478           \n",
       "2011-01-01                                           2.586957           \n",
       "2012-01-01                                           2.458333           \n",
       "2013-01-01                                           2.437500           \n",
       "2014-01-01                                           2.500000           "
      ]
     },
     "metadata": {},
     "output_type": "display_data"
    }
   ],
   "source": [
    "df_low[\"Year\"]=df_low[\"Year\"].astype(str)\n",
    "df_low.dtypes\n",
    "df_low[\"Year\"]=pd.to_datetime(df_low[\"Year\"])\n",
    "df_low.index=pd.DatetimeIndex(df_low[\"Year\"]) \n",
    "display(df_low.head())"
   ]
  },
  {
   "cell_type": "code",
   "execution_count": 128,
   "id": "67067df7",
   "metadata": {},
   "outputs": [],
   "source": [
    "#Function to predict the values I want\n",
    "\n",
    "def predict(row):\n",
    "    train_Recipients=row\n",
    "    model=AutoReg(endog=train_Recipients, lags=1)\n",
    "    model_fit=model.fit()\n",
    "    predictions=model_fit.predict(start=len(train_Recipients), end=len(train_Recipients)+2)\n",
    "    return predictions\n"
   ]
  },
  {
   "cell_type": "code",
   "execution_count": 129,
   "id": "b110bb82",
   "metadata": {},
   "outputs": [],
   "source": [
    "###Predicting for Low Income Countries"
   ]
  },
  {
   "cell_type": "code",
   "execution_count": 130,
   "id": "fde0b690",
   "metadata": {},
   "outputs": [
    {
     "name": "stderr",
     "output_type": "stream",
     "text": [
      "/Users/barbaramuniz/opt/anaconda3/envs/ironh/lib/python3.10/site-packages/statsmodels/tsa/base/tsa_model.py:471: ValueWarning: No frequency information was provided, so inferred frequency AS-JAN will be used.\n",
      "  self._init_dates(dates, freq)\n",
      "/Users/barbaramuniz/opt/anaconda3/envs/ironh/lib/python3.10/site-packages/statsmodels/tsa/deterministic.py:302: UserWarning: Only PeriodIndexes, DatetimeIndexes with a frequency set, RangesIndexes, and Index with a unit increment support extending. The index is set will contain the position relative to the data length.\n",
      "  fcast_index = self._extend_index(index, steps, forecast_index)\n"
     ]
    },
    {
     "data": {
      "text/plain": [
       "2020-01-01    2.804519\n",
       "2021-01-01    2.790211\n",
       "2022-01-01    2.776987\n",
       "Freq: AS-JAN, dtype: float64"
      ]
     },
     "execution_count": 130,
     "metadata": {},
     "output_type": "execute_result"
    }
   ],
   "source": [
    "predict(df_low[\"Debt Policy Rating\"])"
   ]
  },
  {
   "cell_type": "code",
   "execution_count": 131,
   "id": "ee17fe36",
   "metadata": {},
   "outputs": [
    {
     "name": "stderr",
     "output_type": "stream",
     "text": [
      "/Users/barbaramuniz/opt/anaconda3/envs/ironh/lib/python3.10/site-packages/statsmodels/tsa/base/tsa_model.py:471: ValueWarning: No frequency information was provided, so inferred frequency AS-JAN will be used.\n",
      "  self._init_dates(dates, freq)\n",
      "/Users/barbaramuniz/opt/anaconda3/envs/ironh/lib/python3.10/site-packages/statsmodels/tsa/deterministic.py:302: UserWarning: Only PeriodIndexes, DatetimeIndexes with a frequency set, RangesIndexes, and Index with a unit increment support extending. The index is set will contain the position relative to the data length.\n",
      "  fcast_index = self._extend_index(index, steps, forecast_index)\n"
     ]
    },
    {
     "data": {
      "text/plain": [
       "2020-01-01    68.594308\n",
       "2021-01-01    68.563187\n",
       "2022-01-01    68.538351\n",
       "Freq: AS-JAN, dtype: float64"
      ]
     },
     "execution_count": 131,
     "metadata": {},
     "output_type": "execute_result"
    }
   ],
   "source": [
    "predict(df_low[\"Labor Force (%Population)\"])"
   ]
  },
  {
   "cell_type": "code",
   "execution_count": 132,
   "id": "176e9f0c",
   "metadata": {},
   "outputs": [
    {
     "name": "stderr",
     "output_type": "stream",
     "text": [
      "/Users/barbaramuniz/opt/anaconda3/envs/ironh/lib/python3.10/site-packages/statsmodels/tsa/base/tsa_model.py:471: ValueWarning: No frequency information was provided, so inferred frequency AS-JAN will be used.\n",
      "  self._init_dates(dates, freq)\n",
      "/Users/barbaramuniz/opt/anaconda3/envs/ironh/lib/python3.10/site-packages/statsmodels/tsa/deterministic.py:302: UserWarning: Only PeriodIndexes, DatetimeIndexes with a frequency set, RangesIndexes, and Index with a unit increment support extending. The index is set will contain the position relative to the data length.\n",
      "  fcast_index = self._extend_index(index, steps, forecast_index)\n"
     ]
    },
    {
     "data": {
      "text/plain": [
       "2020-01-01    64.046768\n",
       "2021-01-01    64.346283\n",
       "2022-01-01    64.627485\n",
       "Freq: AS-JAN, dtype: float64"
      ]
     },
     "execution_count": 132,
     "metadata": {},
     "output_type": "execute_result"
    }
   ],
   "source": [
    "predict(df_low[\"Life Expectancy (Years)\"])"
   ]
  },
  {
   "cell_type": "code",
   "execution_count": 133,
   "id": "a353124a",
   "metadata": {},
   "outputs": [
    {
     "name": "stderr",
     "output_type": "stream",
     "text": [
      "/Users/barbaramuniz/opt/anaconda3/envs/ironh/lib/python3.10/site-packages/statsmodels/tsa/base/tsa_model.py:471: ValueWarning: No frequency information was provided, so inferred frequency AS-JAN will be used.\n",
      "  self._init_dates(dates, freq)\n",
      "/Users/barbaramuniz/opt/anaconda3/envs/ironh/lib/python3.10/site-packages/statsmodels/tsa/deterministic.py:302: UserWarning: Only PeriodIndexes, DatetimeIndexes with a frequency set, RangesIndexes, and Index with a unit increment support extending. The index is set will contain the position relative to the data length.\n",
      "  fcast_index = self._extend_index(index, steps, forecast_index)\n"
     ]
    },
    {
     "data": {
      "text/plain": [
       "2020-01-01    47.569620\n",
       "2021-01-01    47.592098\n",
       "2022-01-01    47.606442\n",
       "Freq: AS-JAN, dtype: float64"
      ]
     },
     "execution_count": 133,
     "metadata": {},
     "output_type": "execute_result"
    }
   ],
   "source": [
    "predict(df_low[\"Trade (%GDP)\"])"
   ]
  },
  {
   "cell_type": "code",
   "execution_count": 134,
   "id": "13155cb0",
   "metadata": {},
   "outputs": [
    {
     "name": "stderr",
     "output_type": "stream",
     "text": [
      "/Users/barbaramuniz/opt/anaconda3/envs/ironh/lib/python3.10/site-packages/statsmodels/tsa/base/tsa_model.py:471: ValueWarning: No frequency information was provided, so inferred frequency AS-JAN will be used.\n",
      "  self._init_dates(dates, freq)\n",
      "/Users/barbaramuniz/opt/anaconda3/envs/ironh/lib/python3.10/site-packages/statsmodels/tsa/deterministic.py:302: UserWarning: Only PeriodIndexes, DatetimeIndexes with a frequency set, RangesIndexes, and Index with a unit increment support extending. The index is set will contain the position relative to the data length.\n",
      "  fcast_index = self._extend_index(index, steps, forecast_index)\n"
     ]
    },
    {
     "data": {
      "text/plain": [
       "2020-01-01    5.230664\n",
       "2021-01-01    5.577292\n",
       "2022-01-01    5.627239\n",
       "Freq: AS-JAN, dtype: float64"
      ]
     },
     "execution_count": 134,
     "metadata": {},
     "output_type": "execute_result"
    }
   ],
   "source": [
    "predict(df_low[\"Inflation\"])"
   ]
  },
  {
   "cell_type": "code",
   "execution_count": 135,
   "id": "00a33932",
   "metadata": {},
   "outputs": [
    {
     "name": "stderr",
     "output_type": "stream",
     "text": [
      "/Users/barbaramuniz/opt/anaconda3/envs/ironh/lib/python3.10/site-packages/statsmodels/tsa/base/tsa_model.py:471: ValueWarning: No frequency information was provided, so inferred frequency AS-JAN will be used.\n",
      "  self._init_dates(dates, freq)\n",
      "/Users/barbaramuniz/opt/anaconda3/envs/ironh/lib/python3.10/site-packages/statsmodels/tsa/deterministic.py:302: UserWarning: Only PeriodIndexes, DatetimeIndexes with a frequency set, RangesIndexes, and Index with a unit increment support extending. The index is set will contain the position relative to the data length.\n",
      "  fcast_index = self._extend_index(index, steps, forecast_index)\n"
     ]
    },
    {
     "data": {
      "text/plain": [
       "2020-01-01    3.870362\n",
       "2021-01-01    4.068281\n",
       "2022-01-01    4.141311\n",
       "Freq: AS-JAN, dtype: float64"
      ]
     },
     "execution_count": 135,
     "metadata": {},
     "output_type": "execute_result"
    }
   ],
   "source": [
    "predict(df_low[\"FDI (%GDP)\"])"
   ]
  },
  {
   "cell_type": "code",
   "execution_count": 136,
   "id": "5ea79f06",
   "metadata": {},
   "outputs": [
    {
     "name": "stderr",
     "output_type": "stream",
     "text": [
      "/Users/barbaramuniz/opt/anaconda3/envs/ironh/lib/python3.10/site-packages/statsmodels/tsa/base/tsa_model.py:471: ValueWarning: No frequency information was provided, so inferred frequency AS-JAN will be used.\n",
      "  self._init_dates(dates, freq)\n",
      "/Users/barbaramuniz/opt/anaconda3/envs/ironh/lib/python3.10/site-packages/statsmodels/tsa/deterministic.py:302: UserWarning: Only PeriodIndexes, DatetimeIndexes with a frequency set, RangesIndexes, and Index with a unit increment support extending. The index is set will contain the position relative to the data length.\n",
      "  fcast_index = self._extend_index(index, steps, forecast_index)\n"
     ]
    },
    {
     "data": {
      "text/plain": [
       "2020-01-01    2.429737\n",
       "2021-01-01    2.434023\n",
       "2022-01-01    2.435909\n",
       "Freq: AS-JAN, dtype: float64"
      ]
     },
     "execution_count": 136,
     "metadata": {},
     "output_type": "execute_result"
    }
   ],
   "source": [
    "predict(df_low[\"Transparency_Accountability_Corruption_PublicSector_Rating\"])"
   ]
  },
  {
   "cell_type": "code",
   "execution_count": 137,
   "id": "fc26e9b0",
   "metadata": {},
   "outputs": [
    {
     "data": {
      "text/plain": [
       "Year\n",
       "2015-01-01    4.181661e+11\n",
       "2016-01-01    3.872042e+11\n",
       "2017-01-01    4.091378e+11\n",
       "2018-01-01    4.256145e+11\n",
       "2019-01-01    4.484402e+11\n",
       "Name: GDP Recipient, dtype: float64"
      ]
     },
     "execution_count": 137,
     "metadata": {},
     "output_type": "execute_result"
    }
   ],
   "source": [
    "df_low[\"GDP Recipient\"].tail()"
   ]
  },
  {
   "cell_type": "code",
   "execution_count": 140,
   "id": "85411145",
   "metadata": {},
   "outputs": [
    {
     "data": {
      "text/plain": [
       "array([6.04035552e+12])"
      ]
     },
     "execution_count": 140,
     "metadata": {},
     "output_type": "execute_result"
    }
   ],
   "source": [
    "#Adding the results for 2022 in our regression model:\n",
    "future_gdp_low = pd.DataFrame([{\"Year\":2022, 'FDI (%GDP)': 4.141311, 'ODA Received': (6.700170e+13)*0.007, 'Labor Force (%Population)':68.538351, 'Life Expectancy (Years)': 64.627485, 'Trade (%GDP)': 47.606442, 'Inflation': 5.627239, 'Transparency_Accountability_Corruption_PublicSector_Rating': 2.435909, 'Debt Policy Rating': 2.776987}])\n",
    "model_low.predict(future_gdp_low)"
   ]
  },
  {
   "cell_type": "code",
   "execution_count": 142,
   "id": "cc2f15b9",
   "metadata": {},
   "outputs": [
    {
     "data": {
      "text/plain": [
       "array([3.27091838e+13])"
      ]
     },
     "execution_count": 142,
     "metadata": {},
     "output_type": "execute_result"
    }
   ],
   "source": [
    "future_gdp_ODA_low = pd.DataFrame([{'ODA Received': (6.700170e+13)*0.007}])\n",
    "model_ODA_lowermiddle.predict(future_gdp_ODA_low)"
   ]
  },
  {
   "cell_type": "code",
   "execution_count": 141,
   "id": "f2a96d4c",
   "metadata": {},
   "outputs": [
    {
     "data": {
      "text/plain": [
       "6040355520000.0"
      ]
     },
     "execution_count": 141,
     "metadata": {},
     "output_type": "execute_result"
    }
   ],
   "source": [
    "6.04035552e+12"
   ]
  },
  {
   "cell_type": "code",
   "execution_count": null,
   "id": "2585cbd2",
   "metadata": {},
   "outputs": [],
   "source": []
  },
  {
   "cell_type": "code",
   "execution_count": null,
   "id": "0f3dc7e3",
   "metadata": {},
   "outputs": [],
   "source": []
  },
  {
   "cell_type": "code",
   "execution_count": null,
   "id": "110c5cd0",
   "metadata": {},
   "outputs": [],
   "source": []
  },
  {
   "cell_type": "code",
   "execution_count": 99,
   "id": "4dfd0b39",
   "metadata": {},
   "outputs": [
    {
     "name": "stderr",
     "output_type": "stream",
     "text": [
      "/var/folders/j7/4yrzqvzn643dv0t5y434hfhw0000gn/T/ipykernel_31885/3269007125.py:2: SettingWithCopyWarning: \n",
      "A value is trying to be set on a copy of a slice from a DataFrame.\n",
      "Try using .loc[row_indexer,col_indexer] = value instead\n",
      "\n",
      "See the caveats in the documentation: https://pandas.pydata.org/pandas-docs/stable/user_guide/indexing.html#returning-a-view-versus-a-copy\n",
      "  df_least[\"Year\"]=df_least[\"Year\"].astype(str)\n",
      "/var/folders/j7/4yrzqvzn643dv0t5y434hfhw0000gn/T/ipykernel_31885/3269007125.py:4: SettingWithCopyWarning: \n",
      "A value is trying to be set on a copy of a slice from a DataFrame.\n",
      "Try using .loc[row_indexer,col_indexer] = value instead\n",
      "\n",
      "See the caveats in the documentation: https://pandas.pydata.org/pandas-docs/stable/user_guide/indexing.html#returning-a-view-versus-a-copy\n",
      "  df_least[\"Year\"]=pd.to_datetime(df_least[\"Year\"])\n"
     ]
    },
    {
     "data": {
      "text/html": [
       "<div>\n",
       "<style scoped>\n",
       "    .dataframe tbody tr th:only-of-type {\n",
       "        vertical-align: middle;\n",
       "    }\n",
       "\n",
       "    .dataframe tbody tr th {\n",
       "        vertical-align: top;\n",
       "    }\n",
       "\n",
       "    .dataframe thead th {\n",
       "        text-align: right;\n",
       "    }\n",
       "</style>\n",
       "<table border=\"1\" class=\"dataframe\">\n",
       "  <thead>\n",
       "    <tr style=\"text-align: right;\">\n",
       "      <th></th>\n",
       "      <th>Country Name</th>\n",
       "      <th>Year</th>\n",
       "      <th>ODA Received</th>\n",
       "      <th>Labor Force (%Population)</th>\n",
       "      <th>Debt Policy Rating</th>\n",
       "      <th>Life Expectancy (Years)</th>\n",
       "      <th>Trade (%GDP)</th>\n",
       "      <th>Inflation</th>\n",
       "      <th>FDI (%GDP)</th>\n",
       "      <th>GDP Recipient</th>\n",
       "      <th>Transparency_Accountability_Corruption_PublicSector_Rating</th>\n",
       "    </tr>\n",
       "    <tr>\n",
       "      <th>Year</th>\n",
       "      <th></th>\n",
       "      <th></th>\n",
       "      <th></th>\n",
       "      <th></th>\n",
       "      <th></th>\n",
       "      <th></th>\n",
       "      <th></th>\n",
       "      <th></th>\n",
       "      <th></th>\n",
       "      <th></th>\n",
       "      <th></th>\n",
       "    </tr>\n",
       "  </thead>\n",
       "  <tbody>\n",
       "    <tr>\n",
       "      <th>2010-01-01</th>\n",
       "      <td>Least developed countries: UN classification</td>\n",
       "      <td>2010-01-01</td>\n",
       "      <td>4.359978e+10</td>\n",
       "      <td>69.540799</td>\n",
       "      <td>3.244186</td>\n",
       "      <td>61.388934</td>\n",
       "      <td>59.462524</td>\n",
       "      <td>5.516113</td>\n",
       "      <td>2.738155</td>\n",
       "      <td>6.737312e+11</td>\n",
       "      <td>2.697674</td>\n",
       "    </tr>\n",
       "    <tr>\n",
       "      <th>2011-01-01</th>\n",
       "      <td>Least developed countries: UN classification</td>\n",
       "      <td>2011-01-01</td>\n",
       "      <td>4.454160e+10</td>\n",
       "      <td>69.322532</td>\n",
       "      <td>3.279070</td>\n",
       "      <td>61.967417</td>\n",
       "      <td>60.092158</td>\n",
       "      <td>6.788194</td>\n",
       "      <td>3.089478</td>\n",
       "      <td>7.762581e+11</td>\n",
       "      <td>2.744186</td>\n",
       "    </tr>\n",
       "    <tr>\n",
       "      <th>2012-01-01</th>\n",
       "      <td>Least developed countries: UN classification</td>\n",
       "      <td>2012-01-01</td>\n",
       "      <td>4.310961e+10</td>\n",
       "      <td>69.005682</td>\n",
       "      <td>3.222222</td>\n",
       "      <td>62.515322</td>\n",
       "      <td>58.581150</td>\n",
       "      <td>6.377979</td>\n",
       "      <td>3.679037</td>\n",
       "      <td>8.156883e+11</td>\n",
       "      <td>2.700000</td>\n",
       "    </tr>\n",
       "    <tr>\n",
       "      <th>2013-01-01</th>\n",
       "      <td>Least developed countries: UN classification</td>\n",
       "      <td>2013-01-01</td>\n",
       "      <td>4.790405e+10</td>\n",
       "      <td>68.762007</td>\n",
       "      <td>3.239130</td>\n",
       "      <td>63.030460</td>\n",
       "      <td>59.058796</td>\n",
       "      <td>5.580655</td>\n",
       "      <td>2.835302</td>\n",
       "      <td>8.938881e+11</td>\n",
       "      <td>2.684783</td>\n",
       "    </tr>\n",
       "    <tr>\n",
       "      <th>2014-01-01</th>\n",
       "      <td>Least developed countries: UN classification</td>\n",
       "      <td>2014-01-01</td>\n",
       "      <td>4.394857e+10</td>\n",
       "      <td>68.523144</td>\n",
       "      <td>3.288889</td>\n",
       "      <td>63.509032</td>\n",
       "      <td>56.225919</td>\n",
       "      <td>4.405352</td>\n",
       "      <td>3.069718</td>\n",
       "      <td>9.633496e+11</td>\n",
       "      <td>2.733333</td>\n",
       "    </tr>\n",
       "  </tbody>\n",
       "</table>\n",
       "</div>"
      ],
      "text/plain": [
       "                                            Country Name       Year  \\\n",
       "Year                                                                  \n",
       "2010-01-01  Least developed countries: UN classification 2010-01-01   \n",
       "2011-01-01  Least developed countries: UN classification 2011-01-01   \n",
       "2012-01-01  Least developed countries: UN classification 2012-01-01   \n",
       "2013-01-01  Least developed countries: UN classification 2013-01-01   \n",
       "2014-01-01  Least developed countries: UN classification 2014-01-01   \n",
       "\n",
       "            ODA Received  Labor Force (%Population)  Debt Policy Rating  \\\n",
       "Year                                                                      \n",
       "2010-01-01  4.359978e+10                  69.540799            3.244186   \n",
       "2011-01-01  4.454160e+10                  69.322532            3.279070   \n",
       "2012-01-01  4.310961e+10                  69.005682            3.222222   \n",
       "2013-01-01  4.790405e+10                  68.762007            3.239130   \n",
       "2014-01-01  4.394857e+10                  68.523144            3.288889   \n",
       "\n",
       "            Life Expectancy (Years)  Trade (%GDP)  Inflation  FDI (%GDP)  \\\n",
       "Year                                                                       \n",
       "2010-01-01                61.388934     59.462524   5.516113    2.738155   \n",
       "2011-01-01                61.967417     60.092158   6.788194    3.089478   \n",
       "2012-01-01                62.515322     58.581150   6.377979    3.679037   \n",
       "2013-01-01                63.030460     59.058796   5.580655    2.835302   \n",
       "2014-01-01                63.509032     56.225919   4.405352    3.069718   \n",
       "\n",
       "            GDP Recipient  \\\n",
       "Year                        \n",
       "2010-01-01   6.737312e+11   \n",
       "2011-01-01   7.762581e+11   \n",
       "2012-01-01   8.156883e+11   \n",
       "2013-01-01   8.938881e+11   \n",
       "2014-01-01   9.633496e+11   \n",
       "\n",
       "            Transparency_Accountability_Corruption_PublicSector_Rating  \n",
       "Year                                                                    \n",
       "2010-01-01                                           2.697674           \n",
       "2011-01-01                                           2.744186           \n",
       "2012-01-01                                           2.700000           \n",
       "2013-01-01                                           2.684783           \n",
       "2014-01-01                                           2.733333           "
      ]
     },
     "metadata": {},
     "output_type": "display_data"
    }
   ],
   "source": [
    "###Predicting for Least Developed Countries\n",
    "df_least[\"Year\"]=df_least[\"Year\"].astype(str)\n",
    "df_least.dtypes\n",
    "df_least[\"Year\"]=pd.to_datetime(df_least[\"Year\"])\n",
    "df_least.index=pd.DatetimeIndex(df_least[\"Year\"]) \n",
    "display(df_least.head())"
   ]
  },
  {
   "cell_type": "code",
   "execution_count": 100,
   "id": "91dd9773",
   "metadata": {},
   "outputs": [
    {
     "name": "stderr",
     "output_type": "stream",
     "text": [
      "/Users/barbaramuniz/opt/anaconda3/envs/ironh/lib/python3.10/site-packages/statsmodels/tsa/base/tsa_model.py:471: ValueWarning: No frequency information was provided, so inferred frequency AS-JAN will be used.\n",
      "  self._init_dates(dates, freq)\n",
      "/Users/barbaramuniz/opt/anaconda3/envs/ironh/lib/python3.10/site-packages/statsmodels/tsa/deterministic.py:302: UserWarning: Only PeriodIndexes, DatetimeIndexes with a frequency set, RangesIndexes, and Index with a unit increment support extending. The index is set will contain the position relative to the data length.\n",
      "  fcast_index = self._extend_index(index, steps, forecast_index)\n"
     ]
    },
    {
     "data": {
      "text/plain": [
       "2020-01-01    68.610012\n",
       "2021-01-01    68.588764\n",
       "2022-01-01    68.575203\n",
       "Freq: AS-JAN, dtype: float64"
      ]
     },
     "execution_count": 100,
     "metadata": {},
     "output_type": "execute_result"
    }
   ],
   "source": [
    "predict(df_least[\"Labor Force (%Population)\"])"
   ]
  },
  {
   "cell_type": "code",
   "execution_count": 101,
   "id": "539b798f",
   "metadata": {},
   "outputs": [
    {
     "name": "stderr",
     "output_type": "stream",
     "text": [
      "/Users/barbaramuniz/opt/anaconda3/envs/ironh/lib/python3.10/site-packages/statsmodels/tsa/base/tsa_model.py:471: ValueWarning: No frequency information was provided, so inferred frequency AS-JAN will be used.\n",
      "  self._init_dates(dates, freq)\n",
      "/Users/barbaramuniz/opt/anaconda3/envs/ironh/lib/python3.10/site-packages/statsmodels/tsa/deterministic.py:302: UserWarning: Only PeriodIndexes, DatetimeIndexes with a frequency set, RangesIndexes, and Index with a unit increment support extending. The index is set will contain the position relative to the data length.\n",
      "  fcast_index = self._extend_index(index, steps, forecast_index)\n"
     ]
    },
    {
     "data": {
      "text/plain": [
       "2020-01-01    3.070266\n",
       "2021-01-01    3.064987\n",
       "2022-01-01    3.060200\n",
       "Freq: AS-JAN, dtype: float64"
      ]
     },
     "execution_count": 101,
     "metadata": {},
     "output_type": "execute_result"
    }
   ],
   "source": [
    "predict(df_least[\"Debt Policy Rating\"])"
   ]
  },
  {
   "cell_type": "code",
   "execution_count": 102,
   "id": "a581ef17",
   "metadata": {},
   "outputs": [
    {
     "name": "stderr",
     "output_type": "stream",
     "text": [
      "/Users/barbaramuniz/opt/anaconda3/envs/ironh/lib/python3.10/site-packages/statsmodels/tsa/base/tsa_model.py:471: ValueWarning: No frequency information was provided, so inferred frequency AS-JAN will be used.\n",
      "  self._init_dates(dates, freq)\n",
      "/Users/barbaramuniz/opt/anaconda3/envs/ironh/lib/python3.10/site-packages/statsmodels/tsa/deterministic.py:302: UserWarning: Only PeriodIndexes, DatetimeIndexes with a frequency set, RangesIndexes, and Index with a unit increment support extending. The index is set will contain the position relative to the data length.\n",
      "  fcast_index = self._extend_index(index, steps, forecast_index)\n"
     ]
    },
    {
     "data": {
      "text/plain": [
       "2020-01-01    65.633860\n",
       "2021-01-01    65.900074\n",
       "2022-01-01    66.145773\n",
       "Freq: AS-JAN, dtype: float64"
      ]
     },
     "execution_count": 102,
     "metadata": {},
     "output_type": "execute_result"
    }
   ],
   "source": [
    "predict(df_least[\"Life Expectancy (Years)\"])"
   ]
  },
  {
   "cell_type": "code",
   "execution_count": 103,
   "id": "13aa5141",
   "metadata": {},
   "outputs": [
    {
     "name": "stderr",
     "output_type": "stream",
     "text": [
      "/Users/barbaramuniz/opt/anaconda3/envs/ironh/lib/python3.10/site-packages/statsmodels/tsa/base/tsa_model.py:471: ValueWarning: No frequency information was provided, so inferred frequency AS-JAN will be used.\n",
      "  self._init_dates(dates, freq)\n",
      "/Users/barbaramuniz/opt/anaconda3/envs/ironh/lib/python3.10/site-packages/statsmodels/tsa/deterministic.py:302: UserWarning: Only PeriodIndexes, DatetimeIndexes with a frequency set, RangesIndexes, and Index with a unit increment support extending. The index is set will contain the position relative to the data length.\n",
      "  fcast_index = self._extend_index(index, steps, forecast_index)\n"
     ]
    },
    {
     "data": {
      "text/plain": [
       "2020-01-01    51.758626\n",
       "2021-01-01    51.700579\n",
       "2022-01-01    51.655633\n",
       "Freq: AS-JAN, dtype: float64"
      ]
     },
     "execution_count": 103,
     "metadata": {},
     "output_type": "execute_result"
    }
   ],
   "source": [
    "predict(df_least[\"Trade (%GDP)\"])"
   ]
  },
  {
   "cell_type": "code",
   "execution_count": 104,
   "id": "5fd38695",
   "metadata": {},
   "outputs": [
    {
     "name": "stderr",
     "output_type": "stream",
     "text": [
      "/Users/barbaramuniz/opt/anaconda3/envs/ironh/lib/python3.10/site-packages/statsmodels/tsa/base/tsa_model.py:471: ValueWarning: No frequency information was provided, so inferred frequency AS-JAN will be used.\n",
      "  self._init_dates(dates, freq)\n",
      "/Users/barbaramuniz/opt/anaconda3/envs/ironh/lib/python3.10/site-packages/statsmodels/tsa/deterministic.py:302: UserWarning: Only PeriodIndexes, DatetimeIndexes with a frequency set, RangesIndexes, and Index with a unit increment support extending. The index is set will contain the position relative to the data length.\n",
      "  fcast_index = self._extend_index(index, steps, forecast_index)\n"
     ]
    },
    {
     "data": {
      "text/plain": [
       "2020-01-01    2.991315\n",
       "2021-01-01    3.091229\n",
       "2022-01-01    3.172907\n",
       "Freq: AS-JAN, dtype: float64"
      ]
     },
     "execution_count": 104,
     "metadata": {},
     "output_type": "execute_result"
    }
   ],
   "source": [
    "predict(df_least[\"Inflation\"])"
   ]
  },
  {
   "cell_type": "code",
   "execution_count": 105,
   "id": "b66f8f8f",
   "metadata": {},
   "outputs": [
    {
     "name": "stderr",
     "output_type": "stream",
     "text": [
      "/Users/barbaramuniz/opt/anaconda3/envs/ironh/lib/python3.10/site-packages/statsmodels/tsa/base/tsa_model.py:471: ValueWarning: No frequency information was provided, so inferred frequency AS-JAN will be used.\n",
      "  self._init_dates(dates, freq)\n",
      "/Users/barbaramuniz/opt/anaconda3/envs/ironh/lib/python3.10/site-packages/statsmodels/tsa/deterministic.py:302: UserWarning: Only PeriodIndexes, DatetimeIndexes with a frequency set, RangesIndexes, and Index with a unit increment support extending. The index is set will contain the position relative to the data length.\n",
      "  fcast_index = self._extend_index(index, steps, forecast_index)\n"
     ]
    },
    {
     "data": {
      "text/plain": [
       "2020-01-01    2.140239\n",
       "2021-01-01    2.343744\n",
       "2022-01-01    2.464378\n",
       "Freq: AS-JAN, dtype: float64"
      ]
     },
     "execution_count": 105,
     "metadata": {},
     "output_type": "execute_result"
    }
   ],
   "source": [
    "predict(df_least[\"FDI (%GDP)\"])"
   ]
  },
  {
   "cell_type": "code",
   "execution_count": 106,
   "id": "7fb8b1f4",
   "metadata": {},
   "outputs": [
    {
     "name": "stderr",
     "output_type": "stream",
     "text": [
      "/Users/barbaramuniz/opt/anaconda3/envs/ironh/lib/python3.10/site-packages/statsmodels/tsa/base/tsa_model.py:471: ValueWarning: No frequency information was provided, so inferred frequency AS-JAN will be used.\n",
      "  self._init_dates(dates, freq)\n",
      "/Users/barbaramuniz/opt/anaconda3/envs/ironh/lib/python3.10/site-packages/statsmodels/tsa/deterministic.py:302: UserWarning: Only PeriodIndexes, DatetimeIndexes with a frequency set, RangesIndexes, and Index with a unit increment support extending. The index is set will contain the position relative to the data length.\n",
      "  fcast_index = self._extend_index(index, steps, forecast_index)\n"
     ]
    },
    {
     "data": {
      "text/plain": [
       "2020-01-01    2.677281\n",
       "2021-01-01    2.682846\n",
       "2022-01-01    2.685021\n",
       "Freq: AS-JAN, dtype: float64"
      ]
     },
     "execution_count": 106,
     "metadata": {},
     "output_type": "execute_result"
    }
   ],
   "source": [
    "predict(df_least[\"Transparency_Accountability_Corruption_PublicSector_Rating\"])"
   ]
  },
  {
   "cell_type": "code",
   "execution_count": 143,
   "id": "2df4ebd8",
   "metadata": {
    "scrolled": true
   },
   "outputs": [
    {
     "data": {
      "text/plain": [
       "array([2.80158807e+13])"
      ]
     },
     "execution_count": 143,
     "metadata": {},
     "output_type": "execute_result"
    }
   ],
   "source": [
    "#Adding the results to our regression model:\n",
    "future_gdp_least = pd.DataFrame([{\"Year\":2022, 'FDI (%GDP)': 2.464378, 'ODA Received': (6.700170e+13)*0.007, 'Labor Force (%Population)':68.575203, 'Life Expectancy (Years)': 66.145773, 'Trade (%GDP)': 51.655633, 'Inflation': 3.172907, 'Transparency_Accountability_Corruption_PublicSector_Rating': 2.685021, 'Debt Policy Rating': 3.060200}])\n",
    "model_least.predict(future_gdp_least)"
   ]
  },
  {
   "cell_type": "code",
   "execution_count": 144,
   "id": "72645d1b",
   "metadata": {},
   "outputs": [
    {
     "data": {
      "text/plain": [
       "28015880700000.0"
      ]
     },
     "execution_count": 144,
     "metadata": {},
     "output_type": "execute_result"
    }
   ],
   "source": [
    "2.80158807e+13"
   ]
  },
  {
   "cell_type": "code",
   "execution_count": 108,
   "id": "aaed1f67",
   "metadata": {},
   "outputs": [
    {
     "data": {
      "text/plain": [
       "array([9.86211367e+12])"
      ]
     },
     "execution_count": 108,
     "metadata": {},
     "output_type": "execute_result"
    }
   ],
   "source": [
    "future_gdp_ODA_least = pd.DataFrame([{'ODA Received': (6.700170e+13)*0.007}])\n",
    "model_ODA_least.predict(future_gdp_ODA_least)"
   ]
  },
  {
   "cell_type": "code",
   "execution_count": null,
   "id": "d12d63dd",
   "metadata": {},
   "outputs": [],
   "source": []
  },
  {
   "cell_type": "code",
   "execution_count": null,
   "id": "360789ad",
   "metadata": {},
   "outputs": [],
   "source": []
  },
  {
   "cell_type": "code",
   "execution_count": 109,
   "id": "dfbe8ab4",
   "metadata": {},
   "outputs": [
    {
     "name": "stderr",
     "output_type": "stream",
     "text": [
      "/var/folders/j7/4yrzqvzn643dv0t5y434hfhw0000gn/T/ipykernel_31885/3510574458.py:3: FutureWarning: As the xlwt package is no longer maintained, the xlwt engine will be removed in a future version of pandas. This is the only engine in pandas that supports writing in the xls format. Install openpyxl and write to an xlsx file instead. You can set the option io.excel.xls.writer to 'xlwt' to silence this warning. While this option is deprecated and will also raise a warning, it can be globally set and the warning suppressed.\n",
      "  GDP_Total.to_excel(\"GDP Total.xls\")\n"
     ]
    }
   ],
   "source": []
  },
  {
   "cell_type": "code",
   "execution_count": null,
   "id": "dae6114a",
   "metadata": {},
   "outputs": [],
   "source": []
  },
  {
   "cell_type": "code",
   "execution_count": null,
   "id": "e2b256c3",
   "metadata": {},
   "outputs": [],
   "source": []
  },
  {
   "cell_type": "code",
   "execution_count": null,
   "id": "de73a499",
   "metadata": {},
   "outputs": [],
   "source": []
  },
  {
   "cell_type": "code",
   "execution_count": null,
   "id": "a57664d4",
   "metadata": {},
   "outputs": [],
   "source": []
  },
  {
   "cell_type": "code",
   "execution_count": 145,
   "id": "29a3ec89",
   "metadata": {},
   "outputs": [
    {
     "name": "stderr",
     "output_type": "stream",
     "text": [
      "/var/folders/j7/4yrzqvzn643dv0t5y434hfhw0000gn/T/ipykernel_31885/112039535.py:2: SettingWithCopyWarning: \n",
      "A value is trying to be set on a copy of a slice from a DataFrame.\n",
      "Try using .loc[row_indexer,col_indexer] = value instead\n",
      "\n",
      "See the caveats in the documentation: https://pandas.pydata.org/pandas-docs/stable/user_guide/indexing.html#returning-a-view-versus-a-copy\n",
      "  df_heavily[\"Year\"]=df_heavily[\"Year\"].astype(str)\n",
      "/var/folders/j7/4yrzqvzn643dv0t5y434hfhw0000gn/T/ipykernel_31885/112039535.py:4: SettingWithCopyWarning: \n",
      "A value is trying to be set on a copy of a slice from a DataFrame.\n",
      "Try using .loc[row_indexer,col_indexer] = value instead\n",
      "\n",
      "See the caveats in the documentation: https://pandas.pydata.org/pandas-docs/stable/user_guide/indexing.html#returning-a-view-versus-a-copy\n",
      "  df_heavily[\"Year\"]=pd.to_datetime(df_heavily[\"Year\"])\n"
     ]
    },
    {
     "data": {
      "text/html": [
       "<div>\n",
       "<style scoped>\n",
       "    .dataframe tbody tr th:only-of-type {\n",
       "        vertical-align: middle;\n",
       "    }\n",
       "\n",
       "    .dataframe tbody tr th {\n",
       "        vertical-align: top;\n",
       "    }\n",
       "\n",
       "    .dataframe thead th {\n",
       "        text-align: right;\n",
       "    }\n",
       "</style>\n",
       "<table border=\"1\" class=\"dataframe\">\n",
       "  <thead>\n",
       "    <tr style=\"text-align: right;\">\n",
       "      <th></th>\n",
       "      <th>Country Name</th>\n",
       "      <th>Year</th>\n",
       "      <th>ODA Received</th>\n",
       "      <th>Labor Force (%Population)</th>\n",
       "      <th>Debt Policy Rating</th>\n",
       "      <th>Life Expectancy (Years)</th>\n",
       "      <th>Trade (%GDP)</th>\n",
       "      <th>Inflation</th>\n",
       "      <th>FDI (%GDP)</th>\n",
       "      <th>GDP Recipient</th>\n",
       "      <th>Transparency_Accountability_Corruption_PublicSector_Rating</th>\n",
       "    </tr>\n",
       "    <tr>\n",
       "      <th>Year</th>\n",
       "      <th></th>\n",
       "      <th></th>\n",
       "      <th></th>\n",
       "      <th></th>\n",
       "      <th></th>\n",
       "      <th></th>\n",
       "      <th></th>\n",
       "      <th></th>\n",
       "      <th></th>\n",
       "      <th></th>\n",
       "      <th></th>\n",
       "    </tr>\n",
       "  </thead>\n",
       "  <tbody>\n",
       "    <tr>\n",
       "      <th>2010-01-01</th>\n",
       "      <td>Heavily indebted poor countries (HIPC)</td>\n",
       "      <td>2010-01-01</td>\n",
       "      <td>4.396860e+10</td>\n",
       "      <td>71.819260</td>\n",
       "      <td>3.236842</td>\n",
       "      <td>58.858947</td>\n",
       "      <td>63.986598</td>\n",
       "      <td>4.698891</td>\n",
       "      <td>4.701794</td>\n",
       "      <td>5.049254e+11</td>\n",
       "      <td>2.657895</td>\n",
       "    </tr>\n",
       "    <tr>\n",
       "      <th>2011-01-01</th>\n",
       "      <td>Heavily indebted poor countries (HIPC)</td>\n",
       "      <td>2011-01-01</td>\n",
       "      <td>4.415181e+10</td>\n",
       "      <td>71.509722</td>\n",
       "      <td>3.289474</td>\n",
       "      <td>59.528871</td>\n",
       "      <td>64.807763</td>\n",
       "      <td>6.429397</td>\n",
       "      <td>5.113431</td>\n",
       "      <td>5.594766e+11</td>\n",
       "      <td>2.723684</td>\n",
       "    </tr>\n",
       "    <tr>\n",
       "      <th>2012-01-01</th>\n",
       "      <td>Heavily indebted poor countries (HIPC)</td>\n",
       "      <td>2012-01-01</td>\n",
       "      <td>4.227316e+10</td>\n",
       "      <td>71.104553</td>\n",
       "      <td>3.342105</td>\n",
       "      <td>60.166565</td>\n",
       "      <td>65.010992</td>\n",
       "      <td>6.314745</td>\n",
       "      <td>5.664416</td>\n",
       "      <td>5.791418e+11</td>\n",
       "      <td>2.671053</td>\n",
       "    </tr>\n",
       "    <tr>\n",
       "      <th>2013-01-01</th>\n",
       "      <td>Heavily indebted poor countries (HIPC)</td>\n",
       "      <td>2013-01-01</td>\n",
       "      <td>4.059575e+10</td>\n",
       "      <td>70.923087</td>\n",
       "      <td>3.342105</td>\n",
       "      <td>60.770335</td>\n",
       "      <td>60.914579</td>\n",
       "      <td>5.161899</td>\n",
       "      <td>5.431110</td>\n",
       "      <td>6.500209e+11</td>\n",
       "      <td>2.697368</td>\n",
       "    </tr>\n",
       "    <tr>\n",
       "      <th>2014-01-01</th>\n",
       "      <td>Heavily indebted poor countries (HIPC)</td>\n",
       "      <td>2014-01-01</td>\n",
       "      <td>3.843234e+10</td>\n",
       "      <td>70.676531</td>\n",
       "      <td>3.394737</td>\n",
       "      <td>61.334314</td>\n",
       "      <td>58.213004</td>\n",
       "      <td>3.969860</td>\n",
       "      <td>4.283609</td>\n",
       "      <td>6.877721e+11</td>\n",
       "      <td>2.736842</td>\n",
       "    </tr>\n",
       "  </tbody>\n",
       "</table>\n",
       "</div>"
      ],
      "text/plain": [
       "                                      Country Name       Year  ODA Received  \\\n",
       "Year                                                                          \n",
       "2010-01-01  Heavily indebted poor countries (HIPC) 2010-01-01  4.396860e+10   \n",
       "2011-01-01  Heavily indebted poor countries (HIPC) 2011-01-01  4.415181e+10   \n",
       "2012-01-01  Heavily indebted poor countries (HIPC) 2012-01-01  4.227316e+10   \n",
       "2013-01-01  Heavily indebted poor countries (HIPC) 2013-01-01  4.059575e+10   \n",
       "2014-01-01  Heavily indebted poor countries (HIPC) 2014-01-01  3.843234e+10   \n",
       "\n",
       "            Labor Force (%Population)  Debt Policy Rating  \\\n",
       "Year                                                        \n",
       "2010-01-01                  71.819260            3.236842   \n",
       "2011-01-01                  71.509722            3.289474   \n",
       "2012-01-01                  71.104553            3.342105   \n",
       "2013-01-01                  70.923087            3.342105   \n",
       "2014-01-01                  70.676531            3.394737   \n",
       "\n",
       "            Life Expectancy (Years)  Trade (%GDP)  Inflation  FDI (%GDP)  \\\n",
       "Year                                                                       \n",
       "2010-01-01                58.858947     63.986598   4.698891    4.701794   \n",
       "2011-01-01                59.528871     64.807763   6.429397    5.113431   \n",
       "2012-01-01                60.166565     65.010992   6.314745    5.664416   \n",
       "2013-01-01                60.770335     60.914579   5.161899    5.431110   \n",
       "2014-01-01                61.334314     58.213004   3.969860    4.283609   \n",
       "\n",
       "            GDP Recipient  \\\n",
       "Year                        \n",
       "2010-01-01   5.049254e+11   \n",
       "2011-01-01   5.594766e+11   \n",
       "2012-01-01   5.791418e+11   \n",
       "2013-01-01   6.500209e+11   \n",
       "2014-01-01   6.877721e+11   \n",
       "\n",
       "            Transparency_Accountability_Corruption_PublicSector_Rating  \n",
       "Year                                                                    \n",
       "2010-01-01                                           2.657895           \n",
       "2011-01-01                                           2.723684           \n",
       "2012-01-01                                           2.671053           \n",
       "2013-01-01                                           2.697368           \n",
       "2014-01-01                                           2.736842           "
      ]
     },
     "metadata": {},
     "output_type": "display_data"
    }
   ],
   "source": [
    "###Predicting for Heavily Indebt Countries\n",
    "df_heavily[\"Year\"]=df_heavily[\"Year\"].astype(str)\n",
    "df_heavily.dtypes\n",
    "df_heavily[\"Year\"]=pd.to_datetime(df_heavily[\"Year\"])\n",
    "df_heavily.index=pd.DatetimeIndex(df_heavily[\"Year\"]) \n",
    "display(df_heavily.head())"
   ]
  },
  {
   "cell_type": "code",
   "execution_count": 146,
   "id": "9d4304ca",
   "metadata": {},
   "outputs": [
    {
     "name": "stderr",
     "output_type": "stream",
     "text": [
      "/Users/barbaramuniz/opt/anaconda3/envs/ironh/lib/python3.10/site-packages/statsmodels/tsa/base/tsa_model.py:471: ValueWarning: No frequency information was provided, so inferred frequency AS-JAN will be used.\n",
      "  self._init_dates(dates, freq)\n",
      "/Users/barbaramuniz/opt/anaconda3/envs/ironh/lib/python3.10/site-packages/statsmodels/tsa/deterministic.py:302: UserWarning: Only PeriodIndexes, DatetimeIndexes with a frequency set, RangesIndexes, and Index with a unit increment support extending. The index is set will contain the position relative to the data length.\n",
      "  fcast_index = self._extend_index(index, steps, forecast_index)\n"
     ]
    },
    {
     "data": {
      "text/plain": [
       "2020-01-01    70.155438\n",
       "2021-01-01    70.114772\n",
       "2022-01-01    70.082526\n",
       "Freq: AS-JAN, dtype: float64"
      ]
     },
     "execution_count": 146,
     "metadata": {},
     "output_type": "execute_result"
    }
   ],
   "source": [
    "predict(df_heavily[\"Labor Force (%Population)\"])"
   ]
  },
  {
   "cell_type": "code",
   "execution_count": 147,
   "id": "5407c0f5",
   "metadata": {},
   "outputs": [
    {
     "name": "stderr",
     "output_type": "stream",
     "text": [
      "/Users/barbaramuniz/opt/anaconda3/envs/ironh/lib/python3.10/site-packages/statsmodels/tsa/base/tsa_model.py:471: ValueWarning: No frequency information was provided, so inferred frequency AS-JAN will be used.\n",
      "  self._init_dates(dates, freq)\n",
      "/Users/barbaramuniz/opt/anaconda3/envs/ironh/lib/python3.10/site-packages/statsmodels/tsa/deterministic.py:302: UserWarning: Only PeriodIndexes, DatetimeIndexes with a frequency set, RangesIndexes, and Index with a unit increment support extending. The index is set will contain the position relative to the data length.\n",
      "  fcast_index = self._extend_index(index, steps, forecast_index)\n"
     ]
    },
    {
     "data": {
      "text/plain": [
       "2020-01-01    3.111772\n",
       "2021-01-01    3.105384\n",
       "2022-01-01    3.099249\n",
       "Freq: AS-JAN, dtype: float64"
      ]
     },
     "execution_count": 147,
     "metadata": {},
     "output_type": "execute_result"
    }
   ],
   "source": [
    "predict(df_heavily[\"Debt Policy Rating\"])"
   ]
  },
  {
   "cell_type": "code",
   "execution_count": 148,
   "id": "b6ce62e6",
   "metadata": {},
   "outputs": [
    {
     "name": "stderr",
     "output_type": "stream",
     "text": [
      "/Users/barbaramuniz/opt/anaconda3/envs/ironh/lib/python3.10/site-packages/statsmodels/tsa/base/tsa_model.py:471: ValueWarning: No frequency information was provided, so inferred frequency AS-JAN will be used.\n",
      "  self._init_dates(dates, freq)\n",
      "/Users/barbaramuniz/opt/anaconda3/envs/ironh/lib/python3.10/site-packages/statsmodels/tsa/deterministic.py:302: UserWarning: Only PeriodIndexes, DatetimeIndexes with a frequency set, RangesIndexes, and Index with a unit increment support extending. The index is set will contain the position relative to the data length.\n",
      "  fcast_index = self._extend_index(index, steps, forecast_index)\n"
     ]
    },
    {
     "data": {
      "text/plain": [
       "2020-01-01    63.825477\n",
       "2021-01-01    64.138631\n",
       "2022-01-01    64.427892\n",
       "Freq: AS-JAN, dtype: float64"
      ]
     },
     "execution_count": 148,
     "metadata": {},
     "output_type": "execute_result"
    }
   ],
   "source": [
    "predict(df_heavily[\"Life Expectancy (Years)\"])"
   ]
  },
  {
   "cell_type": "code",
   "execution_count": 149,
   "id": "eeffd955",
   "metadata": {},
   "outputs": [
    {
     "name": "stderr",
     "output_type": "stream",
     "text": [
      "/Users/barbaramuniz/opt/anaconda3/envs/ironh/lib/python3.10/site-packages/statsmodels/tsa/base/tsa_model.py:471: ValueWarning: No frequency information was provided, so inferred frequency AS-JAN will be used.\n",
      "  self._init_dates(dates, freq)\n",
      "/Users/barbaramuniz/opt/anaconda3/envs/ironh/lib/python3.10/site-packages/statsmodels/tsa/deterministic.py:302: UserWarning: Only PeriodIndexes, DatetimeIndexes with a frequency set, RangesIndexes, and Index with a unit increment support extending. The index is set will contain the position relative to the data length.\n",
      "  fcast_index = self._extend_index(index, steps, forecast_index)\n"
     ]
    },
    {
     "data": {
      "text/plain": [
       "2020-01-01    52.669787\n",
       "2021-01-01    52.040861\n",
       "2022-01-01    51.468674\n",
       "Freq: AS-JAN, dtype: float64"
      ]
     },
     "execution_count": 149,
     "metadata": {},
     "output_type": "execute_result"
    }
   ],
   "source": [
    "predict(df_heavily[\"Trade (%GDP)\"])"
   ]
  },
  {
   "cell_type": "code",
   "execution_count": 150,
   "id": "bfa18c19",
   "metadata": {},
   "outputs": [
    {
     "name": "stderr",
     "output_type": "stream",
     "text": [
      "/Users/barbaramuniz/opt/anaconda3/envs/ironh/lib/python3.10/site-packages/statsmodels/tsa/base/tsa_model.py:471: ValueWarning: No frequency information was provided, so inferred frequency AS-JAN will be used.\n",
      "  self._init_dates(dates, freq)\n",
      "/Users/barbaramuniz/opt/anaconda3/envs/ironh/lib/python3.10/site-packages/statsmodels/tsa/deterministic.py:302: UserWarning: Only PeriodIndexes, DatetimeIndexes with a frequency set, RangesIndexes, and Index with a unit increment support extending. The index is set will contain the position relative to the data length.\n",
      "  fcast_index = self._extend_index(index, steps, forecast_index)\n"
     ]
    },
    {
     "data": {
      "text/plain": [
       "2020-01-01    3.109179\n",
       "2021-01-01    3.402097\n",
       "2022-01-01    3.604552\n",
       "Freq: AS-JAN, dtype: float64"
      ]
     },
     "execution_count": 150,
     "metadata": {},
     "output_type": "execute_result"
    }
   ],
   "source": [
    "predict(df_heavily[\"Inflation\"])"
   ]
  },
  {
   "cell_type": "code",
   "execution_count": 151,
   "id": "754a99fd",
   "metadata": {},
   "outputs": [
    {
     "name": "stderr",
     "output_type": "stream",
     "text": [
      "/Users/barbaramuniz/opt/anaconda3/envs/ironh/lib/python3.10/site-packages/statsmodels/tsa/base/tsa_model.py:471: ValueWarning: No frequency information was provided, so inferred frequency AS-JAN will be used.\n",
      "  self._init_dates(dates, freq)\n",
      "/Users/barbaramuniz/opt/anaconda3/envs/ironh/lib/python3.10/site-packages/statsmodels/tsa/deterministic.py:302: UserWarning: Only PeriodIndexes, DatetimeIndexes with a frequency set, RangesIndexes, and Index with a unit increment support extending. The index is set will contain the position relative to the data length.\n",
      "  fcast_index = self._extend_index(index, steps, forecast_index)\n"
     ]
    },
    {
     "data": {
      "text/plain": [
       "2020-01-01    3.523087\n",
       "2021-01-01    3.604336\n",
       "2022-01-01    3.668436\n",
       "Freq: AS-JAN, dtype: float64"
      ]
     },
     "execution_count": 151,
     "metadata": {},
     "output_type": "execute_result"
    }
   ],
   "source": [
    "predict(df_heavily[\"FDI (%GDP)\"])"
   ]
  },
  {
   "cell_type": "code",
   "execution_count": 152,
   "id": "ed84068a",
   "metadata": {},
   "outputs": [
    {
     "name": "stderr",
     "output_type": "stream",
     "text": [
      "/Users/barbaramuniz/opt/anaconda3/envs/ironh/lib/python3.10/site-packages/statsmodels/tsa/base/tsa_model.py:471: ValueWarning: No frequency information was provided, so inferred frequency AS-JAN will be used.\n",
      "  self._init_dates(dates, freq)\n",
      "/Users/barbaramuniz/opt/anaconda3/envs/ironh/lib/python3.10/site-packages/statsmodels/tsa/deterministic.py:302: UserWarning: Only PeriodIndexes, DatetimeIndexes with a frequency set, RangesIndexes, and Index with a unit increment support extending. The index is set will contain the position relative to the data length.\n",
      "  fcast_index = self._extend_index(index, steps, forecast_index)\n"
     ]
    },
    {
     "data": {
      "text/plain": [
       "2020-01-01    2.676366\n",
       "2021-01-01    2.680820\n",
       "2022-01-01    2.681894\n",
       "Freq: AS-JAN, dtype: float64"
      ]
     },
     "execution_count": 152,
     "metadata": {},
     "output_type": "execute_result"
    }
   ],
   "source": [
    "predict(df_heavily[\"Transparency_Accountability_Corruption_PublicSector_Rating\"])"
   ]
  },
  {
   "cell_type": "code",
   "execution_count": 153,
   "id": "d2c2f5b2",
   "metadata": {},
   "outputs": [
    {
     "data": {
      "text/plain": [
       "array([1.68162578e+13])"
      ]
     },
     "execution_count": 153,
     "metadata": {},
     "output_type": "execute_result"
    }
   ],
   "source": [
    "#Adding the results to our regression model:\n",
    "future_gdp_heavily = pd.DataFrame([{\"Year\":2022, 'FDI (%GDP)': 3.668436, 'ODA Received': (6.700170e+13)*0.007, 'Labor Force (%Population)':70.082526, 'Life Expectancy (Years)': 64.427892, 'Trade (%GDP)': 51.468674, 'Inflation': 3.604552, 'Transparency_Accountability_Corruption_PublicSector_Rating': 2.681894, 'Debt Policy Rating': 3.099249}])\n",
    "model_heavily.predict(future_gdp_heavily)"
   ]
  },
  {
   "cell_type": "code",
   "execution_count": 155,
   "id": "2305ccbd",
   "metadata": {},
   "outputs": [
    {
     "data": {
      "text/plain": [
       "16816257800000.0"
      ]
     },
     "execution_count": 155,
     "metadata": {},
     "output_type": "execute_result"
    }
   ],
   "source": [
    "1.68162578e+13"
   ]
  },
  {
   "cell_type": "code",
   "execution_count": 154,
   "id": "68c561d8",
   "metadata": {},
   "outputs": [
    {
     "data": {
      "text/plain": [
       "array([-3.83648277e+12])"
      ]
     },
     "execution_count": 154,
     "metadata": {},
     "output_type": "execute_result"
    }
   ],
   "source": [
    "future_gdp_ODA_heavily = pd.DataFrame([{'ODA Received': (6.700170e+13)*0.007}])\n",
    "model_ODA_heavily.predict(future_gdp_ODA_heavily)"
   ]
  },
  {
   "cell_type": "code",
   "execution_count": null,
   "id": "e91b0626",
   "metadata": {},
   "outputs": [],
   "source": []
  },
  {
   "cell_type": "code",
   "execution_count": null,
   "id": "73c5d964",
   "metadata": {},
   "outputs": [],
   "source": []
  },
  {
   "cell_type": "code",
   "execution_count": null,
   "id": "c2f9d17d",
   "metadata": {},
   "outputs": [],
   "source": []
  },
  {
   "cell_type": "code",
   "execution_count": null,
   "id": "5083e5df",
   "metadata": {},
   "outputs": [],
   "source": []
  },
  {
   "cell_type": "code",
   "execution_count": null,
   "id": "d553f046",
   "metadata": {},
   "outputs": [],
   "source": [
    "##Ploting my values and regression lines"
   ]
  },
  {
   "cell_type": "code",
   "execution_count": null,
   "id": "de4e8a4f",
   "metadata": {},
   "outputs": [],
   "source": [
    "##First 3d: analysing open market economy features"
   ]
  },
  {
   "cell_type": "code",
   "execution_count": null,
   "id": "e0752db0",
   "metadata": {},
   "outputs": [],
   "source": [
    "#Fragile countries"
   ]
  },
  {
   "cell_type": "code",
   "execution_count": 110,
   "id": "7eaf7fe5",
   "metadata": {},
   "outputs": [
    {
     "data": {
      "image/png": "[encoded data removed]",
      "text/plain": [
       "<Figure size 432x288 with 1 Axes>"
      ]
     },
     "metadata": {
      "needs_background": "light"
     },
     "output_type": "display_data"
    }
   ],
   "source": [
    "fig = plt.figure()\n",
    "ax = fig.add_subplot(111, projection='3d')\n",
    "\n",
    "\n",
    "ax.scatter(df_fragile[\"Trade (%GDP)\"], df_fragile[\"GDP Recipient\"], df_fragile[\"FDI (%GDP)\"], c='red')\n",
    "\n",
    "# Linear regression\n",
    "X = df_fragile[[\"Trade (%GDP)\", \"GDP Recipient\", \"FDI (%GDP)\"]].values\n",
    "Xlen = X.shape[0]\n",
    "avgPointCloud = 1 / Xlen * np.array([np.sum(X[:, 0]), np.sum(X[:, 1]), np.sum(X[:, 2])])\n",
    "Xmean = X - avgPointCloud\n",
    "\n",
    "cov = 1 / Xlen * X.T.dot(Xmean)\n",
    "\n",
    "t = np.arange(-5, 5, 1)\n",
    "linearReg = avgPointCloud + cov[:, 0] * np.vstack(t)\n",
    "\n",
    "ax.plot(linearReg[:, 0], linearReg[:, 1], linearReg[:, 2], 'orange', label='Linear Regression for Fragile and conflict affected situations')\n",
    "ax.legend()\n",
    "\n",
    "plt.show()"
   ]
  },
  {
   "cell_type": "code",
   "execution_count": 111,
   "id": "30f4bf39",
   "metadata": {},
   "outputs": [
    {
     "data": {
      "image/png": "[encoded data removed]",
      "text/plain": [
       "<Figure size 432x288 with 1 Axes>"
      ]
     },
     "metadata": {
      "needs_background": "light"
     },
     "output_type": "display_data"
    }
   ],
   "source": [
    "#Low income countries\n",
    "\n",
    "fig = plt.figure()\n",
    "ax = fig.add_subplot(111, projection='3d')\n",
    "\n",
    "\n",
    "ax.scatter(df_low[\"Trade (%GDP)\"], df_low[\"GDP Recipient\"], df_low[\"FDI (%GDP)\"], c='red')\n",
    "\n",
    "# Linear regression\n",
    "X = df_low[[\"Trade (%GDP)\", \"GDP Recipient\", \"FDI (%GDP)\"]].values\n",
    "Xlen = X.shape[0]\n",
    "avgPointCloud = 1 / Xlen * np.array([np.sum(X[:, 0]), np.sum(X[:, 1]), np.sum(X[:, 2])])\n",
    "Xmean = X - avgPointCloud\n",
    "\n",
    "cov = 1 / Xlen * X.T.dot(Xmean)\n",
    "\n",
    "t = np.arange(-5, 5, 1)\n",
    "linearReg = avgPointCloud + cov[:, 0] * np.vstack(t)\n",
    "\n",
    "ax.plot(linearReg[:, 0], linearReg[:, 1], linearReg[:, 2], 'orange', label='Linear Regression for Low Income Countries')\n",
    "ax.legend()\n",
    "\n",
    "plt.show()"
   ]
  },
  {
   "cell_type": "code",
   "execution_count": 112,
   "id": "200aa1d4",
   "metadata": {},
   "outputs": [
    {
     "data": {
      "image/png": "[encoded data removed]",
      "text/plain": [
       "<Figure size 432x288 with 1 Axes>"
      ]
     },
     "metadata": {
      "needs_background": "light"
     },
     "output_type": "display_data"
    }
   ],
   "source": [
    "#Least developed countries\n",
    "\n",
    "fig = plt.figure()\n",
    "ax = fig.add_subplot(111, projection='3d')\n",
    "\n",
    "\n",
    "ax.scatter(df_least[\"Trade (%GDP)\"], df_least[\"GDP Recipient\"], df_least[\"FDI (%GDP)\"], c='red')\n",
    "\n",
    "# Linear regression\n",
    "X = df_least[[\"Trade (%GDP)\", \"GDP Recipient\", \"FDI (%GDP)\"]].values\n",
    "Xlen = X.shape[0]\n",
    "avgPointCloud = 1 / Xlen * np.array([np.sum(X[:, 0]), np.sum(X[:, 1]), np.sum(X[:, 2])])\n",
    "Xmean = X - avgPointCloud\n",
    "\n",
    "cov = 1 / Xlen * X.T.dot(Xmean)\n",
    "\n",
    "t = np.arange(-5, 5, 1)\n",
    "linearReg = avgPointCloud + cov[:, 0] * np.vstack(t)\n",
    "\n",
    "ax.plot(linearReg[:, 0], linearReg[:, 1], linearReg[:, 2], 'orange', label='Linear Regression for Least Developed Countries')\n",
    "ax.legend()\n",
    "\n",
    "plt.show()"
   ]
  },
  {
   "cell_type": "code",
   "execution_count": 113,
   "id": "f3e7fac8",
   "metadata": {},
   "outputs": [
    {
     "data": {
      "image/png": "[encoded data removed]",
      "text/plain": [
       "<Figure size 432x288 with 1 Axes>"
      ]
     },
     "metadata": {
      "needs_background": "light"
     },
     "output_type": "display_data"
    }
   ],
   "source": [
    "#Lower middle\n",
    "\n",
    "fig = plt.figure()\n",
    "ax = fig.add_subplot(111, projection='3d')\n",
    "\n",
    "\n",
    "ax.scatter(df_lowermiddle[\"Trade (%GDP)\"], df_lowermiddle[\"GDP Recipient\"], df_lowermiddle[\"FDI (%GDP)\"], c='red')\n",
    "\n",
    "# Linear regression\n",
    "X = df_lowermiddle[[\"Trade (%GDP)\", \"GDP Recipient\", \"FDI (%GDP)\"]].values\n",
    "Xlen = X.shape[0]\n",
    "avgPointCloud = 1 / Xlen * np.array([np.sum(X[:, 0]), np.sum(X[:, 1]), np.sum(X[:, 2])])\n",
    "Xmean = X - avgPointCloud\n",
    "\n",
    "cov = 1 / Xlen * X.T.dot(Xmean)\n",
    "\n",
    "t = np.arange(-5, 5, 1)\n",
    "linearReg = avgPointCloud + cov[:, 0] * np.vstack(t)\n",
    "\n",
    "ax.plot(linearReg[:, 0], linearReg[:, 1], linearReg[:, 2], 'orange', label='Linear Regression for Lower Middle Income Countries')\n",
    "ax.legend()\n",
    "\n",
    "plt.show()"
   ]
  },
  {
   "cell_type": "code",
   "execution_count": 114,
   "id": "41075e11",
   "metadata": {},
   "outputs": [
    {
     "data": {
      "image/png": "[encoded data removed]",
      "text/plain": [
       "<Figure size 432x288 with 1 Axes>"
      ]
     },
     "metadata": {
      "needs_background": "light"
     },
     "output_type": "display_data"
    }
   ],
   "source": [
    "#Heavily\n",
    "\n",
    "\n",
    "fig = plt.figure()\n",
    "ax = fig.add_subplot(111, projection='3d')\n",
    "\n",
    "\n",
    "ax.scatter(df_heavily[\"Trade (%GDP)\"], df_heavily[\"GDP Recipient\"], df_heavily[\"FDI (%GDP)\"], c='red')\n",
    "\n",
    "# Linear regression\n",
    "X = df_heavily[[\"Trade (%GDP)\", \"GDP Recipient\", \"FDI (%GDP)\"]].values\n",
    "Xlen = X.shape[0]\n",
    "avgPointCloud = 1 / Xlen * np.array([np.sum(X[:, 0]), np.sum(X[:, 1]), np.sum(X[:, 2])])\n",
    "Xmean = X - avgPointCloud\n",
    "\n",
    "cov = 1 / Xlen * X.T.dot(Xmean)\n",
    "\n",
    "t = np.arange(-5, 5, 1)\n",
    "linearReg = avgPointCloud + cov[:, 0] * np.vstack(t)\n",
    "\n",
    "ax.plot(linearReg[:, 0], linearReg[:, 1], linearReg[:, 2], 'orange', label='Linear Regression for Lower Middle Income Countries')\n",
    "ax.legend()\n",
    "\n",
    "plt.show()"
   ]
  },
  {
   "cell_type": "code",
   "execution_count": null,
   "id": "8d80f69b",
   "metadata": {},
   "outputs": [],
   "source": []
  },
  {
   "cell_type": "code",
   "execution_count": 115,
   "id": "9d43e127",
   "metadata": {},
   "outputs": [],
   "source": []
  },
  {
   "cell_type": "code",
   "execution_count": null,
   "id": "91ad31a6",
   "metadata": {},
   "outputs": [],
   "source": [
    "##Creating a file for all gdp\n",
    "GDP_Total=pd.read_excel(\"GDP Recipient.xls\")\n",
    "GDP_Total=pd.melt(GDP_Total, id_vars=['Country Name'])\n",
    "GDP_Total.to_excel(\"GDP Total.xls\")"
   ]
  },
  {
   "cell_type": "code",
   "execution_count": null,
   "id": "f376147b",
   "metadata": {},
   "outputs": [],
   "source": []
  },
  {
   "cell_type": "code",
   "execution_count": null,
   "id": "57ad62a5",
   "metadata": {},
   "outputs": [],
   "source": []
  },
  {
   "cell_type": "code",
   "execution_count": null,
   "id": "1a783154",
   "metadata": {},
   "outputs": [],
   "source": []
  },
  {
   "cell_type": "code",
   "execution_count": null,
   "id": "cb5f4848",
   "metadata": {},
   "outputs": [],
   "source": []
  },
  {
   "cell_type": "code",
   "execution_count": null,
   "id": "37520cd4",
   "metadata": {},
   "outputs": [],
   "source": []
  },
  {
   "cell_type": "code",
   "execution_count": null,
   "id": "0f038568",
   "metadata": {},
   "outputs": [],
   "source": []
  }
 ],
 "metadata": {
  "kernelspec": {
   "display_name": "Python 3 (ipykernel)",
   "language": "python",
   "name": "python3"
  },
  "language_info": {
   "codemirror_mode": {
    "name": "ipython",
    "version": 3
   },
   "file_extension": ".py",
   "mimetype": "text/x-python",
   "name": "python",
   "nbconvert_exporter": "python",
   "pygments_lexer": "ipython3",
   "version": "3.10.2"
  }
 },
 "nbformat": 4,
 "nbformat_minor": 5
}
